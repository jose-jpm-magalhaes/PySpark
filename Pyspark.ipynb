{
  "cells": [
    {
      "cell_type": "markdown",
      "source": [
        "## **PySpark**\n",
        "<br>"
      ],
      "metadata": {
        "id": "H7v_LGmOsU10"
      }
    },
    {
      "cell_type": "markdown",
      "source": [
        "### - **Dataset**: the data is the **labeled training set** (train.csv) **publicly available** on \"Titanic - Machine Learning from Disaster\" webpage and **you can download** it [here](https://www.kaggle.com/c/titanic/data?select=train.csv). <br>\n"
      ],
      "metadata": {
        "id": "tLkB5KUne2o8"
      }
    },
    {
      "cell_type": "markdown",
      "source": [
        "### - **Objective**:  **create a ML model with PySpark** that **predicts which passengers survived the sinking of the Titanic**.\n",
        "\n",
        "- **Note**: we will **only use the original training set (which will be split into train and test sets) because it is labeled** and we do **want to evaluate the performance of our model**; the **original test set**, on the contrary, is **unlabeled**.<br><br>\n",
        "\n"
      ],
      "metadata": {
        "id": "E6cWn6nffOwE"
      }
    },
    {
      "cell_type": "markdown",
      "source": [
        "### **Tasks**: \n",
        "- - - \n",
        "- **EDA** \n",
        "- **Feature Selection**\n",
        "- **Feature Engineering**\n",
        "- **Train-Test Split** (**within** the **training set**)\n",
        "- **Pipeline** \n",
        "- **Classification: baseline model and hyperparameter tuning  with CrossValidator**\n",
        "- - - \n",
        "<br><br>\n",
        "\n",
        "\n"
      ],
      "metadata": {
        "application/vnd.databricks.v1+cell": {
          "title": "",
          "showTitle": false,
          "inputWidgets": {},
          "nuid": "24cab443-c0c2-46d5-8dd4-3371fdea1450"
        },
        "id": "p0iHxZdNsItG"
      }
    },
    {
      "cell_type": "markdown",
      "source": [
        "#### **Import** most of the required **libraries**"
      ],
      "metadata": {
        "application/vnd.databricks.v1+cell": {
          "title": "",
          "showTitle": false,
          "inputWidgets": {},
          "nuid": "80cc80fd-8652-4a5d-ad36-04291c10eac4"
        },
        "id": "5-rxsmKpsItH"
      }
    },
    {
      "cell_type": "code",
      "source": [
        "from pyspark.sql.types import StructType, StructField, IntegerType\n",
        "from pyspark.sql.functions import isnan, when, col,count,lit, regexp_extract, mean, avg, split\n",
        "from pyspark.ml.feature import StringIndexer\n",
        "from pyspark.ml.feature import OneHotEncoder\n",
        "from pyspark.ml.feature import VectorAssembler\n",
        "from pyspark.ml import Pipeline\n",
        "import warnings\n",
        "warnings.filterwarnings(\"ignore\", category=DeprecationWarning) "
      ],
      "metadata": {
        "application/vnd.databricks.v1+cell": {
          "title": "",
          "showTitle": false,
          "inputWidgets": {},
          "nuid": "a35bb00d-195f-437f-830a-4f572fffda37"
        },
        "id": "88S9rIj6sItI"
      },
      "outputs": [],
      "execution_count": null
    },
    {
      "cell_type": "markdown",
      "source": [
        "#### **Read** the **file**<br>\n"
      ],
      "metadata": {
        "application/vnd.databricks.v1+cell": {
          "title": "",
          "showTitle": false,
          "inputWidgets": {},
          "nuid": "5e56db14-4a68-4ddc-86dc-07c464b2e885"
        },
        "id": "bgZT0esAsItJ"
      }
    },
    {
      "cell_type": "code",
      "source": [
        "# File location and type\n",
        "file_location = \"/FileStore/tables/train.csv\"\n",
        "file_type = \"csv\"\n",
        "\n",
        "# CSV options\n",
        "infer_schema = \"true\"\n",
        "first_row_is_header = \"true\"\n",
        "delimiter = \",\"\n",
        "\n",
        "df = spark.read.format(file_type) \\\n",
        "  .option(\"inferSchema\", infer_schema) \\\n",
        "  .option(\"header\", first_row_is_header) \\\n",
        "  .option(\"sep\", delimiter) \\\n",
        "  .load(file_location)\n",
        "\n"
      ],
      "metadata": {
        "application/vnd.databricks.v1+cell": {
          "title": "",
          "showTitle": false,
          "inputWidgets": {},
          "nuid": "6482be4c-f067-47c9-b0ac-35c938b94601"
        },
        "id": "0cShLQqlsItJ"
      },
      "outputs": [],
      "execution_count": null
    },
    {
      "cell_type": "code",
      "source": [
        "df.show(10)"
      ],
      "metadata": {
        "application/vnd.databricks.v1+cell": {
          "title": "",
          "showTitle": false,
          "inputWidgets": {},
          "nuid": "be377cb7-d34a-49d9-a182-ae8f8da755d7"
        },
        "id": "NvhPnslIsItJ",
        "outputId": "8a68b890-fe3c-415c-afc3-b699f60cb6c7"
      },
      "outputs": [
        {
          "output_type": "display_data",
          "metadata": {
            "application/vnd.databricks.v1+output": {
              "datasetInfos": [],
              "data": "+-----------+--------+------+--------------------+------+----+-----+-----+----------------+-------+-----+--------+\n|PassengerId|Survived|Pclass|                Name|   Sex| Age|SibSp|Parch|          Ticket|   Fare|Cabin|Embarked|\n+-----------+--------+------+--------------------+------+----+-----+-----+----------------+-------+-----+--------+\n|          1|       0|     3|Braund, Mr. Owen ...|  male|22.0|    1|    0|       A/5 21171|   7.25| null|       S|\n|          2|       1|     1|Cumings, Mrs. Joh...|female|38.0|    1|    0|        PC 17599|71.2833|  C85|       C|\n|          3|       1|     3|Heikkinen, Miss. ...|female|26.0|    0|    0|STON/O2. 3101282|  7.925| null|       S|\n|          4|       1|     1|Futrelle, Mrs. Ja...|female|35.0|    1|    0|          113803|   53.1| C123|       S|\n|          5|       0|     3|Allen, Mr. Willia...|  male|35.0|    0|    0|          373450|   8.05| null|       S|\n|          6|       0|     3|    Moran, Mr. James|  male|null|    0|    0|          330877| 8.4583| null|       Q|\n|          7|       0|     1|McCarthy, Mr. Tim...|  male|54.0|    0|    0|           17463|51.8625|  E46|       S|\n|          8|       0|     3|Palsson, Master. ...|  male| 2.0|    3|    1|          349909| 21.075| null|       S|\n|          9|       1|     3|Johnson, Mrs. Osc...|female|27.0|    0|    2|          347742|11.1333| null|       S|\n|         10|       1|     2|Nasser, Mrs. Nich...|female|14.0|    1|    0|          237736|30.0708| null|       C|\n+-----------+--------+------+--------------------+------+----+-----+-----+----------------+-------+-----+--------+\nonly showing top 10 rows\n\n",
              "removedWidgets": [],
              "addedWidgets": {},
              "metadata": {},
              "type": "ansi",
              "arguments": {}
            }
          },
          "data": {
            "text/plain": [
              "+-----------+--------+------+--------------------+------+----+-----+-----+----------------+-------+-----+--------+\n|PassengerId|Survived|Pclass|                Name|   Sex| Age|SibSp|Parch|          Ticket|   Fare|Cabin|Embarked|\n+-----------+--------+------+--------------------+------+----+-----+-----+----------------+-------+-----+--------+\n|          1|       0|     3|Braund, Mr. Owen ...|  male|22.0|    1|    0|       A/5 21171|   7.25| null|       S|\n|          2|       1|     1|Cumings, Mrs. Joh...|female|38.0|    1|    0|        PC 17599|71.2833|  C85|       C|\n|          3|       1|     3|Heikkinen, Miss. ...|female|26.0|    0|    0|STON/O2. 3101282|  7.925| null|       S|\n|          4|       1|     1|Futrelle, Mrs. Ja...|female|35.0|    1|    0|          113803|   53.1| C123|       S|\n|          5|       0|     3|Allen, Mr. Willia...|  male|35.0|    0|    0|          373450|   8.05| null|       S|\n|          6|       0|     3|    Moran, Mr. James|  male|null|    0|    0|          330877| 8.4583| null|       Q|\n|          7|       0|     1|McCarthy, Mr. Tim...|  male|54.0|    0|    0|           17463|51.8625|  E46|       S|\n|          8|       0|     3|Palsson, Master. ...|  male| 2.0|    3|    1|          349909| 21.075| null|       S|\n|          9|       1|     3|Johnson, Mrs. Osc...|female|27.0|    0|    2|          347742|11.1333| null|       S|\n|         10|       1|     2|Nasser, Mrs. Nich...|female|14.0|    1|    0|          237736|30.0708| null|       C|\n+-----------+--------+------+--------------------+------+----+-----+-----+----------------+-------+-----+--------+\nonly showing top 10 rows\n\n"
            ]
          }
        }
      ],
      "execution_count": null
    },
    {
      "cell_type": "markdown",
      "source": [
        "#### **Descriptive statistics**"
      ],
      "metadata": {
        "application/vnd.databricks.v1+cell": {
          "title": "",
          "showTitle": false,
          "inputWidgets": {},
          "nuid": "eb7e5dbd-a4a4-4757-893d-522aa96af9b2"
        },
        "id": "8yTOS1FwsItK"
      }
    },
    {
      "cell_type": "code",
      "source": [
        "df.describe().show()"
      ],
      "metadata": {
        "application/vnd.databricks.v1+cell": {
          "title": "",
          "showTitle": false,
          "inputWidgets": {},
          "nuid": "4d97cc21-17b8-492c-93e3-d0e04df8615d"
        },
        "id": "3Tp-PKfCsItK",
        "outputId": "e3d0669a-fdd9-4e5d-d4e7-d2cebb8f79a7"
      },
      "outputs": [
        {
          "output_type": "display_data",
          "metadata": {
            "application/vnd.databricks.v1+output": {
              "datasetInfos": [],
              "data": "+-------+-----------------+-------------------+------------------+--------------------+------+------------------+------------------+-------------------+------------------+-----------------+-----+--------+\n|summary|      PassengerId|           Survived|            Pclass|                Name|   Sex|               Age|             SibSp|              Parch|            Ticket|             Fare|Cabin|Embarked|\n+-------+-----------------+-------------------+------------------+--------------------+------+------------------+------------------+-------------------+------------------+-----------------+-----+--------+\n|  count|              891|                891|               891|                 891|   891|               714|               891|                891|               891|              891|  204|     889|\n|   mean|            446.0| 0.3838383838383838| 2.308641975308642|                null|  null| 29.69911764705882|0.5230078563411896|0.38159371492704824|260318.54916792738| 32.2042079685746| null|    null|\n| stddev|257.3538420152301|0.48659245426485753|0.8360712409770491|                null|  null|14.526497332334035|1.1027434322934315| 0.8060572211299488|471609.26868834975|49.69342859718089| null|    null|\n|    min|                1|                  0|                 1|\"Andersson, Mr. A...|female|              0.42|                 0|                  0|            110152|              0.0|  A10|       C|\n|    max|              891|                  1|                 3|van Melkebeke, Mr...|  male|              80.0|                 8|                  6|         WE/P 5735|         512.3292|    T|       S|\n+-------+-----------------+-------------------+------------------+--------------------+------+------------------+------------------+-------------------+------------------+-----------------+-----+--------+\n\n",
              "removedWidgets": [],
              "addedWidgets": {},
              "metadata": {},
              "type": "ansi",
              "arguments": {}
            }
          },
          "data": {
            "text/plain": [
              "+-------+-----------------+-------------------+------------------+--------------------+------+------------------+------------------+-------------------+------------------+-----------------+-----+--------+\n|summary|      PassengerId|           Survived|            Pclass|                Name|   Sex|               Age|             SibSp|              Parch|            Ticket|             Fare|Cabin|Embarked|\n+-------+-----------------+-------------------+------------------+--------------------+------+------------------+------------------+-------------------+------------------+-----------------+-----+--------+\n|  count|              891|                891|               891|                 891|   891|               714|               891|                891|               891|              891|  204|     889|\n|   mean|            446.0| 0.3838383838383838| 2.308641975308642|                null|  null| 29.69911764705882|0.5230078563411896|0.38159371492704824|260318.54916792738| 32.2042079685746| null|    null|\n| stddev|257.3538420152301|0.48659245426485753|0.8360712409770491|                null|  null|14.526497332334035|1.1027434322934315| 0.8060572211299488|471609.26868834975|49.69342859718089| null|    null|\n|    min|                1|                  0|                 1|\"Andersson, Mr. A...|female|              0.42|                 0|                  0|            110152|              0.0|  A10|       C|\n|    max|              891|                  1|                 3|van Melkebeke, Mr...|  male|              80.0|                 8|                  6|         WE/P 5735|         512.3292|    T|       S|\n+-------+-----------------+-------------------+------------------+--------------------+------+------------------+------------------+-------------------+------------------+-----------------+-----+--------+\n\n"
            ]
          }
        }
      ],
      "execution_count": null
    },
    {
      "cell_type": "markdown",
      "source": [
        "####  **Using pandas** to have a **better visualization**"
      ],
      "metadata": {
        "application/vnd.databricks.v1+cell": {
          "title": "",
          "showTitle": false,
          "inputWidgets": {},
          "nuid": "43aeab04-6176-4aaf-91fc-8f9fa751648b"
        },
        "id": "AtZMPvcrsItK"
      }
    },
    {
      "cell_type": "code",
      "source": [
        "df.toPandas().describe()"
      ],
      "metadata": {
        "application/vnd.databricks.v1+cell": {
          "title": "",
          "showTitle": false,
          "inputWidgets": {},
          "nuid": "8cbd1996-1c01-4f9c-a01f-a07ea36f2ed1"
        },
        "id": "yg5Ei6tvsItL",
        "outputId": "f4e01531-f01a-4f4e-9719-4bdd3e2bc04f"
      },
      "outputs": [
        {
          "output_type": "display_data",
          "metadata": {
            "application/vnd.databricks.v1+output": {
              "datasetInfos": [],
              "data": "<div>\n<style scoped>\n    .dataframe tbody tr th:only-of-type {\n        vertical-align: middle;\n    }\n\n    .dataframe tbody tr th {\n        vertical-align: top;\n    }\n\n    .dataframe thead th {\n        text-align: right;\n    }\n</style>\n<table border=\"1\" class=\"dataframe\">\n  <thead>\n    <tr style=\"text-align: right;\">\n      <th></th>\n      <th>PassengerId</th>\n      <th>Survived</th>\n      <th>Pclass</th>\n      <th>Age</th>\n      <th>SibSp</th>\n      <th>Parch</th>\n      <th>Fare</th>\n    </tr>\n  </thead>\n  <tbody>\n    <tr>\n      <th>count</th>\n      <td>891.000000</td>\n      <td>891.000000</td>\n      <td>891.000000</td>\n      <td>714.000000</td>\n      <td>891.000000</td>\n      <td>891.000000</td>\n      <td>891.000000</td>\n    </tr>\n    <tr>\n      <th>mean</th>\n      <td>446.000000</td>\n      <td>0.383838</td>\n      <td>2.308642</td>\n      <td>29.699118</td>\n      <td>0.523008</td>\n      <td>0.381594</td>\n      <td>32.204208</td>\n    </tr>\n    <tr>\n      <th>std</th>\n      <td>257.353842</td>\n      <td>0.486592</td>\n      <td>0.836071</td>\n      <td>14.526497</td>\n      <td>1.102743</td>\n      <td>0.806057</td>\n      <td>49.693429</td>\n    </tr>\n    <tr>\n      <th>min</th>\n      <td>1.000000</td>\n      <td>0.000000</td>\n      <td>1.000000</td>\n      <td>0.420000</td>\n      <td>0.000000</td>\n      <td>0.000000</td>\n      <td>0.000000</td>\n    </tr>\n    <tr>\n      <th>25%</th>\n      <td>223.500000</td>\n      <td>0.000000</td>\n      <td>2.000000</td>\n      <td>20.125000</td>\n      <td>0.000000</td>\n      <td>0.000000</td>\n      <td>7.910400</td>\n    </tr>\n    <tr>\n      <th>50%</th>\n      <td>446.000000</td>\n      <td>0.000000</td>\n      <td>3.000000</td>\n      <td>28.000000</td>\n      <td>0.000000</td>\n      <td>0.000000</td>\n      <td>14.454200</td>\n    </tr>\n    <tr>\n      <th>75%</th>\n      <td>668.500000</td>\n      <td>1.000000</td>\n      <td>3.000000</td>\n      <td>38.000000</td>\n      <td>1.000000</td>\n      <td>0.000000</td>\n      <td>31.000000</td>\n    </tr>\n    <tr>\n      <th>max</th>\n      <td>891.000000</td>\n      <td>1.000000</td>\n      <td>3.000000</td>\n      <td>80.000000</td>\n      <td>8.000000</td>\n      <td>6.000000</td>\n      <td>512.329200</td>\n    </tr>\n  </tbody>\n</table>\n</div>",
              "textData": null,
              "removedWidgets": [],
              "addedWidgets": {},
              "metadata": {},
              "type": "htmlSandbox",
              "arguments": {}
            }
          },
          "data": {
            "text/html": [
              "<div>\n<style scoped>\n    .dataframe tbody tr th:only-of-type {\n        vertical-align: middle;\n    }\n\n    .dataframe tbody tr th {\n        vertical-align: top;\n    }\n\n    .dataframe thead th {\n        text-align: right;\n    }\n</style>\n<table border=\"1\" class=\"dataframe\">\n  <thead>\n    <tr style=\"text-align: right;\">\n      <th></th>\n      <th>PassengerId</th>\n      <th>Survived</th>\n      <th>Pclass</th>\n      <th>Age</th>\n      <th>SibSp</th>\n      <th>Parch</th>\n      <th>Fare</th>\n    </tr>\n  </thead>\n  <tbody>\n    <tr>\n      <th>count</th>\n      <td>891.000000</td>\n      <td>891.000000</td>\n      <td>891.000000</td>\n      <td>714.000000</td>\n      <td>891.000000</td>\n      <td>891.000000</td>\n      <td>891.000000</td>\n    </tr>\n    <tr>\n      <th>mean</th>\n      <td>446.000000</td>\n      <td>0.383838</td>\n      <td>2.308642</td>\n      <td>29.699118</td>\n      <td>0.523008</td>\n      <td>0.381594</td>\n      <td>32.204208</td>\n    </tr>\n    <tr>\n      <th>std</th>\n      <td>257.353842</td>\n      <td>0.486592</td>\n      <td>0.836071</td>\n      <td>14.526497</td>\n      <td>1.102743</td>\n      <td>0.806057</td>\n      <td>49.693429</td>\n    </tr>\n    <tr>\n      <th>min</th>\n      <td>1.000000</td>\n      <td>0.000000</td>\n      <td>1.000000</td>\n      <td>0.420000</td>\n      <td>0.000000</td>\n      <td>0.000000</td>\n      <td>0.000000</td>\n    </tr>\n    <tr>\n      <th>25%</th>\n      <td>223.500000</td>\n      <td>0.000000</td>\n      <td>2.000000</td>\n      <td>20.125000</td>\n      <td>0.000000</td>\n      <td>0.000000</td>\n      <td>7.910400</td>\n    </tr>\n    <tr>\n      <th>50%</th>\n      <td>446.000000</td>\n      <td>0.000000</td>\n      <td>3.000000</td>\n      <td>28.000000</td>\n      <td>0.000000</td>\n      <td>0.000000</td>\n      <td>14.454200</td>\n    </tr>\n    <tr>\n      <th>75%</th>\n      <td>668.500000</td>\n      <td>1.000000</td>\n      <td>3.000000</td>\n      <td>38.000000</td>\n      <td>1.000000</td>\n      <td>0.000000</td>\n      <td>31.000000</td>\n    </tr>\n    <tr>\n      <th>max</th>\n      <td>891.000000</td>\n      <td>1.000000</td>\n      <td>3.000000</td>\n      <td>80.000000</td>\n      <td>8.000000</td>\n      <td>6.000000</td>\n      <td>512.329200</td>\n    </tr>\n  </tbody>\n</table>\n</div>"
            ]
          }
        }
      ],
      "execution_count": null
    },
    {
      "cell_type": "markdown",
      "source": [
        "#### **Check the schema**"
      ],
      "metadata": {
        "id": "GRAFL0fvkbEm"
      }
    },
    {
      "cell_type": "code",
      "source": [
        "df.printSchema()"
      ],
      "metadata": {
        "application/vnd.databricks.v1+cell": {
          "title": "",
          "showTitle": false,
          "inputWidgets": {},
          "nuid": "4a407746-944e-4f86-bf58-5a3927ee3690"
        },
        "id": "vCEk4YAXsItL",
        "outputId": "e021dbeb-c65b-42a5-910e-064a1ae16606"
      },
      "outputs": [
        {
          "output_type": "display_data",
          "metadata": {
            "application/vnd.databricks.v1+output": {
              "datasetInfos": [],
              "data": "root\n |-- PassengerId: integer (nullable = true)\n |-- Survived: integer (nullable = true)\n |-- Pclass: integer (nullable = true)\n |-- Name: string (nullable = true)\n |-- Sex: string (nullable = true)\n |-- Age: double (nullable = true)\n |-- SibSp: integer (nullable = true)\n |-- Parch: integer (nullable = true)\n |-- Ticket: string (nullable = true)\n |-- Fare: double (nullable = true)\n |-- Cabin: string (nullable = true)\n |-- Embarked: string (nullable = true)\n\n",
              "removedWidgets": [],
              "addedWidgets": {},
              "metadata": {},
              "type": "ansi",
              "arguments": {}
            }
          },
          "data": {
            "text/plain": [
              "root\n |-- PassengerId: integer (nullable = true)\n |-- Survived: integer (nullable = true)\n |-- Pclass: integer (nullable = true)\n |-- Name: string (nullable = true)\n |-- Sex: string (nullable = true)\n |-- Age: double (nullable = true)\n |-- SibSp: integer (nullable = true)\n |-- Parch: integer (nullable = true)\n |-- Ticket: string (nullable = true)\n |-- Fare: double (nullable = true)\n |-- Cabin: string (nullable = true)\n |-- Embarked: string (nullable = true)\n\n"
            ]
          }
        }
      ],
      "execution_count": null
    },
    {
      "cell_type": "code",
      "source": [
        "df.groupBy(\"Survived\").count().show()"
      ],
      "metadata": {
        "application/vnd.databricks.v1+cell": {
          "title": "",
          "showTitle": false,
          "inputWidgets": {},
          "nuid": "23bc71fe-9693-4503-8913-cc7f014047c9"
        },
        "id": "dhXoEKZQsItL",
        "outputId": "df4f5619-d328-49ea-e6cf-5beb30d8bfe0"
      },
      "outputs": [
        {
          "output_type": "display_data",
          "metadata": {
            "application/vnd.databricks.v1+output": {
              "datasetInfos": [],
              "data": "+--------+-----+\n|Survived|count|\n+--------+-----+\n|       1|  342|\n|       0|  549|\n+--------+-----+\n\n",
              "removedWidgets": [],
              "addedWidgets": {},
              "metadata": {},
              "type": "ansi",
              "arguments": {}
            }
          },
          "data": {
            "text/plain": [
              "+--------+-----+\n|Survived|count|\n+--------+-----+\n|       1|  342|\n|       0|  549|\n+--------+-----+\n\n"
            ]
          }
        }
      ],
      "execution_count": null
    },
    {
      "cell_type": "markdown",
      "source": [
        "#### **Comment:** Regarding **our dataset more than 60% (≈ 61.6%)** of the **passengers didn't survive**.<br> (this statistic **can also be inferred from the descriptive statistics** displayed above).<br><br>\n",
        "- - - "
      ],
      "metadata": {
        "id": "HFi1pijv81l8"
      }
    },
    {
      "cell_type": "markdown",
      "source": [
        "### How the **survival rate** was **influenced** by some **variables/features:**<br><br>"
      ],
      "metadata": {
        "id": "V56VFpg50Z-E"
      }
    },
    {
      "cell_type": "markdown",
      "source": [
        "### - **`Sex`:**\n"
      ],
      "metadata": {
        "id": "3WpbYOc41nu3"
      }
    },
    {
      "cell_type": "code",
      "source": [
        "df.groupBy(\"Sex\",\"Survived\").count().show()"
      ],
      "metadata": {
        "application/vnd.databricks.v1+cell": {
          "title": "",
          "showTitle": false,
          "inputWidgets": {},
          "nuid": "81c2242b-b368-4632-8f55-e647eb7bc0ce"
        },
        "id": "ycorCrTTsItL",
        "outputId": "f0bfdcce-332e-424d-b881-ea7ffed26621"
      },
      "outputs": [
        {
          "output_type": "display_data",
          "metadata": {
            "application/vnd.databricks.v1+output": {
              "datasetInfos": [],
              "data": "+------+--------+-----+\n|   Sex|Survived|count|\n+------+--------+-----+\n|  male|       0|  468|\n|female|       1|  233|\n|female|       0|   81|\n|  male|       1|  109|\n+------+--------+-----+\n\n",
              "removedWidgets": [],
              "addedWidgets": {},
              "metadata": {},
              "type": "ansi",
              "arguments": {}
            }
          },
          "data": {
            "text/plain": [
              "+------+--------+-----+\n|   Sex|Survived|count|\n+------+--------+-----+\n|  male|       0|  468|\n|female|       1|  233|\n|female|       0|   81|\n|  male|       1|  109|\n+------+--------+-----+\n\n"
            ]
          }
        }
      ],
      "execution_count": null
    },
    {
      "cell_type": "markdown",
      "source": [
        "#### **Comments:**\n",
        "- Almost **65% of the travelers** of our dataset **were male** while the remaining **35% were female**. \n",
        "- What **stands out the most** is the **comparative percentage** of **women and men that survived**: almost **`75%` of the women survived** while **not even `20%` (≈18.9%) of the male passengers succeeded in surviving!**<br><br>\n"
      ],
      "metadata": {
        "id": "gy_4C_4UXCj6"
      }
    },
    {
      "cell_type": "markdown",
      "source": [
        "### - **`Pclass`:**"
      ],
      "metadata": {
        "id": "ga61kTCt13CL"
      }
    },
    {
      "cell_type": "code",
      "source": [
        "df.groupBy(\"Pclass\",\"Survived\").count().show()"
      ],
      "metadata": {
        "application/vnd.databricks.v1+cell": {
          "title": "",
          "showTitle": false,
          "inputWidgets": {},
          "nuid": "7dcf160c-d6ef-420b-8376-423866a0175d"
        },
        "id": "qFSErS2qsItM",
        "outputId": "51306a52-70fc-4a67-fe23-310cabc4bc7d"
      },
      "outputs": [
        {
          "output_type": "display_data",
          "metadata": {
            "application/vnd.databricks.v1+output": {
              "datasetInfos": [],
              "data": "+------+--------+-----+\n|Pclass|Survived|count|\n+------+--------+-----+\n|     1|       0|   80|\n|     3|       1|  119|\n|     1|       1|  136|\n|     2|       1|   87|\n|     2|       0|   97|\n|     3|       0|  372|\n+------+--------+-----+\n\n",
              "removedWidgets": [],
              "addedWidgets": {},
              "metadata": {},
              "type": "ansi",
              "arguments": {}
            }
          },
          "data": {
            "text/plain": [
              "+------+--------+-----+\n|Pclass|Survived|count|\n+------+--------+-----+\n|     1|       0|   80|\n|     3|       1|  119|\n|     1|       1|  136|\n|     2|       1|   87|\n|     2|       0|   97|\n|     3|       0|  372|\n+------+--------+-----+\n\n"
            ]
          }
        }
      ],
      "execution_count": null
    },
    {
      "cell_type": "markdown",
      "source": [
        "#### **Comments:**\n",
        "- The **class3 had the highest number of travelers**, followed by class1 and the class with least passengers was the class2. The **number of travelers in class3** (the **least fortunate...**) **was more than the number of passengers in the class1 and class2 combined!**\n",
        "- The **actual survival rate of a class1 traveler** was the **highest** one (**≈63%**). **Class2** and **class3 travelers** had an **actual survival rate of respectively 47.3% and 24,2%**. \n",
        "  <br><br>\n",
        "\n"
      ],
      "metadata": {
        "id": "g7pzKlNLf5KL"
      }
    },
    {
      "cell_type": "markdown",
      "source": [
        "### - **`Number of sibilings and spouses of a passenger onboard`:**"
      ],
      "metadata": {
        "id": "IbHGDGC02Je2"
      }
    },
    {
      "cell_type": "code",
      "source": [
        "df.groupBy(\"SibSp\",\"Survived\").count().show()"
      ],
      "metadata": {
        "application/vnd.databricks.v1+cell": {
          "title": "",
          "showTitle": false,
          "inputWidgets": {},
          "nuid": "41900801-e9b2-4f35-968d-371ed7ce68be"
        },
        "id": "QJRbJ9o8sItM",
        "outputId": "b9ad7f7b-054d-4d71-c2ef-2d8d4a3aa0f4"
      },
      "outputs": [
        {
          "output_type": "display_data",
          "metadata": {
            "application/vnd.databricks.v1+output": {
              "datasetInfos": [],
              "data": "+-----+--------+-----+\n|SibSp|Survived|count|\n+-----+--------+-----+\n|    1|       0|   97|\n|    3|       1|    4|\n|    4|       0|   15|\n|    1|       1|  112|\n|    0|       0|  398|\n|    2|       1|   13|\n|    0|       1|  210|\n|    2|       0|   15|\n|    5|       0|    5|\n|    8|       0|    7|\n|    3|       0|   12|\n|    4|       1|    3|\n+-----+--------+-----+\n\n",
              "removedWidgets": [],
              "addedWidgets": {},
              "metadata": {},
              "type": "ansi",
              "arguments": {}
            }
          },
          "data": {
            "text/plain": [
              "+-----+--------+-----+\n|SibSp|Survived|count|\n+-----+--------+-----+\n|    1|       0|   97|\n|    3|       1|    4|\n|    4|       0|   15|\n|    1|       1|  112|\n|    0|       0|  398|\n|    2|       1|   13|\n|    0|       1|  210|\n|    2|       0|   15|\n|    5|       0|    5|\n|    8|       0|    7|\n|    3|       0|   12|\n|    4|       1|    3|\n+-----+--------+-----+\n\n"
            ]
          }
        }
      ],
      "execution_count": null
    },
    {
      "cell_type": "markdown",
      "source": [
        "#### **Comments:**\n",
        "\n",
        "- The **great majority** of the **passengers either traveled without sibilings or spouse or with one sibiling or spouse**.\n",
        "- The **chances of survival** for people who **traveled with two sibilings or one sibiling and one spouse were balanced**.\n",
        "- **Overall**, for passengers **who traveled with more than 2 siblings or spouse the heigher the number of sibilings and spouse the less chances of a passenger had to survive**.\n",
        "- As a curiosity **there were no people in our dataset traveling with six or seven sibilings or spouse**.<br><br>"
      ],
      "metadata": {
        "id": "rql5F-gr2oFO"
      }
    },
    {
      "cell_type": "markdown",
      "source": [
        "### - **`Embarked`**:"
      ],
      "metadata": {
        "id": "JHmkwDri-7nl"
      }
    },
    {
      "cell_type": "code",
      "source": [
        "df.groupBy(\"Embarked\",\"Survived\").count().show()"
      ],
      "metadata": {
        "application/vnd.databricks.v1+cell": {
          "title": "",
          "showTitle": false,
          "inputWidgets": {},
          "nuid": "2fc28f68-bd6d-49bc-a7b8-48eb79f888a4"
        },
        "id": "P4XnvZjrsItN",
        "outputId": "8a168b7c-8a93-41dd-bcfc-202306a438ed"
      },
      "outputs": [
        {
          "output_type": "display_data",
          "metadata": {
            "application/vnd.databricks.v1+output": {
              "datasetInfos": [],
              "data": "+--------+--------+-----+\n|Embarked|Survived|count|\n+--------+--------+-----+\n|    null|       1|    2|\n|       Q|       1|   30|\n|       S|       0|  427|\n|       S|       1|  217|\n|       C|       1|   93|\n|       Q|       0|   47|\n|       C|       0|   75|\n+--------+--------+-----+\n\n",
              "removedWidgets": [],
              "addedWidgets": {},
              "metadata": {},
              "type": "ansi",
              "arguments": {}
            }
          },
          "data": {
            "text/plain": [
              "+--------+--------+-----+\n|Embarked|Survived|count|\n+--------+--------+-----+\n|    null|       1|    2|\n|       Q|       1|   30|\n|       S|       0|  427|\n|       S|       1|  217|\n|       C|       1|   93|\n|       Q|       0|   47|\n|       C|       0|   75|\n+--------+--------+-----+\n\n"
            ]
          }
        }
      ],
      "execution_count": null
    },
    {
      "cell_type": "markdown",
      "source": [
        "#### **Comments:**\n",
        "- Embarked implies the **Port of Embarkation**: **C** = Cherbourg; **Q** = Queenstown; **S** = Southampton.\n",
        "- The **majority of the travelers**, around **72% boarded from Southampton**. Approximatelly **19% boarded from Cherbourg** and the **remaining travelers boarded from Queenstown (almost 9%)**. \n",
        "- **Only the passengers who boarded from Cherbourg had an actual chance of survival greater than 50%**. Travellers who **boarded from Southampton** had **the actual least chance of survival (≈33%)**.<br><br>\n",
        "- - - \n",
        "\n",
        "\n",
        "\n"
      ],
      "metadata": {
        "id": "8LhMwkb29hrf"
      }
    },
    {
      "cell_type": "markdown",
      "source": [
        "## **`Features Selection: 1st phase`:** <br><br>\n",
        "**1 - Two examples** of some of the **features/variables that should be removed/dropped due to being irrelevant in predicting the chances of survival of the travellers.**<br><br>"
      ],
      "metadata": {
        "id": "qdKatOz8Ferf"
      }
    },
    {
      "cell_type": "markdown",
      "source": [
        "### - **`Ticket`**:"
      ],
      "metadata": {
        "id": "AGkakANyEani"
      }
    },
    {
      "cell_type": "code",
      "source": [
        "df.groupBy(\"Ticket\",\"Survived\").count().show()"
      ],
      "metadata": {
        "application/vnd.databricks.v1+cell": {
          "title": "",
          "showTitle": false,
          "inputWidgets": {},
          "nuid": "ddae7734-0e05-403f-851c-3436a4ce1174"
        },
        "id": "Zd9bPWqWsItN",
        "outputId": "13edbf58-63c2-4291-af2f-c06ee553a6c6"
      },
      "outputs": [
        {
          "output_type": "display_data",
          "metadata": {
            "application/vnd.databricks.v1+output": {
              "datasetInfos": [],
              "data": "+-----------------+--------+-----+\n|           Ticket|Survived|count|\n+-----------------+--------+-----+\n|           330958|       1|    1|\n|           350404|       0|    1|\n|             2693|       0|    1|\n|           349912|       0|    1|\n|         CA. 2343|       0|    7|\n|           244361|       0|    1|\n|           386525|       1|    1|\n|       A.5. 18509|       0|    1|\n|           218629|       0|    1|\n|            19950|       0|    2|\n|STON/O 2. 3101289|       1|    1|\n|SOTON/O.Q. 392078|       1|    1|\n|           334912|       0|    1|\n|           350042|       0|    1|\n|           244373|       1|    1|\n|          3101295|       0|    6|\n|             2926|       1|    1|\n|             4579|       0|    1|\n|           237565|       0|    1|\n|           348124|       0|    1|\n+-----------------+--------+-----+\nonly showing top 20 rows\n\n",
              "removedWidgets": [],
              "addedWidgets": {},
              "metadata": {},
              "type": "ansi",
              "arguments": {}
            }
          },
          "data": {
            "text/plain": [
              "+-----------------+--------+-----+\n|           Ticket|Survived|count|\n+-----------------+--------+-----+\n|           330958|       1|    1|\n|           350404|       0|    1|\n|             2693|       0|    1|\n|           349912|       0|    1|\n|         CA. 2343|       0|    7|\n|           244361|       0|    1|\n|           386525|       1|    1|\n|       A.5. 18509|       0|    1|\n|           218629|       0|    1|\n|            19950|       0|    2|\n|STON/O 2. 3101289|       1|    1|\n|SOTON/O.Q. 392078|       1|    1|\n|           334912|       0|    1|\n|           350042|       0|    1|\n|           244373|       1|    1|\n|          3101295|       0|    6|\n|             2926|       1|    1|\n|             4579|       0|    1|\n|           237565|       0|    1|\n|           348124|       0|    1|\n+-----------------+--------+-----+\nonly showing top 20 rows\n\n"
            ]
          }
        }
      ],
      "execution_count": null
    },
    {
      "cell_type": "code",
      "source": [
        "df.select('Ticket').distinct().count()"
      ],
      "metadata": {
        "application/vnd.databricks.v1+cell": {
          "title": "",
          "showTitle": false,
          "inputWidgets": {},
          "nuid": "09c0ea86-94e4-4629-b7c9-db874185b4c8"
        },
        "id": "g2cHoEclsItN",
        "outputId": "0d95a481-7953-4b99-c26d-8b1a066f82e9"
      },
      "outputs": [
        {
          "output_type": "display_data",
          "metadata": {
            "application/vnd.databricks.v1+output": {
              "datasetInfos": [],
              "data": "Out[14]: 681",
              "removedWidgets": [],
              "addedWidgets": {},
              "metadata": {},
              "type": "ansi",
              "arguments": {}
            }
          },
          "data": {
            "text/plain": [
              "Out[14]: 681"
            ]
          }
        }
      ],
      "execution_count": null
    },
    {
      "cell_type": "markdown",
      "source": [
        "#### **Comment:**\n",
        "- The tickets' number **does not translate into any valuable meaning to explain the chances of survival of a given passanger**. It was **something to be expected** after looking at the **descriptive statistics associated with this feature**.<br><br>  "
      ],
      "metadata": {
        "id": "JD0zQIZqMAvD"
      }
    },
    {
      "cell_type": "markdown",
      "source": [
        "### - **`Cabin`**:"
      ],
      "metadata": {
        "id": "rJjfarNKON3E"
      }
    },
    {
      "cell_type": "code",
      "source": [
        "df.groupBy(\"Cabin\", \"Survived\").count().show()"
      ],
      "metadata": {
        "application/vnd.databricks.v1+cell": {
          "title": "",
          "showTitle": false,
          "inputWidgets": {},
          "nuid": "d0937f87-0936-4c5f-9534-1d9eec0fe855"
        },
        "id": "yRESyHX0sItN",
        "outputId": "128430eb-abbd-44bc-a954-7830a8b9599a"
      },
      "outputs": [
        {
          "output_type": "display_data",
          "metadata": {
            "application/vnd.databricks.v1+output": {
              "datasetInfos": [],
              "data": "+-------+--------+-----+\n|  Cabin|Survived|count|\n+-------+--------+-----+\n|    C78|       0|    1|\n|     F2|       0|    1|\n|     A7|       0|    1|\n|    D45|       1|    1|\n|    C47|       1|    1|\n|    B78|       1|    1|\n|    B73|       1|    1|\n|    C78|       1|    1|\n|   C111|       0|    1|\n|    C85|       1|    1|\n|B58 B60|       0|    1|\n|    E38|       0|    1|\n|     C2|       1|    1|\n|   B101|       1|    1|\n|    D19|       1|    1|\n|     B5|       1|    2|\n|      T|       0|    1|\n|    A23|       1|    1|\n|    B22|       0|    1|\n|    E46|       0|    1|\n+-------+--------+-----+\nonly showing top 20 rows\n\n",
              "removedWidgets": [],
              "addedWidgets": {},
              "metadata": {},
              "type": "ansi",
              "arguments": {}
            }
          },
          "data": {
            "text/plain": [
              "+-------+--------+-----+\n|  Cabin|Survived|count|\n+-------+--------+-----+\n|    C78|       0|    1|\n|     F2|       0|    1|\n|     A7|       0|    1|\n|    D45|       1|    1|\n|    C47|       1|    1|\n|    B78|       1|    1|\n|    B73|       1|    1|\n|    C78|       1|    1|\n|   C111|       0|    1|\n|    C85|       1|    1|\n|B58 B60|       0|    1|\n|    E38|       0|    1|\n|     C2|       1|    1|\n|   B101|       1|    1|\n|    D19|       1|    1|\n|     B5|       1|    2|\n|      T|       0|    1|\n|    A23|       1|    1|\n|    B22|       0|    1|\n|    E46|       0|    1|\n+-------+--------+-----+\nonly showing top 20 rows\n\n"
            ]
          }
        }
      ],
      "execution_count": null
    },
    {
      "cell_type": "code",
      "source": [
        "df.select('Cabin').distinct().count()"
      ],
      "metadata": {
        "application/vnd.databricks.v1+cell": {
          "title": "",
          "showTitle": false,
          "inputWidgets": {},
          "nuid": "f45268b7-06ad-4eb2-b59b-4df39f307d48"
        },
        "id": "RyiyrYtasItN",
        "outputId": "242e2b61-b6a0-482a-ace7-5c453cf922d3"
      },
      "outputs": [
        {
          "output_type": "display_data",
          "metadata": {
            "application/vnd.databricks.v1+output": {
              "datasetInfos": [],
              "data": "Out[16]: 148",
              "removedWidgets": [],
              "addedWidgets": {},
              "metadata": {},
              "type": "ansi",
              "arguments": {}
            }
          },
          "data": {
            "text/plain": [
              "Out[16]: 148"
            ]
          }
        }
      ],
      "execution_count": null
    },
    {
      "cell_type": "markdown",
      "source": [
        "#### **Comment:**\n",
        "- What **we said about the feature tickets it is valid for the feature cabin: it does not translate into any valuable meaning to explain the chances of survival of a given passanger.**\n",
        "- Besides, as we will see below, **the number of missing values regarding this variable it is very high, both in absolute (687) and relative terms (around 77%)**<br><br>  "
      ],
      "metadata": {
        "id": "KjhOD-NaOrq3"
      }
    },
    {
      "cell_type": "markdown",
      "source": [
        "#### **Check for missing values**<br>"
      ],
      "metadata": {
        "id": "UmiRdnpjTJpJ"
      }
    },
    {
      "cell_type": "code",
      "source": [
        "df.select([count(when(isnan(c)|col(c).isNull(),c)).alias(c) for c in df.columns]).show()"
      ],
      "metadata": {
        "application/vnd.databricks.v1+cell": {
          "title": "",
          "showTitle": false,
          "inputWidgets": {},
          "nuid": "f00fb07f-350f-47b1-bea3-e3ad8a994ee1"
        },
        "id": "Q0kDr973sItO",
        "outputId": "1161b982-c03c-494a-aa33-186031319569"
      },
      "outputs": [
        {
          "output_type": "display_data",
          "metadata": {
            "application/vnd.databricks.v1+output": {
              "datasetInfos": [],
              "data": "+-----------+--------+------+----+---+---+-----+-----+------+----+-----+--------+\n|PassengerId|Survived|Pclass|Name|Sex|Age|SibSp|Parch|Ticket|Fare|Cabin|Embarked|\n+-----------+--------+------+----+---+---+-----+-----+------+----+-----+--------+\n|          0|       0|     0|   0|  0|177|    0|    0|     0|   0|  687|       2|\n+-----------+--------+------+----+---+---+-----+-----+------+----+-----+--------+\n\n",
              "removedWidgets": [],
              "addedWidgets": {},
              "metadata": {},
              "type": "ansi",
              "arguments": {}
            }
          },
          "data": {
            "text/plain": [
              "+-----------+--------+------+----+---+---+-----+-----+------+----+-----+--------+\n|PassengerId|Survived|Pclass|Name|Sex|Age|SibSp|Parch|Ticket|Fare|Cabin|Embarked|\n+-----------+--------+------+----+---+---+-----+-----+------+----+-----+--------+\n|          0|       0|     0|   0|  0|177|    0|    0|     0|   0|  687|       2|\n+-----------+--------+------+----+---+---+-----+-----+------+----+-----+--------+\n\n"
            ]
          }
        }
      ],
      "execution_count": null
    },
    {
      "cell_type": "markdown",
      "source": [
        "#### **2 - Removing unnecessary features before handling missing data regarding age and embarked features.**<br>\n",
        "\n"
      ],
      "metadata": {
        "id": "AjHVhZsKTkLT"
      }
    },
    {
      "cell_type": "code",
      "source": [
        "df_pyspark=df.drop('Cabin','Ticket','PassengerId')"
      ],
      "metadata": {
        "application/vnd.databricks.v1+cell": {
          "title": "",
          "showTitle": false,
          "inputWidgets": {},
          "nuid": "df62b036-6d58-4121-9c03-f56163c4790c"
        },
        "id": "nHd9uDD2sItO"
      },
      "outputs": [],
      "execution_count": null
    },
    {
      "cell_type": "code",
      "source": [
        "df_pyspark.show(5)"
      ],
      "metadata": {
        "application/vnd.databricks.v1+cell": {
          "title": "",
          "showTitle": false,
          "inputWidgets": {},
          "nuid": "b95fd66d-85f7-476f-ba35-4b4f1b102627"
        },
        "id": "escd4UW2sItO",
        "outputId": "0a8e182c-75da-4c79-8769-3943108e952c"
      },
      "outputs": [
        {
          "output_type": "display_data",
          "metadata": {
            "application/vnd.databricks.v1+output": {
              "datasetInfos": [],
              "data": "+--------+------+--------------------+------+----+-----+-----+-------+--------+\n|Survived|Pclass|                Name|   Sex| Age|SibSp|Parch|   Fare|Embarked|\n+--------+------+--------------------+------+----+-----+-----+-------+--------+\n|       0|     3|Braund, Mr. Owen ...|  male|22.0|    1|    0|   7.25|       S|\n|       1|     1|Cumings, Mrs. Joh...|female|38.0|    1|    0|71.2833|       C|\n|       1|     3|Heikkinen, Miss. ...|female|26.0|    0|    0|  7.925|       S|\n|       1|     1|Futrelle, Mrs. Ja...|female|35.0|    1|    0|   53.1|       S|\n|       0|     3|Allen, Mr. Willia...|  male|35.0|    0|    0|   8.05|       S|\n+--------+------+--------------------+------+----+-----+-----+-------+--------+\nonly showing top 5 rows\n\n",
              "removedWidgets": [],
              "addedWidgets": {},
              "metadata": {},
              "type": "ansi",
              "arguments": {}
            }
          },
          "data": {
            "text/plain": [
              "+--------+------+--------------------+------+----+-----+-----+-------+--------+\n|Survived|Pclass|                Name|   Sex| Age|SibSp|Parch|   Fare|Embarked|\n+--------+------+--------------------+------+----+-----+-----+-------+--------+\n|       0|     3|Braund, Mr. Owen ...|  male|22.0|    1|    0|   7.25|       S|\n|       1|     1|Cumings, Mrs. Joh...|female|38.0|    1|    0|71.2833|       C|\n|       1|     3|Heikkinen, Miss. ...|female|26.0|    0|    0|  7.925|       S|\n|       1|     1|Futrelle, Mrs. Ja...|female|35.0|    1|    0|   53.1|       S|\n|       0|     3|Allen, Mr. Willia...|  male|35.0|    0|    0|   8.05|       S|\n+--------+------+--------------------+------+----+-----+-----+-------+--------+\nonly showing top 5 rows\n\n"
            ]
          }
        }
      ],
      "execution_count": null
    },
    {
      "cell_type": "markdown",
      "source": [
        "#### **Comment:** the feature '**name**' will be **crucial for filling in the missing values regarding the feature age**.<br><br>\n",
        "- - - "
      ],
      "metadata": {
        "id": "kdqzW5PzX2Vx"
      }
    },
    {
      "cell_type": "markdown",
      "source": [
        "### **- Imputing missing values regarding age and embarked features**:<br><br>"
      ],
      "metadata": {
        "id": "NspM4MP2WgFK"
      }
    },
    {
      "cell_type": "markdown",
      "source": [
        "#### - **`AGE`** - **1st phase:**<br>\n",
        "- To **replace the missing values, we could assign them the mean or median age of the dataset**. If we **used the distinct() and count() functions**, like we did above for other features, we would see that there were **many different ages**, **just by looking** at the **descriptive statistics** regarding the **age feature** one can tell that it **would not be appropriate to impute either the mean or median age to the missing values**.<br>\n",
        "- **Assumptions**: **age is an important factor when it comes to survival rate, younger people have higher chances of survival than older people. <br>The available lifeboats, by regulation, are primarily used to save chlidren and women.**<br>\n",
        "- We can use a **regex filter to extract the Title** and run this for every row of the dataframe and consequently **find the passangers who are women and children** (we'll **refine** this procedure latter on because **all unmarried females** across all ages had the 'Miss' title. However, among those females there were **young girls** and **adult females** with, most likely, **relevant different mean ages**), and **also adult males** with different **socio-professional categories**.<br>\n",
        "  - **After extracting the title** we'll see that the **average age** can **vary significantly for the distinct titles**.\n",
        "    - We **won't just extract titles and assign the average age to the missing values**, we will be **more accurate** than that in **imputing missing ages** as you will see in the **`2nd` phase**.<br><br>"
      ],
      "metadata": {
        "id": "07IiFtsIKYUz"
      }
    },
    {
      "cell_type": "code",
      "source": [
        "df_pyspark = df_pyspark.withColumn(\"Title\",regexp_extract(col(\"Name\"),\"([A-Za-z]+)\\.\",1))"
      ],
      "metadata": {
        "application/vnd.databricks.v1+cell": {
          "title": "",
          "showTitle": false,
          "inputWidgets": {},
          "nuid": "4af08604-4e67-40ba-ba2b-a7a304e7d4ba"
        },
        "id": "w7XC2My7sItO"
      },
      "outputs": [],
      "execution_count": null
    },
    {
      "cell_type": "code",
      "source": [
        "df_pyspark.show(5)"
      ],
      "metadata": {
        "application/vnd.databricks.v1+cell": {
          "title": "",
          "showTitle": false,
          "inputWidgets": {},
          "nuid": "a7a0b101-8b5b-4304-9229-3de3a1df3044"
        },
        "id": "Yq7pchuPsItO",
        "outputId": "b951ff8b-a49f-437f-d770-f13bdd891a91"
      },
      "outputs": [
        {
          "output_type": "display_data",
          "metadata": {
            "application/vnd.databricks.v1+output": {
              "datasetInfos": [],
              "data": "+--------+------+--------------------+------+----+-----+-----+-------+--------+-----+\n|Survived|Pclass|                Name|   Sex| Age|SibSp|Parch|   Fare|Embarked|Title|\n+--------+------+--------------------+------+----+-----+-----+-------+--------+-----+\n|       0|     3|Braund, Mr. Owen ...|  male|22.0|    1|    0|   7.25|       S|   Mr|\n|       1|     1|Cumings, Mrs. Joh...|female|38.0|    1|    0|71.2833|       C|  Mrs|\n|       1|     3|Heikkinen, Miss. ...|female|26.0|    0|    0|  7.925|       S| Miss|\n|       1|     1|Futrelle, Mrs. Ja...|female|35.0|    1|    0|   53.1|       S|  Mrs|\n|       0|     3|Allen, Mr. Willia...|  male|35.0|    0|    0|   8.05|       S|   Mr|\n+--------+------+--------------------+------+----+-----+-----+-------+--------+-----+\nonly showing top 5 rows\n\n",
              "removedWidgets": [],
              "addedWidgets": {},
              "metadata": {},
              "type": "ansi",
              "arguments": {}
            }
          },
          "data": {
            "text/plain": [
              "+--------+------+--------------------+------+----+-----+-----+-------+--------+-----+\n|Survived|Pclass|                Name|   Sex| Age|SibSp|Parch|   Fare|Embarked|Title|\n+--------+------+--------------------+------+----+-----+-----+-------+--------+-----+\n|       0|     3|Braund, Mr. Owen ...|  male|22.0|    1|    0|   7.25|       S|   Mr|\n|       1|     1|Cumings, Mrs. Joh...|female|38.0|    1|    0|71.2833|       C|  Mrs|\n|       1|     3|Heikkinen, Miss. ...|female|26.0|    0|    0|  7.925|       S| Miss|\n|       1|     1|Futrelle, Mrs. Ja...|female|35.0|    1|    0|   53.1|       S|  Mrs|\n|       0|     3|Allen, Mr. Willia...|  male|35.0|    0|    0|   8.05|       S|   Mr|\n+--------+------+--------------------+------+----+-----+-----+-------+--------+-----+\nonly showing top 5 rows\n\n"
            ]
          }
        }
      ],
      "execution_count": null
    },
    {
      "cell_type": "markdown",
      "source": [
        "#### **Let's see the different titles in our dataset:**<br>"
      ],
      "metadata": {
        "id": "MUJsBjslzvys"
      }
    },
    {
      "cell_type": "code",
      "source": [
        "df_pyspark.select(\"Title\").distinct().show()"
      ],
      "metadata": {
        "application/vnd.databricks.v1+cell": {
          "title": "",
          "showTitle": false,
          "inputWidgets": {},
          "nuid": "cc035ade-fadd-471a-b6b3-c015c77ba2d7"
        },
        "id": "XAeVIYu3sItP",
        "outputId": "135e080c-9a6e-41a9-bce6-2841e0cf62d5"
      },
      "outputs": [
        {
          "output_type": "display_data",
          "metadata": {
            "application/vnd.databricks.v1+output": {
              "datasetInfos": [],
              "data": "+--------+\n|   Title|\n+--------+\n|     Don|\n|    Miss|\n|Countess|\n|     Col|\n|     Rev|\n|    Lady|\n|  Master|\n|     Mme|\n|    Capt|\n|      Mr|\n|      Dr|\n|     Mrs|\n|     Sir|\n|Jonkheer|\n|    Mlle|\n|   Major|\n|      Ms|\n+--------+\n\n",
              "removedWidgets": [],
              "addedWidgets": {},
              "metadata": {},
              "type": "ansi",
              "arguments": {}
            }
          },
          "data": {
            "text/plain": [
              "+--------+\n|   Title|\n+--------+\n|     Don|\n|    Miss|\n|Countess|\n|     Col|\n|     Rev|\n|    Lady|\n|  Master|\n|     Mme|\n|    Capt|\n|      Mr|\n|      Dr|\n|     Mrs|\n|     Sir|\n|Jonkheer|\n|    Mlle|\n|   Major|\n|      Ms|\n+--------+\n\n"
            ]
          }
        }
      ],
      "execution_count": null
    },
    {
      "cell_type": "markdown",
      "source": [
        "#### **Comments:**\n",
        "- **There are titles that can be grouped into the same \"categories\"** like, for instance, **'Capt'** and **'Major' both are Officers**.\n",
        "- Besides, there are titles that are either **misspelled** or that **although different and correctly spelled  mean the very same thing** like, for instance, **'Mlle' means 'Miss', 'Mme' means 'Mrs'** and **Ms\" means \"Mrs\"**.\n",
        "- Regarding 'Dr' and 'Rev' we chose to replace them by 'Other'.<br><br>\n"
      ],
      "metadata": {
        "id": "vMgys01-0X2o"
      }
    },
    {
      "cell_type": "markdown",
      "source": [
        "#### Let's **replace the titles according to our rationale:**"
      ],
      "metadata": {
        "id": "hgFXoX4g7jIq"
      }
    },
    {
      "cell_type": "code",
      "source": [
        "df_pyspark = df_pyspark.replace(['Capt','Col', 'Major', 'Jonkheer','Don','Sir','Dr','Rev','Countess','Mme','Mlle','Ms','Lady'],\n",
        "               ['Officer','Officer','Officer','Royalty','Royalty', 'Royalty', 'Other','Other', 'Royalty', \"Mrs\", \"Miss\", 'Mrs', \"Royalty\"])"
      ],
      "metadata": {
        "application/vnd.databricks.v1+cell": {
          "title": "",
          "showTitle": false,
          "inputWidgets": {},
          "nuid": "aeee1f84-cc29-4d73-98ca-d49249622bba"
        },
        "id": "p-BVIZOrsItP"
      },
      "outputs": [],
      "execution_count": null
    },
    {
      "cell_type": "code",
      "source": [
        "df_pyspark.show(20)"
      ],
      "metadata": {
        "application/vnd.databricks.v1+cell": {
          "title": "",
          "showTitle": false,
          "inputWidgets": {},
          "nuid": "18d345c2-8409-455b-bd7b-5e5942bf9303"
        },
        "id": "f4xboBTFsItP",
        "outputId": "cf397b9c-979e-4080-97f4-d81b35d235e9"
      },
      "outputs": [
        {
          "output_type": "display_data",
          "metadata": {
            "application/vnd.databricks.v1+output": {
              "datasetInfos": [],
              "data": "+--------+------+--------------------+------+----+-----+-----+-------+--------+------+\n|Survived|Pclass|                Name|   Sex| Age|SibSp|Parch|   Fare|Embarked| Title|\n+--------+------+--------------------+------+----+-----+-----+-------+--------+------+\n|       0|     3|Braund, Mr. Owen ...|  male|22.0|    1|    0|   7.25|       S|    Mr|\n|       1|     1|Cumings, Mrs. Joh...|female|38.0|    1|    0|71.2833|       C|   Mrs|\n|       1|     3|Heikkinen, Miss. ...|female|26.0|    0|    0|  7.925|       S|  Miss|\n|       1|     1|Futrelle, Mrs. Ja...|female|35.0|    1|    0|   53.1|       S|   Mrs|\n|       0|     3|Allen, Mr. Willia...|  male|35.0|    0|    0|   8.05|       S|    Mr|\n|       0|     3|    Moran, Mr. James|  male|null|    0|    0| 8.4583|       Q|    Mr|\n|       0|     1|McCarthy, Mr. Tim...|  male|54.0|    0|    0|51.8625|       S|    Mr|\n|       0|     3|Palsson, Master. ...|  male| 2.0|    3|    1| 21.075|       S|Master|\n|       1|     3|Johnson, Mrs. Osc...|female|27.0|    0|    2|11.1333|       S|   Mrs|\n|       1|     2|Nasser, Mrs. Nich...|female|14.0|    1|    0|30.0708|       C|   Mrs|\n|       1|     3|Sandstrom, Miss. ...|female| 4.0|    1|    1|   16.7|       S|  Miss|\n|       1|     1|Bonnell, Miss. El...|female|58.0|    0|    0|  26.55|       S|  Miss|\n|       0|     3|Saundercock, Mr. ...|  male|20.0|    0|    0|   8.05|       S|    Mr|\n|       0|     3|Andersson, Mr. An...|  male|39.0|    1|    5| 31.275|       S|    Mr|\n|       0|     3|Vestrom, Miss. Hu...|female|14.0|    0|    0| 7.8542|       S|  Miss|\n|       1|     2|Hewlett, Mrs. (Ma...|female|55.0|    0|    0|   16.0|       S|   Mrs|\n|       0|     3|Rice, Master. Eugene|  male| 2.0|    4|    1| 29.125|       Q|Master|\n|       1|     2|Williams, Mr. Cha...|  male|null|    0|    0|   13.0|       S|    Mr|\n|       0|     3|Vander Planke, Mr...|female|31.0|    1|    0|   18.0|       S|   Mrs|\n|       1|     3|Masselmani, Mrs. ...|female|null|    0|    0|  7.225|       C|   Mrs|\n+--------+------+--------------------+------+----+-----+-----+-------+--------+------+\nonly showing top 20 rows\n\n",
              "removedWidgets": [],
              "addedWidgets": {},
              "metadata": {},
              "type": "ansi",
              "arguments": {}
            }
          },
          "data": {
            "text/plain": [
              "+--------+------+--------------------+------+----+-----+-----+-------+--------+------+\n|Survived|Pclass|                Name|   Sex| Age|SibSp|Parch|   Fare|Embarked| Title|\n+--------+------+--------------------+------+----+-----+-----+-------+--------+------+\n|       0|     3|Braund, Mr. Owen ...|  male|22.0|    1|    0|   7.25|       S|    Mr|\n|       1|     1|Cumings, Mrs. Joh...|female|38.0|    1|    0|71.2833|       C|   Mrs|\n|       1|     3|Heikkinen, Miss. ...|female|26.0|    0|    0|  7.925|       S|  Miss|\n|       1|     1|Futrelle, Mrs. Ja...|female|35.0|    1|    0|   53.1|       S|   Mrs|\n|       0|     3|Allen, Mr. Willia...|  male|35.0|    0|    0|   8.05|       S|    Mr|\n|       0|     3|    Moran, Mr. James|  male|null|    0|    0| 8.4583|       Q|    Mr|\n|       0|     1|McCarthy, Mr. Tim...|  male|54.0|    0|    0|51.8625|       S|    Mr|\n|       0|     3|Palsson, Master. ...|  male| 2.0|    3|    1| 21.075|       S|Master|\n|       1|     3|Johnson, Mrs. Osc...|female|27.0|    0|    2|11.1333|       S|   Mrs|\n|       1|     2|Nasser, Mrs. Nich...|female|14.0|    1|    0|30.0708|       C|   Mrs|\n|       1|     3|Sandstrom, Miss. ...|female| 4.0|    1|    1|   16.7|       S|  Miss|\n|       1|     1|Bonnell, Miss. El...|female|58.0|    0|    0|  26.55|       S|  Miss|\n|       0|     3|Saundercock, Mr. ...|  male|20.0|    0|    0|   8.05|       S|    Mr|\n|       0|     3|Andersson, Mr. An...|  male|39.0|    1|    5| 31.275|       S|    Mr|\n|       0|     3|Vestrom, Miss. Hu...|female|14.0|    0|    0| 7.8542|       S|  Miss|\n|       1|     2|Hewlett, Mrs. (Ma...|female|55.0|    0|    0|   16.0|       S|   Mrs|\n|       0|     3|Rice, Master. Eugene|  male| 2.0|    4|    1| 29.125|       Q|Master|\n|       1|     2|Williams, Mr. Cha...|  male|null|    0|    0|   13.0|       S|    Mr|\n|       0|     3|Vander Planke, Mr...|female|31.0|    1|    0|   18.0|       S|   Mrs|\n|       1|     3|Masselmani, Mrs. ...|female|null|    0|    0|  7.225|       C|   Mrs|\n+--------+------+--------------------+------+----+-----+-----+-------+--------+------+\nonly showing top 20 rows\n\n"
            ]
          }
        }
      ],
      "execution_count": null
    },
    {
      "cell_type": "markdown",
      "source": [
        "#### **Comments**: \n",
        "- **All unmarried females across all ages had the 'Miss' title**. However, among those females there were **young girls** and **adult females** with, most likely, **relevant different mean ages**.\n",
        "- There is a **rationale** that we **may apply to  distinguish those two cases**: **if Parch > 0**, then most likely **they are female children traveling with at least one parent** (we will name the title as **'MissPar'**); **if Parch = 0**, then it's likely that they are adult females traveling alone (we will name the title as **'MissA'**). <br><br>\n",
        "\n",
        "**Let us check how different are the mean ages for those two different cases:**<br>\n"
      ],
      "metadata": {
        "id": "qvjg0lZ38Krp"
      }
    },
    {
      "cell_type": "code",
      "source": [
        "print(\"Average age of a Miss travelling without Parents 'MissA'\", df_pyspark[(df_pyspark.Title==\"Miss\") & (df_pyspark.Parch==0)].agg(mean('Age').alias('mean')).collect())\n",
        "print(\"Average age of a Miss travelling with Parents 'MissPar'\", df_pyspark[(df_pyspark.Title==\"Miss\") & (df_pyspark.Parch!=0)].agg(mean('Age').alias('mean')).collect())"
      ],
      "metadata": {
        "application/vnd.databricks.v1+cell": {
          "title": "",
          "showTitle": false,
          "inputWidgets": {},
          "nuid": "f7cd553c-1dbd-4170-a041-2046da3a7d8a"
        },
        "id": "EWWCLxMgsItQ",
        "outputId": "fe03c71d-f722-4824-b2cb-3c1b3dda1e4c"
      },
      "outputs": [
        {
          "output_type": "display_data",
          "metadata": {
            "application/vnd.databricks.v1+output": {
              "datasetInfos": [],
              "data": "Average age of a Miss travelling without Parents 'MissA' [Row(mean=27.682795698924732)]\nAverage age of a Miss travelling with Parents 'MissPar' [Row(mean=11.863636363636363)]\n",
              "removedWidgets": [],
              "addedWidgets": {},
              "metadata": {},
              "type": "ansi",
              "arguments": {}
            }
          },
          "data": {
            "text/plain": [
              "Average age of a Miss travelling without Parents 'MissA' [Row(mean=27.682795698924732)]\nAverage age of a Miss travelling with Parents 'MissPar' [Row(mean=11.863636363636363)]\n"
            ]
          }
        }
      ],
      "execution_count": null
    },
    {
      "cell_type": "markdown",
      "source": [
        "#### **Comment: the difference between the mean ages for the two different cases is noticeable!** <br>Being so, let's **add a column with the new titles for each of those cases replacing the 'Miss' title** by **'MissA'** and **'MissPar' accordingly**:<br>\n"
      ],
      "metadata": {
        "id": "_scVw9RXFgGq"
      }
    },
    {
      "cell_type": "code",
      "source": [
        "df_pyspark = df_pyspark.withColumn(\"NewTitle\",\n",
        "                        when((df_pyspark.Title==\"Miss\") & (df_pyspark.Parch==0), 'MissA')\n",
        "                       .when((df_pyspark.Title==\"Miss\") & (df_pyspark.Parch!=0), 'MissPar')\n",
        "                       .otherwise(df_pyspark['Title']))\n",
        "                      "
      ],
      "metadata": {
        "application/vnd.databricks.v1+cell": {
          "title": "",
          "showTitle": false,
          "inputWidgets": {},
          "nuid": "ce12dcbf-3b8b-46c9-8229-57da6a699944"
        },
        "id": "nZGCuozvsItQ"
      },
      "outputs": [],
      "execution_count": null
    },
    {
      "cell_type": "code",
      "source": [
        "df_pyspark.show(20)"
      ],
      "metadata": {
        "application/vnd.databricks.v1+cell": {
          "title": "",
          "showTitle": false,
          "inputWidgets": {},
          "nuid": "18a41c6f-81d2-40de-acdb-812201cbe743"
        },
        "id": "qxXVKcaFsItQ",
        "outputId": "4b9dfa28-123b-4e5d-843a-9ee24686fa3a"
      },
      "outputs": [
        {
          "output_type": "display_data",
          "metadata": {
            "application/vnd.databricks.v1+output": {
              "datasetInfos": [],
              "data": "+--------+------+--------------------+------+----+-----+-----+-------+--------+------+--------+\n|Survived|Pclass|                Name|   Sex| Age|SibSp|Parch|   Fare|Embarked| Title|NewTitle|\n+--------+------+--------------------+------+----+-----+-----+-------+--------+------+--------+\n|       0|     3|Braund, Mr. Owen ...|  male|22.0|    1|    0|   7.25|       S|    Mr|      Mr|\n|       1|     1|Cumings, Mrs. Joh...|female|38.0|    1|    0|71.2833|       C|   Mrs|     Mrs|\n|       1|     3|Heikkinen, Miss. ...|female|26.0|    0|    0|  7.925|       S|  Miss|   MissA|\n|       1|     1|Futrelle, Mrs. Ja...|female|35.0|    1|    0|   53.1|       S|   Mrs|     Mrs|\n|       0|     3|Allen, Mr. Willia...|  male|35.0|    0|    0|   8.05|       S|    Mr|      Mr|\n|       0|     3|    Moran, Mr. James|  male|null|    0|    0| 8.4583|       Q|    Mr|      Mr|\n|       0|     1|McCarthy, Mr. Tim...|  male|54.0|    0|    0|51.8625|       S|    Mr|      Mr|\n|       0|     3|Palsson, Master. ...|  male| 2.0|    3|    1| 21.075|       S|Master|  Master|\n|       1|     3|Johnson, Mrs. Osc...|female|27.0|    0|    2|11.1333|       S|   Mrs|     Mrs|\n|       1|     2|Nasser, Mrs. Nich...|female|14.0|    1|    0|30.0708|       C|   Mrs|     Mrs|\n|       1|     3|Sandstrom, Miss. ...|female| 4.0|    1|    1|   16.7|       S|  Miss| MissPar|\n|       1|     1|Bonnell, Miss. El...|female|58.0|    0|    0|  26.55|       S|  Miss|   MissA|\n|       0|     3|Saundercock, Mr. ...|  male|20.0|    0|    0|   8.05|       S|    Mr|      Mr|\n|       0|     3|Andersson, Mr. An...|  male|39.0|    1|    5| 31.275|       S|    Mr|      Mr|\n|       0|     3|Vestrom, Miss. Hu...|female|14.0|    0|    0| 7.8542|       S|  Miss|   MissA|\n|       1|     2|Hewlett, Mrs. (Ma...|female|55.0|    0|    0|   16.0|       S|   Mrs|     Mrs|\n|       0|     3|Rice, Master. Eugene|  male| 2.0|    4|    1| 29.125|       Q|Master|  Master|\n|       1|     2|Williams, Mr. Cha...|  male|null|    0|    0|   13.0|       S|    Mr|      Mr|\n|       0|     3|Vander Planke, Mr...|female|31.0|    1|    0|   18.0|       S|   Mrs|     Mrs|\n|       1|     3|Masselmani, Mrs. ...|female|null|    0|    0|  7.225|       C|   Mrs|     Mrs|\n+--------+------+--------------------+------+----+-----+-----+-------+--------+------+--------+\nonly showing top 20 rows\n\n",
              "removedWidgets": [],
              "addedWidgets": {},
              "metadata": {},
              "type": "ansi",
              "arguments": {}
            }
          },
          "data": {
            "text/plain": [
              "+--------+------+--------------------+------+----+-----+-----+-------+--------+------+--------+\n|Survived|Pclass|                Name|   Sex| Age|SibSp|Parch|   Fare|Embarked| Title|NewTitle|\n+--------+------+--------------------+------+----+-----+-----+-------+--------+------+--------+\n|       0|     3|Braund, Mr. Owen ...|  male|22.0|    1|    0|   7.25|       S|    Mr|      Mr|\n|       1|     1|Cumings, Mrs. Joh...|female|38.0|    1|    0|71.2833|       C|   Mrs|     Mrs|\n|       1|     3|Heikkinen, Miss. ...|female|26.0|    0|    0|  7.925|       S|  Miss|   MissA|\n|       1|     1|Futrelle, Mrs. Ja...|female|35.0|    1|    0|   53.1|       S|   Mrs|     Mrs|\n|       0|     3|Allen, Mr. Willia...|  male|35.0|    0|    0|   8.05|       S|    Mr|      Mr|\n|       0|     3|    Moran, Mr. James|  male|null|    0|    0| 8.4583|       Q|    Mr|      Mr|\n|       0|     1|McCarthy, Mr. Tim...|  male|54.0|    0|    0|51.8625|       S|    Mr|      Mr|\n|       0|     3|Palsson, Master. ...|  male| 2.0|    3|    1| 21.075|       S|Master|  Master|\n|       1|     3|Johnson, Mrs. Osc...|female|27.0|    0|    2|11.1333|       S|   Mrs|     Mrs|\n|       1|     2|Nasser, Mrs. Nich...|female|14.0|    1|    0|30.0708|       C|   Mrs|     Mrs|\n|       1|     3|Sandstrom, Miss. ...|female| 4.0|    1|    1|   16.7|       S|  Miss| MissPar|\n|       1|     1|Bonnell, Miss. El...|female|58.0|    0|    0|  26.55|       S|  Miss|   MissA|\n|       0|     3|Saundercock, Mr. ...|  male|20.0|    0|    0|   8.05|       S|    Mr|      Mr|\n|       0|     3|Andersson, Mr. An...|  male|39.0|    1|    5| 31.275|       S|    Mr|      Mr|\n|       0|     3|Vestrom, Miss. Hu...|female|14.0|    0|    0| 7.8542|       S|  Miss|   MissA|\n|       1|     2|Hewlett, Mrs. (Ma...|female|55.0|    0|    0|   16.0|       S|   Mrs|     Mrs|\n|       0|     3|Rice, Master. Eugene|  male| 2.0|    4|    1| 29.125|       Q|Master|  Master|\n|       1|     2|Williams, Mr. Cha...|  male|null|    0|    0|   13.0|       S|    Mr|      Mr|\n|       0|     3|Vander Planke, Mr...|female|31.0|    1|    0|   18.0|       S|   Mrs|     Mrs|\n|       1|     3|Masselmani, Mrs. ...|female|null|    0|    0|  7.225|       C|   Mrs|     Mrs|\n+--------+------+--------------------+------+----+-----+-----+-------+--------+------+--------+\nonly showing top 20 rows\n\n"
            ]
          }
        }
      ],
      "execution_count": null
    },
    {
      "cell_type": "markdown",
      "source": [
        "#### - **`EMBARKED`**: this feature has **only two missining values** and **almost 3/4 of the passengers boarded from \"S\"** (Southampton). **We'll impute \"S\"**."
      ],
      "metadata": {
        "id": "pSPrYdi9wGWV"
      }
    },
    {
      "cell_type": "code",
      "source": [
        "df_pyspark = df_pyspark.na.fill({\"Embarked\" : 'S'})"
      ],
      "metadata": {
        "application/vnd.databricks.v1+cell": {
          "title": "",
          "showTitle": false,
          "inputWidgets": {},
          "nuid": "ecdccba6-2e05-42e3-babf-d5c48f423c17"
        },
        "id": "ew_E7Ay8sItQ"
      },
      "outputs": [],
      "execution_count": null
    },
    {
      "cell_type": "markdown",
      "source": [
        "#### - **`AGE`** - **2nd phase:** \n",
        "- To be **more accurate** in **imputing missing ages** we will **compute the mean age of groups of 'similar passengers'** considering some **features combined**.\n",
        "- For that, given the **huge difference regarding the actual survival rate among the three different classes** (Pclass1, Pclass2 and Pclass3), we'll **group the features 'NewTitle' and 'Pclass' to define groups of 'similar passengers'** (in what concerns to those two features) and then **find** the **average age** of those **'similar passengers'**:\n",
        "<br><br>"
      ],
      "metadata": {
        "id": "DljPGdRkQWBw"
      }
    },
    {
      "cell_type": "code",
      "source": [
        "my_list = df_pyspark.groupby(['NewTitle', 'Pclass']).avg(('Age')).collect()"
      ],
      "metadata": {
        "application/vnd.databricks.v1+cell": {
          "title": "",
          "showTitle": false,
          "inputWidgets": {},
          "nuid": "456d7d4e-be14-457b-9b3a-b6beca8535a1"
        },
        "id": "u9XNCS_qsItQ"
      },
      "outputs": [],
      "execution_count": null
    },
    {
      "cell_type": "code",
      "source": [
        "spark.createDataFrame(my_list).show()"
      ],
      "metadata": {
        "application/vnd.databricks.v1+cell": {
          "title": "",
          "showTitle": false,
          "inputWidgets": {},
          "nuid": "35df0d2d-15b8-4798-8ef7-64761dadeede"
        },
        "id": "469ng2QIsItR",
        "outputId": "ed36196e-f1ed-44d9-97d2-ef648037dc53"
      },
      "outputs": [
        {
          "output_type": "display_data",
          "metadata": {
            "application/vnd.databricks.v1+output": {
              "datasetInfos": [],
              "data": "+--------+------+------------------+\n|NewTitle|Pclass|          avg(Age)|\n+--------+------+------------------+\n|   MissA|     2|              30.5|\n|     Mrs|     3|33.515151515151516|\n|      Mr|     1| 41.58045977011494|\n|   Other|     1|             43.75|\n| MissPar|     3| 6.903846153846154|\n| MissPar|     1|              21.0|\n|   MissA|     1| 34.25806451612903|\n|     Mrs|     1|              40.4|\n|   Other|     2|              42.0|\n|      Mr|     2| 32.76829268292683|\n|  Master|     3| 5.350833333333334|\n|   MissA|     3|21.697674418604652|\n| Officer|     1|              56.6|\n|      Mr|     3|28.724890829694324|\n| Royalty|     1|              41.6|\n|  Master|     2|2.2588888888888885|\n|  Master|     1| 5.306666666666667|\n| MissPar|     2|10.538461538461538|\n|     Mrs|     2| 33.54761904761905|\n+--------+------+------------------+\n\n",
              "removedWidgets": [],
              "addedWidgets": {},
              "metadata": {},
              "type": "ansi",
              "arguments": {}
            }
          },
          "data": {
            "text/plain": [
              "+--------+------+------------------+\n|NewTitle|Pclass|          avg(Age)|\n+--------+------+------------------+\n|   MissA|     2|              30.5|\n|     Mrs|     3|33.515151515151516|\n|      Mr|     1| 41.58045977011494|\n|   Other|     1|             43.75|\n| MissPar|     3| 6.903846153846154|\n| MissPar|     1|              21.0|\n|   MissA|     1| 34.25806451612903|\n|     Mrs|     1|              40.4|\n|   Other|     2|              42.0|\n|      Mr|     2| 32.76829268292683|\n|  Master|     3| 5.350833333333334|\n|   MissA|     3|21.697674418604652|\n| Officer|     1|              56.6|\n|      Mr|     3|28.724890829694324|\n| Royalty|     1|              41.6|\n|  Master|     2|2.2588888888888885|\n|  Master|     1| 5.306666666666667|\n| MissPar|     2|10.538461538461538|\n|     Mrs|     2| 33.54761904761905|\n+--------+------+------------------+\n\n"
            ]
          }
        }
      ],
      "execution_count": null
    },
    {
      "cell_type": "markdown",
      "source": [
        "#### Let's **add a column** ('**AgeImputed**') and **replace the 'age' missing values assigning them the average age of the 'similar passengers'**:<br>\n"
      ],
      "metadata": {
        "id": "GFDmNhdU7b6i"
      }
    },
    {
      "cell_type": "code",
      "source": [
        "df_pyspark = df_pyspark.withColumn(\"AgeImputed\",\n",
        "                         when((df_pyspark.NewTitle==\"Mr\") & (df_pyspark.Pclass==3) & (df_pyspark.Age.isNull()), 28.7)\n",
        "                        .when((df_pyspark.NewTitle==\"Mr\") & (df_pyspark.Pclass==2) & (df_pyspark.Age.isNull()), 32.8)\n",
        "                        .when((df_pyspark.NewTitle==\"Mr\") & (df_pyspark.Pclass==1) & (df_pyspark.Age.isNull()), 41.6)\n",
        "                        .when((df_pyspark.NewTitle==\"Mrs\") & (df_pyspark.Pclass==3) & (df_pyspark.Age.isNull()), 33.5)\n",
        "                        .when((df_pyspark.NewTitle==\"Mrs\") & (df_pyspark.Pclass==2) & (df_pyspark.Age.isNull()), 33.5)\n",
        "                        .when((df_pyspark.NewTitle==\"Mrs\") & (df_pyspark.Pclass==1) & (df_pyspark.Age.isNull()), 40.4)\n",
        "                        .when((df_pyspark.NewTitle==\"Other\") & (df_pyspark.Pclass==2) & (df_pyspark.Age.isNull()), 42)\n",
        "                        .when((df_pyspark.NewTitle==\"Other\") & (df_pyspark.Pclass==1) & (df_pyspark.Age.isNull()), 43.8)\n",
        "                        .when((df_pyspark.NewTitle==\"MissA\") & (df_pyspark.Pclass==3) & (df_pyspark.Age.isNull()), 21.7)\n",
        "                        .when((df_pyspark.NewTitle==\"MissA\") & (df_pyspark.Pclass==2) & (df_pyspark.Age.isNull()), 30.5)\n",
        "                        .when((df_pyspark.NewTitle==\"MissA\") & (df_pyspark.Pclass==1) & (df_pyspark.Age.isNull()), 34.3)\n",
        "                        .when((df_pyspark.NewTitle==\"MissPar\") & (df_pyspark.Pclass==3) & (df_pyspark.Age.isNull()), 6.9)\n",
        "                        .when((df_pyspark.NewTitle==\"MissPar\") & (df_pyspark.Pclass==2) & (df_pyspark.Age.isNull()), 10.5)\n",
        "                        .when((df_pyspark.NewTitle==\"MissPar\") & (df_pyspark.Pclass==1) & (df_pyspark.Age.isNull()), 21)\n",
        "                        .when((df_pyspark.NewTitle==\"Master\") & (df_pyspark.Pclass==3) & (df_pyspark.Age.isNull()), 5.4)\n",
        "                        .when((df_pyspark.NewTitle==\"Master\") & (df_pyspark.Pclass==2) & (df_pyspark.Age.isNull()), 2.3)\n",
        "                        .when((df_pyspark.NewTitle==\"Master\") & (df_pyspark.Pclass==3) & (df_pyspark.Age.isNull()), 5.3)\n",
        "                        .when((df_pyspark.NewTitle==\"Officer|\") & (df_pyspark.Pclass==1) & (df_pyspark.Age.isNull()), 56.6)\n",
        "                        .when((df_pyspark.NewTitle==\"Royalty|\") & (df_pyspark.Pclass==1) & (df_pyspark.Age.isNull()), 41.6)\n",
        "                        .otherwise(df_pyspark.Age))"
      ],
      "metadata": {
        "application/vnd.databricks.v1+cell": {
          "title": "",
          "showTitle": false,
          "inputWidgets": {},
          "nuid": "6af7fddb-d00e-4f6e-aa27-6df0a3b03c07"
        },
        "id": "a95s9ytNsItR"
      },
      "outputs": [],
      "execution_count": null
    },
    {
      "cell_type": "code",
      "source": [
        "df_pyspark.show(20)"
      ],
      "metadata": {
        "application/vnd.databricks.v1+cell": {
          "title": "",
          "showTitle": false,
          "inputWidgets": {},
          "nuid": "215716e3-0262-4f9c-ba95-3054c69d6a88"
        },
        "id": "dpn2Gou5sItR",
        "outputId": "87a72b8d-86c2-4017-a7bd-7c2625800356"
      },
      "outputs": [
        {
          "output_type": "display_data",
          "metadata": {
            "application/vnd.databricks.v1+output": {
              "datasetInfos": [],
              "data": "+--------+------+--------------------+------+----+-----+-----+-------+--------+------+--------+----------+\n|Survived|Pclass|                Name|   Sex| Age|SibSp|Parch|   Fare|Embarked| Title|NewTitle|AgeImputed|\n+--------+------+--------------------+------+----+-----+-----+-------+--------+------+--------+----------+\n|       0|     3|Braund, Mr. Owen ...|  male|22.0|    1|    0|   7.25|       S|    Mr|      Mr|      22.0|\n|       1|     1|Cumings, Mrs. Joh...|female|38.0|    1|    0|71.2833|       C|   Mrs|     Mrs|      38.0|\n|       1|     3|Heikkinen, Miss. ...|female|26.0|    0|    0|  7.925|       S|  Miss|   MissA|      26.0|\n|       1|     1|Futrelle, Mrs. Ja...|female|35.0|    1|    0|   53.1|       S|   Mrs|     Mrs|      35.0|\n|       0|     3|Allen, Mr. Willia...|  male|35.0|    0|    0|   8.05|       S|    Mr|      Mr|      35.0|\n|       0|     3|    Moran, Mr. James|  male|null|    0|    0| 8.4583|       Q|    Mr|      Mr|      28.7|\n|       0|     1|McCarthy, Mr. Tim...|  male|54.0|    0|    0|51.8625|       S|    Mr|      Mr|      54.0|\n|       0|     3|Palsson, Master. ...|  male| 2.0|    3|    1| 21.075|       S|Master|  Master|       2.0|\n|       1|     3|Johnson, Mrs. Osc...|female|27.0|    0|    2|11.1333|       S|   Mrs|     Mrs|      27.0|\n|       1|     2|Nasser, Mrs. Nich...|female|14.0|    1|    0|30.0708|       C|   Mrs|     Mrs|      14.0|\n|       1|     3|Sandstrom, Miss. ...|female| 4.0|    1|    1|   16.7|       S|  Miss| MissPar|       4.0|\n|       1|     1|Bonnell, Miss. El...|female|58.0|    0|    0|  26.55|       S|  Miss|   MissA|      58.0|\n|       0|     3|Saundercock, Mr. ...|  male|20.0|    0|    0|   8.05|       S|    Mr|      Mr|      20.0|\n|       0|     3|Andersson, Mr. An...|  male|39.0|    1|    5| 31.275|       S|    Mr|      Mr|      39.0|\n|       0|     3|Vestrom, Miss. Hu...|female|14.0|    0|    0| 7.8542|       S|  Miss|   MissA|      14.0|\n|       1|     2|Hewlett, Mrs. (Ma...|female|55.0|    0|    0|   16.0|       S|   Mrs|     Mrs|      55.0|\n|       0|     3|Rice, Master. Eugene|  male| 2.0|    4|    1| 29.125|       Q|Master|  Master|       2.0|\n|       1|     2|Williams, Mr. Cha...|  male|null|    0|    0|   13.0|       S|    Mr|      Mr|      32.8|\n|       0|     3|Vander Planke, Mr...|female|31.0|    1|    0|   18.0|       S|   Mrs|     Mrs|      31.0|\n|       1|     3|Masselmani, Mrs. ...|female|null|    0|    0|  7.225|       C|   Mrs|     Mrs|      33.5|\n+--------+------+--------------------+------+----+-----+-----+-------+--------+------+--------+----------+\nonly showing top 20 rows\n\n",
              "removedWidgets": [],
              "addedWidgets": {},
              "metadata": {},
              "type": "ansi",
              "arguments": {}
            }
          },
          "data": {
            "text/plain": [
              "+--------+------+--------------------+------+----+-----+-----+-------+--------+------+--------+----------+\n|Survived|Pclass|                Name|   Sex| Age|SibSp|Parch|   Fare|Embarked| Title|NewTitle|AgeImputed|\n+--------+------+--------------------+------+----+-----+-----+-------+--------+------+--------+----------+\n|       0|     3|Braund, Mr. Owen ...|  male|22.0|    1|    0|   7.25|       S|    Mr|      Mr|      22.0|\n|       1|     1|Cumings, Mrs. Joh...|female|38.0|    1|    0|71.2833|       C|   Mrs|     Mrs|      38.0|\n|       1|     3|Heikkinen, Miss. ...|female|26.0|    0|    0|  7.925|       S|  Miss|   MissA|      26.0|\n|       1|     1|Futrelle, Mrs. Ja...|female|35.0|    1|    0|   53.1|       S|   Mrs|     Mrs|      35.0|\n|       0|     3|Allen, Mr. Willia...|  male|35.0|    0|    0|   8.05|       S|    Mr|      Mr|      35.0|\n|       0|     3|    Moran, Mr. James|  male|null|    0|    0| 8.4583|       Q|    Mr|      Mr|      28.7|\n|       0|     1|McCarthy, Mr. Tim...|  male|54.0|    0|    0|51.8625|       S|    Mr|      Mr|      54.0|\n|       0|     3|Palsson, Master. ...|  male| 2.0|    3|    1| 21.075|       S|Master|  Master|       2.0|\n|       1|     3|Johnson, Mrs. Osc...|female|27.0|    0|    2|11.1333|       S|   Mrs|     Mrs|      27.0|\n|       1|     2|Nasser, Mrs. Nich...|female|14.0|    1|    0|30.0708|       C|   Mrs|     Mrs|      14.0|\n|       1|     3|Sandstrom, Miss. ...|female| 4.0|    1|    1|   16.7|       S|  Miss| MissPar|       4.0|\n|       1|     1|Bonnell, Miss. El...|female|58.0|    0|    0|  26.55|       S|  Miss|   MissA|      58.0|\n|       0|     3|Saundercock, Mr. ...|  male|20.0|    0|    0|   8.05|       S|    Mr|      Mr|      20.0|\n|       0|     3|Andersson, Mr. An...|  male|39.0|    1|    5| 31.275|       S|    Mr|      Mr|      39.0|\n|       0|     3|Vestrom, Miss. Hu...|female|14.0|    0|    0| 7.8542|       S|  Miss|   MissA|      14.0|\n|       1|     2|Hewlett, Mrs. (Ma...|female|55.0|    0|    0|   16.0|       S|   Mrs|     Mrs|      55.0|\n|       0|     3|Rice, Master. Eugene|  male| 2.0|    4|    1| 29.125|       Q|Master|  Master|       2.0|\n|       1|     2|Williams, Mr. Cha...|  male|null|    0|    0|   13.0|       S|    Mr|      Mr|      32.8|\n|       0|     3|Vander Planke, Mr...|female|31.0|    1|    0|   18.0|       S|   Mrs|     Mrs|      31.0|\n|       1|     3|Masselmani, Mrs. ...|female|null|    0|    0|  7.225|       C|   Mrs|     Mrs|      33.5|\n+--------+------+--------------------+------+----+-----+-----+-------+--------+------+--------+----------+\nonly showing top 20 rows\n\n"
            ]
          }
        }
      ],
      "execution_count": null
    },
    {
      "cell_type": "markdown",
      "source": [
        "## **`Features Selection: 2nd phase`:** <br><br>"
      ],
      "metadata": {
        "id": "tuk4QSv8_INU"
      }
    },
    {
      "cell_type": "markdown",
      "source": [
        "#### We **don't need the columns 'Name','Age' and 'Title'** anymore, let's **remove** them:<br>"
      ],
      "metadata": {
        "id": "ulgiPDFz8io2"
      }
    },
    {
      "cell_type": "code",
      "source": [
        "df_pyspark=df_pyspark.drop('Name','Age','Title')"
      ],
      "metadata": {
        "application/vnd.databricks.v1+cell": {
          "title": "",
          "showTitle": false,
          "inputWidgets": {},
          "nuid": "2cda7b93-6926-418d-bc16-f6d2e4286546"
        },
        "id": "k3CkyCxysItR"
      },
      "outputs": [],
      "execution_count": null
    },
    {
      "cell_type": "markdown",
      "source": [
        "#### Let's **check** if **there are still any missing values**:<br>"
      ],
      "metadata": {
        "id": "SrUI99Wz_lYW"
      }
    },
    {
      "cell_type": "code",
      "source": [
        "df_pyspark.select([count(when(isnan(c)|col(c).isNull(),c)).alias(c) for c in df_pyspark.columns]).show()"
      ],
      "metadata": {
        "application/vnd.databricks.v1+cell": {
          "title": "",
          "showTitle": false,
          "inputWidgets": {},
          "nuid": "8765a57e-0e9a-4ad5-8ce6-5066769f30f8"
        },
        "id": "oKEUOJ-jsItR",
        "outputId": "5f8f7490-23a2-42bc-bbf7-3282608975ff"
      },
      "outputs": [
        {
          "output_type": "display_data",
          "metadata": {
            "application/vnd.databricks.v1+output": {
              "datasetInfos": [],
              "data": "+--------+------+---+-----+-----+----+--------+--------+----------+\n|Survived|Pclass|Sex|SibSp|Parch|Fare|Embarked|NewTitle|AgeImputed|\n+--------+------+---+-----+-----+----+--------+--------+----------+\n|       0|     0|  0|    0|    0|   0|       0|       0|         0|\n+--------+------+---+-----+-----+----+--------+--------+----------+\n\n",
              "removedWidgets": [],
              "addedWidgets": {},
              "metadata": {},
              "type": "ansi",
              "arguments": {}
            }
          },
          "data": {
            "text/plain": [
              "+--------+------+---+-----+-----+----+--------+--------+----------+\n|Survived|Pclass|Sex|SibSp|Parch|Fare|Embarked|NewTitle|AgeImputed|\n+--------+------+---+-----+-----+----+--------+--------+----------+\n|       0|     0|  0|    0|    0|   0|       0|       0|         0|\n+--------+------+---+-----+-----+----+--------+--------+----------+\n\n"
            ]
          }
        }
      ],
      "execution_count": null
    },
    {
      "cell_type": "markdown",
      "source": [
        "#### **Check the schema after the changes we made**:"
      ],
      "metadata": {
        "id": "sEU7DhWwAL_n"
      }
    },
    {
      "cell_type": "code",
      "source": [
        "df_pyspark.printSchema()"
      ],
      "metadata": {
        "application/vnd.databricks.v1+cell": {
          "title": "",
          "showTitle": false,
          "inputWidgets": {},
          "nuid": "ef0f922f-7387-4d5f-9d8e-0dffa56af3f1"
        },
        "id": "27a44lDFsItS",
        "outputId": "420c6ea5-56ec-4e4d-b889-d4914037d5f2"
      },
      "outputs": [
        {
          "output_type": "display_data",
          "metadata": {
            "application/vnd.databricks.v1+output": {
              "datasetInfos": [],
              "data": "root\n |-- Survived: integer (nullable = true)\n |-- Pclass: integer (nullable = true)\n |-- Sex: string (nullable = true)\n |-- SibSp: integer (nullable = true)\n |-- Parch: integer (nullable = true)\n |-- Fare: double (nullable = true)\n |-- Embarked: string (nullable = false)\n |-- NewTitle: string (nullable = true)\n |-- AgeImputed: double (nullable = true)\n\n",
              "removedWidgets": [],
              "addedWidgets": {},
              "metadata": {},
              "type": "ansi",
              "arguments": {}
            }
          },
          "data": {
            "text/plain": [
              "root\n |-- Survived: integer (nullable = true)\n |-- Pclass: integer (nullable = true)\n |-- Sex: string (nullable = true)\n |-- SibSp: integer (nullable = true)\n |-- Parch: integer (nullable = true)\n |-- Fare: double (nullable = true)\n |-- Embarked: string (nullable = false)\n |-- NewTitle: string (nullable = true)\n |-- AgeImputed: double (nullable = true)\n\n"
            ]
          }
        }
      ],
      "execution_count": null
    },
    {
      "cell_type": "markdown",
      "source": [
        "### Let's do some **feature engineering**:<br>\n",
        "- - - \n"
      ],
      "metadata": {
        "id": "S6tGkRuwAeZY"
      }
    },
    {
      "cell_type": "markdown",
      "source": [
        "#### - **Create a function to convert categorical attributes into a binary vector with at most a single one-value per row that indicates the input category index** (using **OneHotEncoder**), the last category is not included by default), **but first convert non-numeric data to numeric data** (using **StringIndexer**):<br>"
      ],
      "metadata": {
        "id": "-lwPv3xBhVyL"
      }
    },
    {
      "cell_type": "code",
      "source": [
        "stages=[]\n",
        "cat=['Sex','Embarked','Pclass','NewTitle']"
      ],
      "metadata": {
        "application/vnd.databricks.v1+cell": {
          "title": "",
          "showTitle": false,
          "inputWidgets": {},
          "nuid": "ad40c7c9-eb01-455b-b9c9-5f46c58c7eb5"
        },
        "id": "L-G8SaXIsItS"
      },
      "outputs": [],
      "execution_count": null
    },
    {
      "cell_type": "code",
      "source": [
        "for catCol in cat:\n",
        "    indexer = StringIndexer(inputCol=catCol, outputCol=catCol+'Index',stringOrderType='frequencyDesc')\n",
        "    encoder=OneHotEncoder(inputCols=[indexer.getOutputCol()],outputCols=[catCol+'catVec'])\n",
        "    stages+=[indexer,encoder]\n",
        "    "
      ],
      "metadata": {
        "application/vnd.databricks.v1+cell": {
          "title": "",
          "showTitle": false,
          "inputWidgets": {},
          "nuid": "678d3fed-9f74-4b8e-a0dc-d3d255472433"
        },
        "id": "D67p-VUpsItS"
      },
      "outputs": [],
      "execution_count": null
    },
    {
      "cell_type": "code",
      "source": [
        "stages"
      ],
      "metadata": {
        "application/vnd.databricks.v1+cell": {
          "title": "",
          "showTitle": false,
          "inputWidgets": {},
          "nuid": "e8551856-e06c-4122-921c-1a10bfb019ec"
        },
        "id": "Ipwc-HrmsItS",
        "outputId": "d3bb53c6-4ed5-403e-d46d-ccdcb28636fc"
      },
      "outputs": [
        {
          "output_type": "display_data",
          "metadata": {
            "application/vnd.databricks.v1+output": {
              "datasetInfos": [],
              "data": "Out[41]: [StringIndexer_2b8e03e5edd1,\n OneHotEncoder_2e80bd7e7d14,\n StringIndexer_228dadd0d844,\n OneHotEncoder_7b298d9a0828,\n StringIndexer_951e438a15f2,\n OneHotEncoder_5d752733591f,\n StringIndexer_9cd059cedd96,\n OneHotEncoder_1f399ad4b154]",
              "removedWidgets": [],
              "addedWidgets": {},
              "metadata": {},
              "type": "ansi",
              "arguments": {}
            }
          },
          "data": {
            "text/plain": [
              "Out[41]: [StringIndexer_2b8e03e5edd1,\n OneHotEncoder_2e80bd7e7d14,\n StringIndexer_228dadd0d844,\n OneHotEncoder_7b298d9a0828,\n StringIndexer_951e438a15f2,\n OneHotEncoder_5d752733591f,\n StringIndexer_9cd059cedd96,\n OneHotEncoder_1f399ad4b154]"
            ]
          }
        }
      ],
      "execution_count": null
    },
    {
      "cell_type": "markdown",
      "source": [
        "#### Let's **combine the list of columns of our interest into a single vector column properly named 'features'** (using **VectorAssembler**):<br>"
      ],
      "metadata": {
        "id": "MDh2KjPVkzUt"
      }
    },
    {
      "cell_type": "code",
      "source": [
        "numeric=['Fare','SibSp','Parch','AgeImputed']"
      ],
      "metadata": {
        "application/vnd.databricks.v1+cell": {
          "title": "",
          "showTitle": false,
          "inputWidgets": {},
          "nuid": "70dfcf50-da72-4d58-9bc8-e8e4c4d35934"
        },
        "id": "MWxawmNPsItS"
      },
      "outputs": [],
      "execution_count": null
    },
    {
      "cell_type": "code",
      "source": [
        "assembleInputs=[c+'catVec' for c in cat]+numeric\n",
        "assembler=VectorAssembler(inputCols=assembleInputs,outputCol=\"features\")\n",
        "stages+=[assembler]"
      ],
      "metadata": {
        "application/vnd.databricks.v1+cell": {
          "title": "",
          "showTitle": false,
          "inputWidgets": {},
          "nuid": "72a58bbc-2d23-490f-8f0c-c658321711b7"
        },
        "id": "sgpOieXNsItS"
      },
      "outputs": [],
      "execution_count": null
    },
    {
      "cell_type": "markdown",
      "source": [
        "- - - "
      ],
      "metadata": {
        "id": "PgbDxyokbOmh"
      }
    },
    {
      "cell_type": "markdown",
      "source": [
        "#### Do the **train-test split**:<br>"
      ],
      "metadata": {
        "id": "rYWLYOV7mEqw"
      }
    },
    {
      "cell_type": "code",
      "source": [
        "train_data, test_data = df_pyspark.randomSplit([0.8,0.2],seed=42) "
      ],
      "metadata": {
        "application/vnd.databricks.v1+cell": {
          "title": "",
          "showTitle": false,
          "inputWidgets": {},
          "nuid": "b8a673eb-4dd0-45de-96c2-01ab88c627f0"
        },
        "id": "bgUoYJhssItT"
      },
      "outputs": [],
      "execution_count": null
    },
    {
      "cell_type": "markdown",
      "source": [
        "#### Use a **pipeline to fit the train set**<br>"
      ],
      "metadata": {
        "id": "NJeroPDrmhca"
      }
    },
    {
      "cell_type": "code",
      "source": [
        "pipeline=Pipeline().setStages(stages)\n",
        "pipelineModel=pipeline.fit(train_data)"
      ],
      "metadata": {
        "application/vnd.databricks.v1+cell": {
          "title": "",
          "showTitle": false,
          "inputWidgets": {},
          "nuid": "68ac3ec4-c8fb-4732-b1f8-96dd86403956"
        },
        "id": "Lc7lpKyesItT"
      },
      "outputs": [],
      "execution_count": null
    },
    {
      "cell_type": "markdown",
      "source": [
        "#### **Transform the train and test sets**<br>"
      ],
      "metadata": {
        "id": "WGJ0mfwrnCbM"
      }
    },
    {
      "cell_type": "code",
      "source": [
        "train_pipe=pipelineModel.transform(train_data)\n",
        "test_pipe=pipelineModel.transform(test_data)"
      ],
      "metadata": {
        "application/vnd.databricks.v1+cell": {
          "title": "",
          "showTitle": false,
          "inputWidgets": {},
          "nuid": "8092a056-2bd3-4cf1-b54a-301c71939689"
        },
        "id": "2tTblJv1sItT"
      },
      "outputs": [],
      "execution_count": null
    },
    {
      "cell_type": "code",
      "source": [
        "train_pipe.head(1)"
      ],
      "metadata": {
        "application/vnd.databricks.v1+cell": {
          "title": "",
          "showTitle": false,
          "inputWidgets": {},
          "nuid": "8040149a-a57a-45d6-a73a-24e3cceea1e2"
        },
        "id": "rjZMfxgQsItT",
        "outputId": "a2dd2503-afd7-4b2f-d0cd-00f2b4235dae"
      },
      "outputs": [
        {
          "output_type": "display_data",
          "metadata": {
            "application/vnd.databricks.v1+output": {
              "datasetInfos": [],
              "data": "Out[138]: [Row(Survived=0, Pclass=1, Sex='female', SibSp=0, Parch=0, Fare=28.7125, Embarked='C', NewTitle='MissA', AgeImputed=50.0, SexIndex=1.0, SexcatVec=SparseVector(1, {}), EmbarkedIndex=1.0, EmbarkedcatVec=SparseVector(2, {1: 1.0}), PclassIndex=1.0, PclasscatVec=SparseVector(2, {1: 1.0}), NewTitleIndex=2.0, NewTitlecatVec=SparseVector(7, {2: 1.0}), features=SparseVector(16, {2: 1.0, 4: 1.0, 7: 1.0, 12: 28.7125, 15: 50.0}))]",
              "removedWidgets": [],
              "addedWidgets": {},
              "metadata": {},
              "type": "ansi",
              "arguments": {}
            }
          },
          "data": {
            "text/plain": [
              "Out[138]: [Row(Survived=0, Pclass=1, Sex='female', SibSp=0, Parch=0, Fare=28.7125, Embarked='C', NewTitle='MissA', AgeImputed=50.0, SexIndex=1.0, SexcatVec=SparseVector(1, {}), EmbarkedIndex=1.0, EmbarkedcatVec=SparseVector(2, {1: 1.0}), PclassIndex=1.0, PclasscatVec=SparseVector(2, {1: 1.0}), NewTitleIndex=2.0, NewTitlecatVec=SparseVector(7, {2: 1.0}), features=SparseVector(16, {2: 1.0, 4: 1.0, 7: 1.0, 12: 28.7125, 15: 50.0}))]"
            ]
          }
        }
      ],
      "execution_count": null
    },
    {
      "cell_type": "markdown",
      "source": [
        "- - - "
      ],
      "metadata": {
        "id": "ueUxyKl2beUC"
      }
    },
    {
      "cell_type": "markdown",
      "source": [
        "## **Classification**<br><br>\n"
      ],
      "metadata": {
        "id": "zQc17Z_xnWnZ"
      }
    },
    {
      "cell_type": "code",
      "source": [
        "from pyspark.ml.classification import RandomForestClassifier"
      ],
      "metadata": {
        "application/vnd.databricks.v1+cell": {
          "title": "",
          "showTitle": false,
          "inputWidgets": {},
          "nuid": "c73fb220-96c9-49ee-9d5b-7e8d675ec26a"
        },
        "id": "fUDJwqO1sItT"
      },
      "outputs": [],
      "execution_count": null
    },
    {
      "cell_type": "markdown",
      "source": [
        "### **Baseline model and evaluation:**"
      ],
      "metadata": {
        "id": "-_Kh5mMobfaj"
      }
    },
    {
      "cell_type": "code",
      "source": [
        "rf = RandomForestClassifier(labelCol = 'Survived', predictionCol='prediction', seed=42)\n",
        "rfmodel = rf.fit(train_pipe)"
      ],
      "metadata": {
        "application/vnd.databricks.v1+cell": {
          "title": "",
          "showTitle": false,
          "inputWidgets": {},
          "nuid": "e953e5e8-c5c4-49be-a3b5-0b3f9b2831a2"
        },
        "id": "rG_nb9clsItU"
      },
      "outputs": [],
      "execution_count": null
    },
    {
      "cell_type": "code",
      "source": [
        "pred_results_rf = rfmodel.transform(test_pipe)"
      ],
      "metadata": {
        "application/vnd.databricks.v1+cell": {
          "title": "",
          "showTitle": false,
          "inputWidgets": {},
          "nuid": "a6365467-be5d-499a-ad36-ff52ac158616"
        },
        "id": "zuSFqPB_sItU"
      },
      "outputs": [],
      "execution_count": null
    },
    {
      "cell_type": "code",
      "source": [
        "summary=rfmodel.summary\n",
        "\n",
        "summary.accuracy"
      ],
      "metadata": {
        "application/vnd.databricks.v1+cell": {
          "title": "",
          "showTitle": false,
          "inputWidgets": {},
          "nuid": "21d13d77-430e-4136-9e93-329209d3d7f9"
        },
        "id": "0c3oIYv7sItU",
        "outputId": "c10b1eb4-d973-4585-a83c-e871a214778f"
      },
      "outputs": [
        {
          "output_type": "display_data",
          "metadata": {
            "application/vnd.databricks.v1+output": {
              "datasetInfos": [],
              "data": "Out[143]: 0.839142091152815",
              "removedWidgets": [],
              "addedWidgets": {},
              "metadata": {},
              "type": "ansi",
              "arguments": {}
            }
          },
          "data": {
            "text/plain": [
              "Out[143]: 0.839142091152815"
            ]
          }
        }
      ],
      "execution_count": null
    },
    {
      "cell_type": "code",
      "source": [
        "from pyspark.ml.evaluation import BinaryClassificationEvaluator\n",
        "evaluator = BinaryClassificationEvaluator(labelCol='Survived')\n",
        "\n",
        "rfevaluator=evaluator.evaluate(pred_results_rf)\n",
        "# equal to:\n",
        "auroc = evaluator.evaluate(pred_results_rf, {evaluator.metricName: \"areaUnderROC\"})\n",
        "\n",
        "aupr= evaluator.evaluate(pred_results_rf, {evaluator.metricName: \"areaUnderPR\"})\n",
        "print(auroc,aupr)"
      ],
      "metadata": {
        "application/vnd.databricks.v1+cell": {
          "title": "",
          "showTitle": false,
          "inputWidgets": {},
          "nuid": "b4e1b9aa-9972-4431-8e85-f849c8ef2fff"
        },
        "id": "FRCUnErSsItU",
        "outputId": "66486a73-57f9-4281-afe1-3699b5e5c3c4"
      },
      "outputs": [
        {
          "output_type": "display_data",
          "metadata": {
            "application/vnd.databricks.v1+output": {
              "datasetInfos": [],
              "data": "0.8923692427790788 0.8592038032018966\n",
              "removedWidgets": [],
              "addedWidgets": {},
              "metadata": {},
              "type": "ansi",
              "arguments": {}
            }
          },
          "data": {
            "text/plain": [
              "0.8923692427790788 0.8592038032018966\n"
            ]
          }
        }
      ],
      "execution_count": null
    },
    {
      "cell_type": "markdown",
      "source": [
        "### **Hyperparameter tuning with CrossValidator and evaluation:**"
      ],
      "metadata": {
        "id": "54-wDOl1QAyx"
      }
    },
    {
      "cell_type": "code",
      "source": [
        "from pyspark.ml.tuning import ParamGridBuilder,CrossValidator\n",
        "rfparamGrid = (ParamGridBuilder()\n",
        "               .addGrid(rf.maxDepth, [2, 4, 5])\n",
        "               .addGrid(rf.numTrees, [5, 10, 20, 100])\n",
        "             .build())"
      ],
      "metadata": {
        "application/vnd.databricks.v1+cell": {
          "title": "",
          "showTitle": false,
          "inputWidgets": {},
          "nuid": "8e3402e1-21d4-4009-97e5-03dcd8983659"
        },
        "id": "nchfddymsItU"
      },
      "outputs": [],
      "execution_count": null
    },
    {
      "cell_type": "code",
      "source": [
        "from pyspark.ml.evaluation import BinaryClassificationEvaluator\n",
        "evaluatorRF=BinaryClassificationEvaluator(labelCol='Survived')\n",
        "\n",
        "cv = CrossValidator(estimator = rf,\n",
        "                      estimatorParamMaps = rfparamGrid,\n",
        "                      evaluator = evaluatorRF,\n",
        "                      numFolds = 5)\n",
        "\n",
        "rfcv=cv.fit(train_pipe)"
      ],
      "metadata": {
        "application/vnd.databricks.v1+cell": {
          "title": "",
          "showTitle": false,
          "inputWidgets": {},
          "nuid": "b4033232-0945-4a2b-872e-0c256feb1274"
        },
        "id": "39AZDyhosItU",
        "outputId": "af53613d-0a08-4259-bea9-6a46a8274444"
      },
      "outputs": [
        {
          "output_type": "display_data",
          "metadata": {
            "application/vnd.databricks.v1+output": {
              "datasetInfos": [],
              "data": "Deprecation warning: The PySpark MLlib + MLflow Tracking integration is deprecated. Soon, we will remove this feature and replace it with MLflow PySpark ML autologging and Databricks Autologging.\n To try the new MLflow PySpark ML autologging feature, which will be enabled by default in an upcoming release, call `mlflow.pyspark.ml.autolog()`.\nMLlib will automatically track trials in MLflow. After your tuning fit() call has completed, view the MLflow UI to see logged runs.\n",
              "removedWidgets": [],
              "addedWidgets": {},
              "metadata": {},
              "type": "ansi",
              "arguments": {}
            }
          },
          "data": {
            "text/plain": [
              "Deprecation warning: The PySpark MLlib + MLflow Tracking integration is deprecated. Soon, we will remove this feature and replace it with MLflow PySpark ML autologging and Databricks Autologging.\n To try the new MLflow PySpark ML autologging feature, which will be enabled by default in an upcoming release, call `mlflow.pyspark.ml.autolog()`.\nMLlib will automatically track trials in MLflow. After your tuning fit() call has completed, view the MLflow UI to see logged runs.\n"
            ]
          }
        }
      ],
      "execution_count": null
    },
    {
      "cell_type": "code",
      "source": [
        "predictions=rfcv.bestModel.transform(test_pipe)\n",
        "\n",
        "evaluatorRF.evaluate(predictions)"
      ],
      "metadata": {
        "application/vnd.databricks.v1+cell": {
          "title": "",
          "showTitle": false,
          "inputWidgets": {},
          "nuid": "9cdbdc4a-97c1-4d6e-8ed9-b41fd188e08f"
        },
        "id": "az637PZLsItV",
        "outputId": "b179a537-8c7b-46f1-9a0f-309fd5f9ca17"
      },
      "outputs": [
        {
          "output_type": "display_data",
          "metadata": {
            "application/vnd.databricks.v1+output": {
              "datasetInfos": [],
              "data": "Out[149]: 0.9006635441061671",
              "removedWidgets": [],
              "addedWidgets": {},
              "metadata": {},
              "type": "ansi",
              "arguments": {}
            }
          },
          "data": {
            "text/plain": [
              "Out[149]: 0.9006635441061671"
            ]
          }
        }
      ],
      "execution_count": null
    },
    {
      "cell_type": "code",
      "source": [
        "# As, by default, the metric name of the BinaryClassificationEvaluator is areaUnderROC the first value will be equal to the cell above\n",
        "auroc = evaluator.evaluate(predictions, {evaluator.metricName: \"areaUnderROC\"})\n",
        "aupr= evaluatorRF.evaluate(predictions, {evaluatorRF.metricName: \"areaUnderPR\"})\n",
        "print(auroc, aupr)\n"
      ],
      "metadata": {
        "application/vnd.databricks.v1+cell": {
          "title": "",
          "showTitle": false,
          "inputWidgets": {},
          "nuid": "1bac4abe-c1cd-41d5-b773-10995371779f"
        },
        "id": "A5zQI8YEsItV",
        "outputId": "84bddb7f-b0a9-4263-aee4-0287b76e8bfb"
      },
      "outputs": [
        {
          "output_type": "display_data",
          "metadata": {
            "application/vnd.databricks.v1+output": {
              "datasetInfos": [],
              "data": "0.9006635441061671 0.894087760129106\n",
              "removedWidgets": [],
              "addedWidgets": {},
              "metadata": {},
              "type": "ansi",
              "arguments": {}
            }
          },
          "data": {
            "text/plain": [
              "0.9006635441061671 0.894087760129106\n"
            ]
          }
        }
      ],
      "execution_count": null
    },
    {
      "cell_type": "markdown",
      "source": [
        "#### We **can get the accuracy and F1 score using MulticlassClassificationEvaluator** which **can be used for binary classification** as well. Let's use it for **accuracy:**"
      ],
      "metadata": {
        "id": "MRiaWYVjgJWQ"
      }
    },
    {
      "cell_type": "code",
      "source": [
        "from pyspark.ml.evaluation import MulticlassClassificationEvaluator"
      ],
      "metadata": {
        "application/vnd.databricks.v1+cell": {
          "title": "",
          "showTitle": false,
          "inputWidgets": {},
          "nuid": "4854a01e-6b2e-4687-84a0-6cfa5e2c9c3d"
        },
        "id": "P8q40P4lsItV"
      },
      "outputs": [],
      "execution_count": null
    },
    {
      "cell_type": "code",
      "source": [
        "multi_evaluator = MulticlassClassificationEvaluator(labelCol=\"Survived\", predictionCol=\"prediction\", metricName=\"accuracy\")\n",
        "rf_accuracy = multi_evaluator.evaluate(predictions)\n",
        "print(\"Accuracy of RandomForestClassifier is = \", (rf_accuracy))"
      ],
      "metadata": {
        "application/vnd.databricks.v1+cell": {
          "title": "",
          "showTitle": false,
          "inputWidgets": {},
          "nuid": "ec3217bc-a0ae-4d93-b4db-da65478be86e"
        },
        "id": "cR3SJaYesItV",
        "outputId": "cf0f62bf-7058-4415-f609-ea516f4ea069"
      },
      "outputs": [
        {
          "output_type": "display_data",
          "metadata": {
            "application/vnd.databricks.v1+output": {
              "datasetInfos": [],
              "data": "Accuracy of RandomForestClassifier is =  0.8551724137931035\n",
              "removedWidgets": [],
              "addedWidgets": {},
              "metadata": {},
              "type": "ansi",
              "arguments": {}
            }
          },
          "data": {
            "text/plain": [
              "Accuracy of RandomForestClassifier is =  0.8551724137931035\n"
            ]
          }
        }
      ],
      "execution_count": null
    },
    {
      "cell_type": "markdown",
      "source": [
        "#### **Model evaluation with SciKit-Learn: classification report**"
      ],
      "metadata": {
        "id": "uqb4-r9ORpPm"
      }
    },
    {
      "cell_type": "code",
      "source": [
        "from sklearn.metrics import classification_report"
      ],
      "metadata": {
        "application/vnd.databricks.v1+cell": {
          "title": "",
          "showTitle": false,
          "inputWidgets": {},
          "nuid": "940d144c-10ee-4471-8f8b-884814e69013"
        },
        "id": "ewaQkM-5sItV"
      },
      "outputs": [],
      "execution_count": null
    },
    {
      "cell_type": "code",
      "source": [
        "y_true = predictions.select(['Survived']).collect()\n",
        "y_pred = predictions.select(['prediction']).collect()"
      ],
      "metadata": {
        "application/vnd.databricks.v1+cell": {
          "title": "",
          "showTitle": false,
          "inputWidgets": {},
          "nuid": "a180a5a1-98ec-4fc0-9619-264d7321e82a"
        },
        "id": "AQ9Rm84dsItW"
      },
      "outputs": [],
      "execution_count": null
    },
    {
      "cell_type": "code",
      "source": [
        "print(classification_report(y_true, y_pred))"
      ],
      "metadata": {
        "application/vnd.databricks.v1+cell": {
          "title": "",
          "showTitle": false,
          "inputWidgets": {},
          "nuid": "2b2d0f45-9d1d-4500-84b1-e481400cab4c"
        },
        "id": "I08SOwJYsItW",
        "outputId": "67350670-5aaa-4123-c234-79a53ec972da"
      },
      "outputs": [
        {
          "output_type": "display_data",
          "metadata": {
            "application/vnd.databricks.v1+output": {
              "datasetInfos": [],
              "data": "              precision    recall  f1-score   support\n\n           0       0.83      0.94      0.88        84\n           1       0.90      0.74      0.81        61\n\n    accuracy                           0.86       145\n   macro avg       0.87      0.84      0.85       145\nweighted avg       0.86      0.86      0.85       145\n\n",
              "removedWidgets": [],
              "addedWidgets": {},
              "metadata": {},
              "type": "ansi",
              "arguments": {}
            }
          },
          "data": {
            "text/plain": [
              "              precision    recall  f1-score   support\n\n           0       0.83      0.94      0.88        84\n           1       0.90      0.74      0.81        61\n\n    accuracy                           0.86       145\n   macro avg       0.87      0.84      0.85       145\nweighted avg       0.86      0.86      0.85       145\n\n"
            ]
          }
        }
      ],
      "execution_count": null
    },
    {
      "cell_type": "markdown",
      "source": [
        "- - - "
      ],
      "metadata": {
        "id": "a9oTGGc0fEQE"
      }
    },
    {
      "cell_type": "markdown",
      "source": [
        "## **Conclusions**:\n",
        "-  **After completing the tasks** it's  fair to say that we managed to **met the goal we set ourselves** given the **scores we achieved for the metrics commonly used for this dataset with Pyspark**.\n",
        "- The model **can be improved** a little, namely in what concerns to **missing age values imputation** and by **using more classifiers**.\n",
        "\n"
      ],
      "metadata": {
        "id": "m2WBi2ReJmuO"
      }
    }
  ],
  "metadata": {
    "application/vnd.databricks.v1+notebook": {
      "notebookName": "TITANIC",
      "dashboards": [],
      "notebookMetadata": {
        "pythonIndentUnit": 4
      },
      "language": "python",
      "widgets": {},
      "notebookOrigID": 4023091891084761
    },
    "colab": {
      "name": "Pyspark.ipynb",
      "provenance": [],
      "collapsed_sections": []
    }
  },
  "nbformat": 4,
  "nbformat_minor": 0
}