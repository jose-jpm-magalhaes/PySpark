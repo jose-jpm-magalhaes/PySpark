{
  "cells": [
    {
      "cell_type": "markdown",
      "source": [
        "## **PySpark**\n",
        "<br>"
      ],
      "metadata": {
        "application/vnd.databricks.v1+cell": {
          "title": "",
          "showTitle": false,
          "inputWidgets": {},
          "nuid": "8573d092-17a9-42a0-a3da-eda04af48698"
        },
        "id": "TSsnSYC6y96B"
      }
    },
    {
      "cell_type": "markdown",
      "source": [
        "### - **Dataset**: the data is the **labeled training set** (train.csv) **publicly available** on \"Titanic - Machine Learning from Disaster\" webpage and **you can download** it [here](https://www.kaggle.com/c/titanic/data?select=train.csv). <br>"
      ],
      "metadata": {
        "application/vnd.databricks.v1+cell": {
          "title": "",
          "showTitle": false,
          "inputWidgets": {},
          "nuid": "5dadb82c-7cf2-41f6-b490-60123e161a1c"
        },
        "id": "gi4-DtnLy96D"
      }
    },
    {
      "cell_type": "markdown",
      "source": [
        "### - **Objective**:  **create a ML model with PySpark** that **predicts which passengers survived the sinking of the Titanic**.<br>\n",
        "\n",
        "- **Note**: we will **only use the original training set (which will be split into train and test sets) because it is labeled** and we do **want to evaluate the performance of our model**; the **original test set**, on the contrary, is **unlabeled**.<br>"
      ],
      "metadata": {
        "application/vnd.databricks.v1+cell": {
          "title": "",
          "showTitle": false,
          "inputWidgets": {},
          "nuid": "7508c149-b1ca-4d53-8090-5a4a6be81f94"
        },
        "id": "KFpdxy4By96E"
      }
    },
    {
      "cell_type": "markdown",
      "source": [
        "### **Tasks**: \n",
        "- - - \n",
        ">- **EDA** \n",
        ">- **Feature Selection**\n",
        ">- **Feature Engineering**\n",
        ">- **Train-Test Split** (**within** the **training set**)\n",
        ">- **Pipeline** \n",
        ">- **Classification: baseline model and hyperparameter tuning  with CrossValidator**  \n"
      ],
      "metadata": {
        "application/vnd.databricks.v1+cell": {
          "title": "",
          "showTitle": false,
          "inputWidgets": {},
          "nuid": "384e181e-7c67-429b-925c-e180c529ab1a"
        },
        "id": "qZyoCJLny96F"
      }
    },
    {
      "cell_type": "markdown",
      "source": [
        "#### **Import** most of the required **libraries**<br>"
      ],
      "metadata": {
        "application/vnd.databricks.v1+cell": {
          "title": "",
          "showTitle": false,
          "inputWidgets": {},
          "nuid": "80cc80fd-8652-4a5d-ad36-04291c10eac4"
        },
        "id": "hVJXkCNZy96G"
      }
    },
    {
      "cell_type": "code",
      "source": [
        "from pyspark.sql.types import StructType, StructField, IntegerType\n",
        "from pyspark.sql.functions import isnan, when, col,count,lit, regexp_extract, mean, avg, split\n",
        "from pyspark.ml.feature import StringIndexer, OneHotEncoder, VectorAssembler\n",
        "from pyspark.ml import Pipeline\n",
        "\n",
        "import pandas as pd \n",
        "import numpy as np\n",
        "\n",
        "import seaborn as sns\n",
        "import matplotlib as mpl\n",
        "from matplotlib import pyplot as plt\n",
        "plt.rcParams[\"figure.figsize\"] = (13,6)\n",
        "\n",
        "import warnings\n",
        "warnings.filterwarnings(\"ignore\", category=DeprecationWarning) "
      ],
      "metadata": {
        "application/vnd.databricks.v1+cell": {
          "title": "",
          "showTitle": false,
          "inputWidgets": {},
          "nuid": "a35bb00d-195f-437f-830a-4f572fffda37"
        },
        "id": "qBh4xbbIy96G"
      },
      "outputs": [],
      "execution_count": null
    },
    {
      "cell_type": "markdown",
      "source": [
        "#### **Read** the **file**<br>"
      ],
      "metadata": {
        "application/vnd.databricks.v1+cell": {
          "title": "",
          "showTitle": false,
          "inputWidgets": {},
          "nuid": "5e56db14-4a68-4ddc-86dc-07c464b2e885"
        },
        "id": "1fEjauL9y96H"
      }
    },
    {
      "cell_type": "code",
      "source": [
        "# File location and type\n",
        "file_location = \"/FileStore/tables/train.csv\"\n",
        "file_type = \"csv\"\n",
        "\n",
        "# CSV options\n",
        "infer_schema = \"true\"\n",
        "first_row_is_header = \"true\"\n",
        "delimiter = \",\"\n",
        "\n",
        "df = spark.read.format(file_type) \\\n",
        "  .option(\"inferSchema\", infer_schema) \\\n",
        "  .option(\"header\", first_row_is_header) \\\n",
        "  .option(\"sep\", delimiter) \\\n",
        "  .load(file_location)"
      ],
      "metadata": {
        "application/vnd.databricks.v1+cell": {
          "title": "",
          "showTitle": false,
          "inputWidgets": {},
          "nuid": "6482be4c-f067-47c9-b0ac-35c938b94601"
        },
        "id": "12e0DXz0y96I"
      },
      "outputs": [],
      "execution_count": null
    },
    {
      "cell_type": "code",
      "source": [
        "display(df.head(5))"
      ],
      "metadata": {
        "application/vnd.databricks.v1+cell": {
          "title": "",
          "showTitle": false,
          "inputWidgets": {},
          "nuid": "847673e9-43d5-411d-b199-a24b4fd0090b"
        },
        "id": "tBxx0gACy96J",
        "outputId": "45ca94ef-ca8c-49d8-e3ba-8cc9b54a1793"
      },
      "outputs": [
        {
          "output_type": "display_data",
          "metadata": {
            "application/vnd.databricks.v1+output": {
              "overflow": false,
              "datasetInfos": [],
              "data": [
                [
                  1,
                  0,
                  3,
                  "Braund, Mr. Owen Harris",
                  "male",
                  22,
                  1,
                  0,
                  "A/5 21171",
                  7.25,
                  null,
                  "S"
                ],
                [
                  2,
                  1,
                  1,
                  "Cumings, Mrs. John Bradley (Florence Briggs Thayer)",
                  "female",
                  38,
                  1,
                  0,
                  "PC 17599",
                  71.2833,
                  "C85",
                  "C"
                ],
                [
                  3,
                  1,
                  3,
                  "Heikkinen, Miss. Laina",
                  "female",
                  26,
                  0,
                  0,
                  "STON/O2. 3101282",
                  7.925,
                  null,
                  "S"
                ],
                [
                  4,
                  1,
                  1,
                  "Futrelle, Mrs. Jacques Heath (Lily May Peel)",
                  "female",
                  35,
                  1,
                  0,
                  "113803",
                  53.1,
                  "C123",
                  "S"
                ],
                [
                  5,
                  0,
                  3,
                  "Allen, Mr. William Henry",
                  "male",
                  35,
                  0,
                  0,
                  "373450",
                  8.05,
                  null,
                  "S"
                ]
              ],
              "plotOptions": {
                "displayType": "table",
                "customPlotOptions": {},
                "pivotColumns": null,
                "pivotAggregation": null,
                "xColumns": null,
                "yColumns": null
              },
              "columnCustomDisplayInfos": {},
              "aggType": "",
              "isJsonSchema": true,
              "removedWidgets": [],
              "aggSchema": [],
              "schema": [
                {
                  "name": "PassengerId",
                  "type": "\"long\"",
                  "metadata": "{}"
                },
                {
                  "name": "Survived",
                  "type": "\"long\"",
                  "metadata": "{}"
                },
                {
                  "name": "Pclass",
                  "type": "\"long\"",
                  "metadata": "{}"
                },
                {
                  "name": "Name",
                  "type": "\"string\"",
                  "metadata": "{}"
                },
                {
                  "name": "Sex",
                  "type": "\"string\"",
                  "metadata": "{}"
                },
                {
                  "name": "Age",
                  "type": "\"double\"",
                  "metadata": "{}"
                },
                {
                  "name": "SibSp",
                  "type": "\"long\"",
                  "metadata": "{}"
                },
                {
                  "name": "Parch",
                  "type": "\"long\"",
                  "metadata": "{}"
                },
                {
                  "name": "Ticket",
                  "type": "\"string\"",
                  "metadata": "{}"
                },
                {
                  "name": "Fare",
                  "type": "\"double\"",
                  "metadata": "{}"
                },
                {
                  "name": "Cabin",
                  "type": "\"string\"",
                  "metadata": "{}"
                },
                {
                  "name": "Embarked",
                  "type": "\"string\"",
                  "metadata": "{}"
                }
              ],
              "aggError": "",
              "aggData": [],
              "addedWidgets": {},
              "metadata": {},
              "dbfsResultPath": null,
              "type": "table",
              "aggOverflow": false,
              "aggSeriesLimitReached": false,
              "arguments": {}
            }
          },
          "data": {
            "text/html": [
              "<style scoped>\n  .table-result-container {\n    max-height: 300px;\n    overflow: auto;\n  }\n  table, th, td {\n    border: 1px solid black;\n    border-collapse: collapse;\n  }\n  th, td {\n    padding: 5px;\n  }\n  th {\n    text-align: left;\n  }\n</style><div class='table-result-container'><table class='table-result'><thead style='background-color: white'><tr><th>PassengerId</th><th>Survived</th><th>Pclass</th><th>Name</th><th>Sex</th><th>Age</th><th>SibSp</th><th>Parch</th><th>Ticket</th><th>Fare</th><th>Cabin</th><th>Embarked</th></tr></thead><tbody><tr><td>1</td><td>0</td><td>3</td><td>Braund, Mr. Owen Harris</td><td>male</td><td>22.0</td><td>1</td><td>0</td><td>A/5 21171</td><td>7.25</td><td>null</td><td>S</td></tr><tr><td>2</td><td>1</td><td>1</td><td>Cumings, Mrs. John Bradley (Florence Briggs Thayer)</td><td>female</td><td>38.0</td><td>1</td><td>0</td><td>PC 17599</td><td>71.2833</td><td>C85</td><td>C</td></tr><tr><td>3</td><td>1</td><td>3</td><td>Heikkinen, Miss. Laina</td><td>female</td><td>26.0</td><td>0</td><td>0</td><td>STON/O2. 3101282</td><td>7.925</td><td>null</td><td>S</td></tr><tr><td>4</td><td>1</td><td>1</td><td>Futrelle, Mrs. Jacques Heath (Lily May Peel)</td><td>female</td><td>35.0</td><td>1</td><td>0</td><td>113803</td><td>53.1</td><td>C123</td><td>S</td></tr><tr><td>5</td><td>0</td><td>3</td><td>Allen, Mr. William Henry</td><td>male</td><td>35.0</td><td>0</td><td>0</td><td>373450</td><td>8.05</td><td>null</td><td>S</td></tr></tbody></table></div>"
            ]
          }
        }
      ],
      "execution_count": null
    },
    {
      "cell_type": "markdown",
      "source": [
        "#### **Descriptive statistics**"
      ],
      "metadata": {
        "application/vnd.databricks.v1+cell": {
          "title": "",
          "showTitle": false,
          "inputWidgets": {},
          "nuid": "eb7e5dbd-a4a4-4757-893d-522aa96af9b2"
        },
        "id": "kKUmFcLWy96K"
      }
    },
    {
      "cell_type": "code",
      "source": [
        "df.describe().show()"
      ],
      "metadata": {
        "application/vnd.databricks.v1+cell": {
          "title": "",
          "showTitle": false,
          "inputWidgets": {},
          "nuid": "4d97cc21-17b8-492c-93e3-d0e04df8615d"
        },
        "id": "utUVO3Gxy96K",
        "outputId": "aab996c7-98ee-4fa9-d301-0f7826ed35c0"
      },
      "outputs": [
        {
          "output_type": "display_data",
          "metadata": {
            "application/vnd.databricks.v1+output": {
              "datasetInfos": [],
              "data": "+-------+-----------------+-------------------+------------------+--------------------+------+------------------+------------------+-------------------+------------------+-----------------+-----+--------+\n|summary|      PassengerId|           Survived|            Pclass|                Name|   Sex|               Age|             SibSp|              Parch|            Ticket|             Fare|Cabin|Embarked|\n+-------+-----------------+-------------------+------------------+--------------------+------+------------------+------------------+-------------------+------------------+-----------------+-----+--------+\n|  count|              891|                891|               891|                 891|   891|               714|               891|                891|               891|              891|  204|     889|\n|   mean|            446.0| 0.3838383838383838| 2.308641975308642|                null|  null| 29.69911764705882|0.5230078563411896|0.38159371492704824|260318.54916792738| 32.2042079685746| null|    null|\n| stddev|257.3538420152301|0.48659245426485753|0.8360712409770491|                null|  null|14.526497332334035|1.1027434322934315| 0.8060572211299488|471609.26868834975|49.69342859718089| null|    null|\n|    min|                1|                  0|                 1|\"Andersson, Mr. A...|female|              0.42|                 0|                  0|            110152|              0.0|  A10|       C|\n|    max|              891|                  1|                 3|van Melkebeke, Mr...|  male|              80.0|                 8|                  6|         WE/P 5735|         512.3292|    T|       S|\n+-------+-----------------+-------------------+------------------+--------------------+------+------------------+------------------+-------------------+------------------+-----------------+-----+--------+\n\n",
              "removedWidgets": [],
              "addedWidgets": {},
              "metadata": {},
              "type": "ansi",
              "arguments": {}
            }
          },
          "data": {
            "text/plain": [
              "+-------+-----------------+-------------------+------------------+--------------------+------+------------------+------------------+-------------------+------------------+-----------------+-----+--------+\n|summary|      PassengerId|           Survived|            Pclass|                Name|   Sex|               Age|             SibSp|              Parch|            Ticket|             Fare|Cabin|Embarked|\n+-------+-----------------+-------------------+------------------+--------------------+------+------------------+------------------+-------------------+------------------+-----------------+-----+--------+\n|  count|              891|                891|               891|                 891|   891|               714|               891|                891|               891|              891|  204|     889|\n|   mean|            446.0| 0.3838383838383838| 2.308641975308642|                null|  null| 29.69911764705882|0.5230078563411896|0.38159371492704824|260318.54916792738| 32.2042079685746| null|    null|\n| stddev|257.3538420152301|0.48659245426485753|0.8360712409770491|                null|  null|14.526497332334035|1.1027434322934315| 0.8060572211299488|471609.26868834975|49.69342859718089| null|    null|\n|    min|                1|                  0|                 1|\"Andersson, Mr. A...|female|              0.42|                 0|                  0|            110152|              0.0|  A10|       C|\n|    max|              891|                  1|                 3|van Melkebeke, Mr...|  male|              80.0|                 8|                  6|         WE/P 5735|         512.3292|    T|       S|\n+-------+-----------------+-------------------+------------------+--------------------+------+------------------+------------------+-------------------+------------------+-----------------+-----+--------+\n\n"
            ]
          }
        }
      ],
      "execution_count": null
    },
    {
      "cell_type": "markdown",
      "source": [
        "####  **Using pandas** to have a **better visualization**<br>"
      ],
      "metadata": {
        "application/vnd.databricks.v1+cell": {
          "title": "",
          "showTitle": false,
          "inputWidgets": {},
          "nuid": "43aeab04-6176-4aaf-91fc-8f9fa751648b"
        },
        "id": "-Ove6FeBy96L"
      }
    },
    {
      "cell_type": "code",
      "source": [
        "df.toPandas().describe()"
      ],
      "metadata": {
        "application/vnd.databricks.v1+cell": {
          "title": "",
          "showTitle": false,
          "inputWidgets": {},
          "nuid": "8cbd1996-1c01-4f9c-a01f-a07ea36f2ed1"
        },
        "id": "OKBiiuHOy96L",
        "outputId": "0d2536fd-6df6-4b16-feb3-00eaa903b1ee"
      },
      "outputs": [
        {
          "output_type": "display_data",
          "metadata": {
            "application/vnd.databricks.v1+output": {
              "datasetInfos": [],
              "data": "<div>\n<style scoped>\n    .dataframe tbody tr th:only-of-type {\n        vertical-align: middle;\n    }\n\n    .dataframe tbody tr th {\n        vertical-align: top;\n    }\n\n    .dataframe thead th {\n        text-align: right;\n    }\n</style>\n<table border=\"1\" class=\"dataframe\">\n  <thead>\n    <tr style=\"text-align: right;\">\n      <th></th>\n      <th>PassengerId</th>\n      <th>Survived</th>\n      <th>Pclass</th>\n      <th>Age</th>\n      <th>SibSp</th>\n      <th>Parch</th>\n      <th>Fare</th>\n    </tr>\n  </thead>\n  <tbody>\n    <tr>\n      <th>count</th>\n      <td>891.000000</td>\n      <td>891.000000</td>\n      <td>891.000000</td>\n      <td>714.000000</td>\n      <td>891.000000</td>\n      <td>891.000000</td>\n      <td>891.000000</td>\n    </tr>\n    <tr>\n      <th>mean</th>\n      <td>446.000000</td>\n      <td>0.383838</td>\n      <td>2.308642</td>\n      <td>29.699118</td>\n      <td>0.523008</td>\n      <td>0.381594</td>\n      <td>32.204208</td>\n    </tr>\n    <tr>\n      <th>std</th>\n      <td>257.353842</td>\n      <td>0.486592</td>\n      <td>0.836071</td>\n      <td>14.526497</td>\n      <td>1.102743</td>\n      <td>0.806057</td>\n      <td>49.693429</td>\n    </tr>\n    <tr>\n      <th>min</th>\n      <td>1.000000</td>\n      <td>0.000000</td>\n      <td>1.000000</td>\n      <td>0.420000</td>\n      <td>0.000000</td>\n      <td>0.000000</td>\n      <td>0.000000</td>\n    </tr>\n    <tr>\n      <th>25%</th>\n      <td>223.500000</td>\n      <td>0.000000</td>\n      <td>2.000000</td>\n      <td>20.125000</td>\n      <td>0.000000</td>\n      <td>0.000000</td>\n      <td>7.910400</td>\n    </tr>\n    <tr>\n      <th>50%</th>\n      <td>446.000000</td>\n      <td>0.000000</td>\n      <td>3.000000</td>\n      <td>28.000000</td>\n      <td>0.000000</td>\n      <td>0.000000</td>\n      <td>14.454200</td>\n    </tr>\n    <tr>\n      <th>75%</th>\n      <td>668.500000</td>\n      <td>1.000000</td>\n      <td>3.000000</td>\n      <td>38.000000</td>\n      <td>1.000000</td>\n      <td>0.000000</td>\n      <td>31.000000</td>\n    </tr>\n    <tr>\n      <th>max</th>\n      <td>891.000000</td>\n      <td>1.000000</td>\n      <td>3.000000</td>\n      <td>80.000000</td>\n      <td>8.000000</td>\n      <td>6.000000</td>\n      <td>512.329200</td>\n    </tr>\n  </tbody>\n</table>\n</div>",
              "textData": null,
              "removedWidgets": [],
              "addedWidgets": {},
              "metadata": {},
              "type": "htmlSandbox",
              "arguments": {}
            }
          },
          "data": {
            "text/html": [
              "<div>\n<style scoped>\n    .dataframe tbody tr th:only-of-type {\n        vertical-align: middle;\n    }\n\n    .dataframe tbody tr th {\n        vertical-align: top;\n    }\n\n    .dataframe thead th {\n        text-align: right;\n    }\n</style>\n<table border=\"1\" class=\"dataframe\">\n  <thead>\n    <tr style=\"text-align: right;\">\n      <th></th>\n      <th>PassengerId</th>\n      <th>Survived</th>\n      <th>Pclass</th>\n      <th>Age</th>\n      <th>SibSp</th>\n      <th>Parch</th>\n      <th>Fare</th>\n    </tr>\n  </thead>\n  <tbody>\n    <tr>\n      <th>count</th>\n      <td>891.000000</td>\n      <td>891.000000</td>\n      <td>891.000000</td>\n      <td>714.000000</td>\n      <td>891.000000</td>\n      <td>891.000000</td>\n      <td>891.000000</td>\n    </tr>\n    <tr>\n      <th>mean</th>\n      <td>446.000000</td>\n      <td>0.383838</td>\n      <td>2.308642</td>\n      <td>29.699118</td>\n      <td>0.523008</td>\n      <td>0.381594</td>\n      <td>32.204208</td>\n    </tr>\n    <tr>\n      <th>std</th>\n      <td>257.353842</td>\n      <td>0.486592</td>\n      <td>0.836071</td>\n      <td>14.526497</td>\n      <td>1.102743</td>\n      <td>0.806057</td>\n      <td>49.693429</td>\n    </tr>\n    <tr>\n      <th>min</th>\n      <td>1.000000</td>\n      <td>0.000000</td>\n      <td>1.000000</td>\n      <td>0.420000</td>\n      <td>0.000000</td>\n      <td>0.000000</td>\n      <td>0.000000</td>\n    </tr>\n    <tr>\n      <th>25%</th>\n      <td>223.500000</td>\n      <td>0.000000</td>\n      <td>2.000000</td>\n      <td>20.125000</td>\n      <td>0.000000</td>\n      <td>0.000000</td>\n      <td>7.910400</td>\n    </tr>\n    <tr>\n      <th>50%</th>\n      <td>446.000000</td>\n      <td>0.000000</td>\n      <td>3.000000</td>\n      <td>28.000000</td>\n      <td>0.000000</td>\n      <td>0.000000</td>\n      <td>14.454200</td>\n    </tr>\n    <tr>\n      <th>75%</th>\n      <td>668.500000</td>\n      <td>1.000000</td>\n      <td>3.000000</td>\n      <td>38.000000</td>\n      <td>1.000000</td>\n      <td>0.000000</td>\n      <td>31.000000</td>\n    </tr>\n    <tr>\n      <th>max</th>\n      <td>891.000000</td>\n      <td>1.000000</td>\n      <td>3.000000</td>\n      <td>80.000000</td>\n      <td>8.000000</td>\n      <td>6.000000</td>\n      <td>512.329200</td>\n    </tr>\n  </tbody>\n</table>\n</div>"
            ]
          }
        }
      ],
      "execution_count": null
    },
    {
      "cell_type": "markdown",
      "source": [
        "#### **Comments** regarding the **`Age`feature:**<br>\n",
        "- The **age range varies from less than 0.5 years to 80 years**.  \n",
        "- The **average age of the passengers is just below 30 years** and the **median age is slightly below the average**.\n",
        "- One can **infer that there are 177 missing values**, as we'll **confirm when we check the missing values regarding all features**.\n",
        "  <br><br>"
      ],
      "metadata": {
        "application/vnd.databricks.v1+cell": {
          "title": "",
          "showTitle": false,
          "inputWidgets": {},
          "nuid": "5c96b843-4da9-41f2-814d-f0cf15b78ff7"
        },
        "id": "dY6J4Ridy96L"
      }
    },
    {
      "cell_type": "markdown",
      "source": [
        "#### **Check the schema**"
      ],
      "metadata": {
        "application/vnd.databricks.v1+cell": {
          "title": "",
          "showTitle": false,
          "inputWidgets": {},
          "nuid": "8cf71fad-f8bc-43d4-87b0-932011fd0892"
        },
        "id": "OBY8Vxvey96M"
      }
    },
    {
      "cell_type": "code",
      "source": [
        "df.printSchema()"
      ],
      "metadata": {
        "application/vnd.databricks.v1+cell": {
          "title": "",
          "showTitle": false,
          "inputWidgets": {},
          "nuid": "4a407746-944e-4f86-bf58-5a3927ee3690"
        },
        "id": "iZ-aBMrfy96M",
        "outputId": "77a707d2-b554-47c8-9e55-4b644bff4352"
      },
      "outputs": [
        {
          "output_type": "display_data",
          "metadata": {
            "application/vnd.databricks.v1+output": {
              "datasetInfos": [],
              "data": "root\n |-- PassengerId: integer (nullable = true)\n |-- Survived: integer (nullable = true)\n |-- Pclass: integer (nullable = true)\n |-- Name: string (nullable = true)\n |-- Sex: string (nullable = true)\n |-- Age: double (nullable = true)\n |-- SibSp: integer (nullable = true)\n |-- Parch: integer (nullable = true)\n |-- Ticket: string (nullable = true)\n |-- Fare: double (nullable = true)\n |-- Cabin: string (nullable = true)\n |-- Embarked: string (nullable = true)\n\n",
              "removedWidgets": [],
              "addedWidgets": {},
              "metadata": {},
              "type": "ansi",
              "arguments": {}
            }
          },
          "data": {
            "text/plain": [
              "root\n |-- PassengerId: integer (nullable = true)\n |-- Survived: integer (nullable = true)\n |-- Pclass: integer (nullable = true)\n |-- Name: string (nullable = true)\n |-- Sex: string (nullable = true)\n |-- Age: double (nullable = true)\n |-- SibSp: integer (nullable = true)\n |-- Parch: integer (nullable = true)\n |-- Ticket: string (nullable = true)\n |-- Fare: double (nullable = true)\n |-- Cabin: string (nullable = true)\n |-- Embarked: string (nullable = true)\n\n"
            ]
          }
        }
      ],
      "execution_count": null
    },
    {
      "cell_type": "markdown",
      "source": [
        "#### **Check for missing values**<br>"
      ],
      "metadata": {
        "application/vnd.databricks.v1+cell": {
          "title": "",
          "showTitle": false,
          "inputWidgets": {},
          "nuid": "32ce199b-b652-401b-bb2c-3f3fd8ba28d7"
        },
        "id": "RVBtApsiy96M"
      }
    },
    {
      "cell_type": "code",
      "source": [
        "\n",
        "from pyspark.sql.functions import isnan, count, when, col\n",
        "display(df.select([count(when(isnan(c)|col(c).isNull(),c)).alias(c) for c in df.columns]))"
      ],
      "metadata": {
        "application/vnd.databricks.v1+cell": {
          "title": "",
          "showTitle": false,
          "inputWidgets": {},
          "nuid": "c57c5865-c836-492c-82d6-b3af39472d9d"
        },
        "id": "tAEleqBNy96N",
        "outputId": "2d6bc1b7-c0ab-4dbe-c779-f5e72eca8364"
      },
      "outputs": [
        {
          "output_type": "display_data",
          "metadata": {
            "application/vnd.databricks.v1+output": {
              "overflow": false,
              "datasetInfos": [],
              "data": [
                [
                  0,
                  0,
                  0,
                  0,
                  0,
                  177,
                  0,
                  0,
                  0,
                  0,
                  687,
                  2
                ]
              ],
              "plotOptions": {
                "displayType": "table",
                "customPlotOptions": {},
                "pivotColumns": null,
                "pivotAggregation": null,
                "xColumns": null,
                "yColumns": null
              },
              "columnCustomDisplayInfos": {},
              "aggType": "",
              "isJsonSchema": true,
              "removedWidgets": [],
              "aggSchema": [],
              "schema": [
                {
                  "name": "PassengerId",
                  "type": "\"long\"",
                  "metadata": "{}"
                },
                {
                  "name": "Survived",
                  "type": "\"long\"",
                  "metadata": "{}"
                },
                {
                  "name": "Pclass",
                  "type": "\"long\"",
                  "metadata": "{}"
                },
                {
                  "name": "Name",
                  "type": "\"long\"",
                  "metadata": "{}"
                },
                {
                  "name": "Sex",
                  "type": "\"long\"",
                  "metadata": "{}"
                },
                {
                  "name": "Age",
                  "type": "\"long\"",
                  "metadata": "{}"
                },
                {
                  "name": "SibSp",
                  "type": "\"long\"",
                  "metadata": "{}"
                },
                {
                  "name": "Parch",
                  "type": "\"long\"",
                  "metadata": "{}"
                },
                {
                  "name": "Ticket",
                  "type": "\"long\"",
                  "metadata": "{}"
                },
                {
                  "name": "Fare",
                  "type": "\"long\"",
                  "metadata": "{}"
                },
                {
                  "name": "Cabin",
                  "type": "\"long\"",
                  "metadata": "{}"
                },
                {
                  "name": "Embarked",
                  "type": "\"long\"",
                  "metadata": "{}"
                }
              ],
              "aggError": "",
              "aggData": [],
              "addedWidgets": {},
              "metadata": {},
              "dbfsResultPath": null,
              "type": "table",
              "aggOverflow": false,
              "aggSeriesLimitReached": false,
              "arguments": {}
            }
          },
          "data": {
            "text/html": [
              "<style scoped>\n  .table-result-container {\n    max-height: 300px;\n    overflow: auto;\n  }\n  table, th, td {\n    border: 1px solid black;\n    border-collapse: collapse;\n  }\n  th, td {\n    padding: 5px;\n  }\n  th {\n    text-align: left;\n  }\n</style><div class='table-result-container'><table class='table-result'><thead style='background-color: white'><tr><th>PassengerId</th><th>Survived</th><th>Pclass</th><th>Name</th><th>Sex</th><th>Age</th><th>SibSp</th><th>Parch</th><th>Ticket</th><th>Fare</th><th>Cabin</th><th>Embarked</th></tr></thead><tbody><tr><td>0</td><td>0</td><td>0</td><td>0</td><td>0</td><td>177</td><td>0</td><td>0</td><td>0</td><td>0</td><td>687</td><td>2</td></tr></tbody></table></div>"
            ]
          }
        }
      ],
      "execution_count": null
    },
    {
      "cell_type": "markdown",
      "source": [
        "#### **How many survived?**"
      ],
      "metadata": {
        "application/vnd.databricks.v1+cell": {
          "title": "",
          "showTitle": false,
          "inputWidgets": {},
          "nuid": "ecad197a-2665-4950-838f-ced67569e687"
        },
        "id": "lhhJ69gxy96N"
      }
    },
    {
      "cell_type": "code",
      "source": [
        "display(df.groupBy(\"Survived\").count())"
      ],
      "metadata": {
        "application/vnd.databricks.v1+cell": {
          "title": "",
          "showTitle": false,
          "inputWidgets": {},
          "nuid": "84740f97-66d9-43ed-a88c-649431e9b0ac"
        },
        "id": "HiQmXV63y96N",
        "outputId": "f4ddd1a7-348c-4b41-8b9d-29dc5fd63314"
      },
      "outputs": [
        {
          "output_type": "display_data",
          "metadata": {
            "application/vnd.databricks.v1+output": {
              "overflow": false,
              "datasetInfos": [],
              "data": [
                [
                  1,
                  342
                ],
                [
                  0,
                  549
                ]
              ],
              "plotOptions": {
                "displayType": "table",
                "customPlotOptions": {},
                "pivotColumns": null,
                "pivotAggregation": null,
                "xColumns": null,
                "yColumns": null
              },
              "columnCustomDisplayInfos": {},
              "aggType": "",
              "isJsonSchema": true,
              "removedWidgets": [],
              "aggSchema": [],
              "schema": [
                {
                  "name": "Survived",
                  "type": "\"integer\"",
                  "metadata": "{}"
                },
                {
                  "name": "count",
                  "type": "\"long\"",
                  "metadata": "{}"
                }
              ],
              "aggError": "",
              "aggData": [],
              "addedWidgets": {},
              "metadata": {},
              "dbfsResultPath": null,
              "type": "table",
              "aggOverflow": false,
              "aggSeriesLimitReached": false,
              "arguments": {}
            }
          },
          "data": {
            "text/html": [
              "<style scoped>\n  .table-result-container {\n    max-height: 300px;\n    overflow: auto;\n  }\n  table, th, td {\n    border: 1px solid black;\n    border-collapse: collapse;\n  }\n  th, td {\n    padding: 5px;\n  }\n  th {\n    text-align: left;\n  }\n</style><div class='table-result-container'><table class='table-result'><thead style='background-color: white'><tr><th>Survived</th><th>count</th></tr></thead><tbody><tr><td>1</td><td>342</td></tr><tr><td>0</td><td>549</td></tr></tbody></table></div>"
            ]
          }
        }
      ],
      "execution_count": null
    },
    {
      "cell_type": "markdown",
      "source": [
        "#### **Comment:** \n",
        "- Regarding **our dataset more than 60% (≈ 61.6%) of the passengers didn't survive.**<br> (this **statistic can also be inferred from the descriptive statistics displayed above**).<br>\n",
        "- - -"
      ],
      "metadata": {
        "application/vnd.databricks.v1+cell": {
          "title": "",
          "showTitle": false,
          "inputWidgets": {},
          "nuid": "3b383a0e-89df-4fc6-a87c-f933adf2232e"
        },
        "id": "17rY-jBty96O"
      }
    },
    {
      "cell_type": "markdown",
      "source": [
        "### How the **survival rate was correlated with some variables/features:**<br>\n",
        "- - -"
      ],
      "metadata": {
        "application/vnd.databricks.v1+cell": {
          "title": "",
          "showTitle": false,
          "inputWidgets": {},
          "nuid": "9dce6216-c4e7-4681-a2b5-7c1821e05dfb"
        },
        "id": "3v9vxdY2y96O"
      }
    },
    {
      "cell_type": "markdown",
      "source": [
        "#### - **`Sex`:**"
      ],
      "metadata": {
        "application/vnd.databricks.v1+cell": {
          "title": "",
          "showTitle": false,
          "inputWidgets": {},
          "nuid": "74ac2b2b-f78a-480c-ba74-ceff14fa8a10"
        },
        "id": "Z6k9lqwVy96O"
      }
    },
    {
      "cell_type": "code",
      "source": [
        "display(df.groupBy(\"Sex\",\"Survived\").count())"
      ],
      "metadata": {
        "application/vnd.databricks.v1+cell": {
          "title": "",
          "showTitle": false,
          "inputWidgets": {},
          "nuid": "7b83731a-b84e-420f-aa93-db7a110b21c5"
        },
        "id": "bVs3wPgEy96P",
        "outputId": "d41e364b-2c3a-4472-e44f-c9227aa74c6b"
      },
      "outputs": [
        {
          "output_type": "display_data",
          "metadata": {
            "application/vnd.databricks.v1+output": {
              "overflow": false,
              "datasetInfos": [],
              "data": [
                [
                  "male",
                  0,
                  468
                ],
                [
                  "female",
                  1,
                  233
                ],
                [
                  "female",
                  0,
                  81
                ],
                [
                  "male",
                  1,
                  109
                ]
              ],
              "plotOptions": {
                "displayType": "table",
                "customPlotOptions": {},
                "pivotColumns": null,
                "pivotAggregation": null,
                "xColumns": null,
                "yColumns": null
              },
              "columnCustomDisplayInfos": {},
              "aggType": "",
              "isJsonSchema": true,
              "removedWidgets": [],
              "aggSchema": [],
              "schema": [
                {
                  "name": "Sex",
                  "type": "\"string\"",
                  "metadata": "{}"
                },
                {
                  "name": "Survived",
                  "type": "\"integer\"",
                  "metadata": "{}"
                },
                {
                  "name": "count",
                  "type": "\"long\"",
                  "metadata": "{}"
                }
              ],
              "aggError": "",
              "aggData": [],
              "addedWidgets": {},
              "metadata": {},
              "dbfsResultPath": null,
              "type": "table",
              "aggOverflow": false,
              "aggSeriesLimitReached": false,
              "arguments": {}
            }
          },
          "data": {
            "text/html": [
              "<style scoped>\n  .table-result-container {\n    max-height: 300px;\n    overflow: auto;\n  }\n  table, th, td {\n    border: 1px solid black;\n    border-collapse: collapse;\n  }\n  th, td {\n    padding: 5px;\n  }\n  th {\n    text-align: left;\n  }\n</style><div class='table-result-container'><table class='table-result'><thead style='background-color: white'><tr><th>Sex</th><th>Survived</th><th>count</th></tr></thead><tbody><tr><td>male</td><td>0</td><td>468</td></tr><tr><td>female</td><td>1</td><td>233</td></tr><tr><td>female</td><td>0</td><td>81</td></tr><tr><td>male</td><td>1</td><td>109</td></tr></tbody></table></div>"
            ]
          }
        }
      ],
      "execution_count": null
    },
    {
      "cell_type": "markdown",
      "source": [
        "#### **Comments:**\n",
        "- Almost **65% of the travelers** of our dataset **were male** while the remaining **35% were female**. \n",
        "- What **stands out the most** is the **comparative percentage** of **women and men that survived**: almost **`75%` of the women survived** while **not even `20%` (≈18.9%) of the male passengers succeeded in surviving!**<br><br>"
      ],
      "metadata": {
        "application/vnd.databricks.v1+cell": {
          "title": "",
          "showTitle": false,
          "inputWidgets": {},
          "nuid": "be159e0f-8094-4247-9021-54498b3e6498"
        },
        "id": "A_B6n6xey96P"
      }
    },
    {
      "cell_type": "markdown",
      "source": [
        "#### - **`Pclass`:**"
      ],
      "metadata": {
        "application/vnd.databricks.v1+cell": {
          "title": "",
          "showTitle": false,
          "inputWidgets": {},
          "nuid": "7f017d62-b24a-4004-a48e-c4060a8558d0"
        },
        "id": "JoFwpB1Oy96P"
      }
    },
    {
      "cell_type": "code",
      "source": [
        "display(df.groupBy(\"Pclass\",\"Survived\").count())"
      ],
      "metadata": {
        "application/vnd.databricks.v1+cell": {
          "title": "",
          "showTitle": false,
          "inputWidgets": {},
          "nuid": "7dcf160c-d6ef-420b-8376-423866a0175d"
        },
        "id": "oBwHauV7y96P",
        "outputId": "9c92fa85-e1ac-4475-be6d-642cf52c56c9"
      },
      "outputs": [
        {
          "output_type": "display_data",
          "metadata": {
            "application/vnd.databricks.v1+output": {
              "overflow": false,
              "datasetInfos": [],
              "data": [
                [
                  1,
                  0,
                  80
                ],
                [
                  3,
                  1,
                  119
                ],
                [
                  1,
                  1,
                  136
                ],
                [
                  2,
                  1,
                  87
                ],
                [
                  2,
                  0,
                  97
                ],
                [
                  3,
                  0,
                  372
                ]
              ],
              "plotOptions": {
                "displayType": "table",
                "customPlotOptions": {
                  "histogram": [
                    {
                      "key": "bins",
                      "value": "30"
                    }
                  ]
                },
                "pivotColumns": [],
                "pivotAggregation": "sum",
                "xColumns": [],
                "yColumns": [
                  "count"
                ]
              },
              "columnCustomDisplayInfos": {},
              "aggType": "",
              "isJsonSchema": true,
              "removedWidgets": [],
              "aggSchema": [],
              "schema": [
                {
                  "name": "Pclass",
                  "type": "\"integer\"",
                  "metadata": "{}"
                },
                {
                  "name": "Survived",
                  "type": "\"integer\"",
                  "metadata": "{}"
                },
                {
                  "name": "count",
                  "type": "\"long\"",
                  "metadata": "{}"
                }
              ],
              "aggError": "",
              "aggData": [],
              "addedWidgets": {},
              "metadata": {},
              "dbfsResultPath": null,
              "type": "table",
              "aggOverflow": false,
              "aggSeriesLimitReached": false,
              "arguments": {}
            }
          },
          "data": {
            "text/html": [
              "<style scoped>\n  .table-result-container {\n    max-height: 300px;\n    overflow: auto;\n  }\n  table, th, td {\n    border: 1px solid black;\n    border-collapse: collapse;\n  }\n  th, td {\n    padding: 5px;\n  }\n  th {\n    text-align: left;\n  }\n</style><div class='table-result-container'><table class='table-result'><thead style='background-color: white'><tr><th>Pclass</th><th>Survived</th><th>count</th></tr></thead><tbody><tr><td>1</td><td>0</td><td>80</td></tr><tr><td>3</td><td>1</td><td>119</td></tr><tr><td>1</td><td>1</td><td>136</td></tr><tr><td>2</td><td>1</td><td>87</td></tr><tr><td>2</td><td>0</td><td>97</td></tr><tr><td>3</td><td>0</td><td>372</td></tr></tbody></table></div>"
            ]
          }
        }
      ],
      "execution_count": null
    },
    {
      "cell_type": "markdown",
      "source": [
        "#### **Comments:**\n",
        "- The **class3 had the highest number of travelers**, followed by class1 and the class with least passengers was the class2. The **number of travelers in class3** (the **least fortunate...**) **was more than the number of passengers in the class1 and class2 combined!**\n",
        "- The **actual survival rate of a class1 traveler** was the **highest** one (**≈63%**). **Class2** and **class3 travelers** had an **actual survival rate of respectively 47.3% and 24,2%**. \n",
        "  <br><br>"
      ],
      "metadata": {
        "application/vnd.databricks.v1+cell": {
          "title": "",
          "showTitle": false,
          "inputWidgets": {},
          "nuid": "a32303b1-0ee9-45a1-9959-e2ad0d78c274"
        },
        "id": "dY9feHOiy96Q"
      }
    },
    {
      "cell_type": "markdown",
      "source": [
        "#### - **`Age`:**"
      ],
      "metadata": {
        "application/vnd.databricks.v1+cell": {
          "title": "",
          "showTitle": false,
          "inputWidgets": {},
          "nuid": "1c257f89-d59d-4bb7-9406-a2ddfc4de8ba"
        },
        "id": "jL3YjV6Wy96Q"
      }
    },
    {
      "cell_type": "code",
      "source": [
        "df_pd = df.toPandas()"
      ],
      "metadata": {
        "application/vnd.databricks.v1+cell": {
          "title": "",
          "showTitle": false,
          "inputWidgets": {},
          "nuid": "10bcaff6-d09f-4b23-8ea8-a34d49398d69"
        },
        "id": "F4ZWFr_wy96Q"
      },
      "outputs": [],
      "execution_count": null
    },
    {
      "cell_type": "code",
      "source": [
        "plt.rcParams[\"axes.labelsize\"] = 15\n",
        "plt.tick_params(labelsize=12.5)\n",
        "ax = sns.histplot(data=df_pd, x=\"Age\", hue=\"Survived\",  multiple=\"dodge\", bins=8)\n",
        "ax.set(xlabel='Age Groups',\n",
        "       ylabel='Number  of  Travelers')"
      ],
      "metadata": {
        "application/vnd.databricks.v1+cell": {
          "title": "",
          "showTitle": false,
          "inputWidgets": {},
          "nuid": "48939af5-6e12-42e7-af24-d48c199cc573"
        },
        "id": "zJTH19Yby96Q",
        "outputId": "6dcabc4e-a221-4961-ae6a-390c4a207a39"
      },
      "outputs": [
        {
          "output_type": "display_data",
          "metadata": {
            "application/vnd.databricks.v1+output": {
              "datasetInfos": [],
              "data": "Out[83]: [Text(0.5, 0, 'Age Groups'), Text(0, 0.5, 'Number  of  Travelers')]",
              "removedWidgets": [],
              "addedWidgets": {},
              "metadata": {},
              "type": "ansi",
              "arguments": {}
            }
          },
          "data": {
            "text/plain": [
              "Out[83]: [Text(0.5, 0, 'Age Groups'), Text(0, 0.5, 'Number  of  Travelers')]"
            ]
          }
        },
        {
          "output_type": "display_data",
          "metadata": {
            "application/vnd.databricks.v1+output": {
              "datasetInfos": [],
              "data": "data:image/png;base64,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\n",
              "removedWidgets": [],
              "addedWidgets": {},
              "metadata": {},
              "type": "image",
              "arguments": {}
            }
          },
          "data": {
            "image/png": "[encoded data removed]"
          }
        }
      ],
      "execution_count": null
    },
    {
      "cell_type": "markdown",
      "source": [
        "#### **Comments:**\n",
        "- The **only age group with a survival rate higher than 50% is the youngest one**.\n",
        "- **Senior people** (older than 60 years old) **had a very low survival rate**.\n",
        "- **Contrary to what could be expected** (in our perception...) **teenagers travelers and people in their twenties had a lower survival rate than people in their fourties and in their fifties**.\n",
        "  <br><br>"
      ],
      "metadata": {
        "application/vnd.databricks.v1+cell": {
          "title": "",
          "showTitle": false,
          "inputWidgets": {},
          "nuid": "30fcf960-11c2-42e2-838d-d61f47dcb834"
        },
        "id": "GKSUFwU5y96Q"
      }
    },
    {
      "cell_type": "code",
      "source": [
        "df.select('Age').distinct().count()"
      ],
      "metadata": {
        "application/vnd.databricks.v1+cell": {
          "title": "",
          "showTitle": false,
          "inputWidgets": {},
          "nuid": "be2360ae-ff1d-4489-b3b2-e9f605cc63b1"
        },
        "id": "vjll_1Fpy96R",
        "outputId": "35fda3e3-0433-4e28-d038-3965757d4ffe"
      },
      "outputs": [
        {
          "output_type": "display_data",
          "metadata": {
            "application/vnd.databricks.v1+output": {
              "datasetInfos": [],
              "data": "Out[84]: 89",
              "removedWidgets": [],
              "addedWidgets": {},
              "metadata": {},
              "type": "ansi",
              "arguments": {}
            }
          },
          "data": {
            "text/plain": [
              "Out[84]: 89"
            ]
          }
        }
      ],
      "execution_count": null
    },
    {
      "cell_type": "markdown",
      "source": [
        "#### - **`Embarked`:**<br>"
      ],
      "metadata": {
        "application/vnd.databricks.v1+cell": {
          "title": "",
          "showTitle": false,
          "inputWidgets": {},
          "nuid": "96e4d887-cd48-44f2-88dd-b61208c37043"
        },
        "id": "-J4bY5lKy96R"
      }
    },
    {
      "cell_type": "code",
      "source": [
        "display(df.groupBy(\"Embarked\",\"Survived\").count())"
      ],
      "metadata": {
        "application/vnd.databricks.v1+cell": {
          "title": "",
          "showTitle": false,
          "inputWidgets": {},
          "nuid": "7bf76aed-c711-4a79-b963-1d40b278b309"
        },
        "id": "GZD1mJSTy96R",
        "outputId": "6c3b4217-1938-43c9-ebfd-67fc587d4606"
      },
      "outputs": [
        {
          "output_type": "display_data",
          "metadata": {
            "application/vnd.databricks.v1+output": {
              "overflow": false,
              "datasetInfos": [],
              "data": [
                [
                  null,
                  1,
                  2
                ],
                [
                  "Q",
                  1,
                  30
                ],
                [
                  "S",
                  0,
                  427
                ],
                [
                  "S",
                  1,
                  217
                ],
                [
                  "C",
                  1,
                  93
                ],
                [
                  "Q",
                  0,
                  47
                ],
                [
                  "C",
                  0,
                  75
                ]
              ],
              "plotOptions": {
                "displayType": "table",
                "customPlotOptions": {},
                "pivotColumns": null,
                "pivotAggregation": null,
                "xColumns": null,
                "yColumns": null
              },
              "columnCustomDisplayInfos": {},
              "aggType": "",
              "isJsonSchema": true,
              "removedWidgets": [],
              "aggSchema": [],
              "schema": [
                {
                  "name": "Embarked",
                  "type": "\"string\"",
                  "metadata": "{}"
                },
                {
                  "name": "Survived",
                  "type": "\"integer\"",
                  "metadata": "{}"
                },
                {
                  "name": "count",
                  "type": "\"long\"",
                  "metadata": "{}"
                }
              ],
              "aggError": "",
              "aggData": [],
              "addedWidgets": {},
              "metadata": {},
              "dbfsResultPath": null,
              "type": "table",
              "aggOverflow": false,
              "aggSeriesLimitReached": false,
              "arguments": {}
            }
          },
          "data": {
            "text/html": [
              "<style scoped>\n  .table-result-container {\n    max-height: 300px;\n    overflow: auto;\n  }\n  table, th, td {\n    border: 1px solid black;\n    border-collapse: collapse;\n  }\n  th, td {\n    padding: 5px;\n  }\n  th {\n    text-align: left;\n  }\n</style><div class='table-result-container'><table class='table-result'><thead style='background-color: white'><tr><th>Embarked</th><th>Survived</th><th>count</th></tr></thead><tbody><tr><td>null</td><td>1</td><td>2</td></tr><tr><td>Q</td><td>1</td><td>30</td></tr><tr><td>S</td><td>0</td><td>427</td></tr><tr><td>S</td><td>1</td><td>217</td></tr><tr><td>C</td><td>1</td><td>93</td></tr><tr><td>Q</td><td>0</td><td>47</td></tr><tr><td>C</td><td>0</td><td>75</td></tr></tbody></table></div>"
            ]
          }
        }
      ],
      "execution_count": null
    },
    {
      "cell_type": "markdown",
      "source": [
        "#### **Comments:**\n",
        "- Embarked implies the **Port of Embarkation**: **C** = Cherbourg; **Q** = Queenstown; **S** = Southampton.\n",
        "- The **majority of the travelers**, around **72% boarded from Southampton**. Approximatelly **19% boarded from Cherbourg** and the **remaining travelers boarded from Queenstown (almost 9%)**. \n",
        "- **Only the passengers who boarded from Cherbourg had an actual chance of survival greater than 50%**. Travellers who **boarded from Southampton** had **the actual least chance of survival (≈33%)**.<br><br>"
      ],
      "metadata": {
        "application/vnd.databricks.v1+cell": {
          "title": "",
          "showTitle": false,
          "inputWidgets": {},
          "nuid": "4c15fa03-2b03-4999-870c-c024b0a323a1"
        },
        "id": "Rukv17VNy96R"
      }
    },
    {
      "cell_type": "markdown",
      "source": [
        "#### - **`Fare`:**<br>"
      ],
      "metadata": {
        "application/vnd.databricks.v1+cell": {
          "title": "",
          "showTitle": false,
          "inputWidgets": {},
          "nuid": "a6ce84bd-473b-476e-a217-bc22101b4012"
        },
        "id": "6l6uYwwDy96S"
      }
    },
    {
      "cell_type": "code",
      "source": [
        "df.groupBy(\"Fare\",\"Survived\").count().show(5)"
      ],
      "metadata": {
        "application/vnd.databricks.v1+cell": {
          "title": "",
          "showTitle": false,
          "inputWidgets": {},
          "nuid": "a7d4fbec-2637-43a9-b034-d678b3f1345d"
        },
        "id": "u3MA_uMBy96S",
        "outputId": "a8e2a8d3-4369-45c9-a438-8e9395d04024"
      },
      "outputs": [
        {
          "output_type": "display_data",
          "metadata": {
            "application/vnd.databricks.v1+output": {
              "datasetInfos": [],
              "data": "+-------+--------+-----+\n|   Fare|Survived|count|\n+-------+--------+-----+\n|   28.5|       0|    1|\n|56.4958|       1|    5|\n|  24.15|       0|    7|\n|  120.0|       1|    4|\n|  15.85|       0|    2|\n+-------+--------+-----+\nonly showing top 5 rows\n\n",
              "removedWidgets": [],
              "addedWidgets": {},
              "metadata": {},
              "type": "ansi",
              "arguments": {}
            }
          },
          "data": {
            "text/plain": [
              "+-------+--------+-----+\n|   Fare|Survived|count|\n+-------+--------+-----+\n|   28.5|       0|    1|\n|56.4958|       1|    5|\n|  24.15|       0|    7|\n|  120.0|       1|    4|\n|  15.85|       0|    2|\n+-------+--------+-----+\nonly showing top 5 rows\n\n"
            ]
          }
        }
      ],
      "execution_count": null
    },
    {
      "cell_type": "code",
      "source": [
        "df_pd.Fare.describe()"
      ],
      "metadata": {
        "application/vnd.databricks.v1+cell": {
          "title": "",
          "showTitle": false,
          "inputWidgets": {},
          "nuid": "52147e15-911a-4053-a0f7-8a4209e5aa81"
        },
        "id": "Q1oFXfJmy96S",
        "outputId": "17b44678-714d-4a78-cc08-63b4aebf1f67"
      },
      "outputs": [
        {
          "output_type": "display_data",
          "metadata": {
            "application/vnd.databricks.v1+output": {
              "datasetInfos": [],
              "data": "Out[21]: count    891.000000\nmean      32.204208\nstd       49.693429\nmin        0.000000\n25%        7.910400\n50%       14.454200\n75%       31.000000\nmax      512.329200\nName: Fare, dtype: float64",
              "removedWidgets": [],
              "addedWidgets": {},
              "metadata": {},
              "type": "ansi",
              "arguments": {}
            }
          },
          "data": {
            "text/plain": [
              "Out[21]: count    891.000000\nmean      32.204208\nstd       49.693429\nmin        0.000000\n25%        7.910400\n50%       14.454200\n75%       31.000000\nmax      512.329200\nName: Fare, dtype: float64"
            ]
          }
        }
      ],
      "execution_count": null
    },
    {
      "cell_type": "markdown",
      "source": [
        "#### Splitting the fare feature into 4 categories according to the quartiles:"
      ],
      "metadata": {
        "application/vnd.databricks.v1+cell": {
          "title": "",
          "showTitle": false,
          "inputWidgets": {},
          "nuid": "2bb24a15-05d4-4753-9853-91e41178fd9e"
        },
        "id": "4xlok_wiy96S"
      }
    },
    {
      "cell_type": "code",
      "source": [
        "df_pd['Fare_Class'] = pd.cut(df_pd['Fare'], bins=[0,7.91,14.45,31,512.33], labels=['Low','Mid_Low-Mid','Mid-Mid_High','High'])"
      ],
      "metadata": {
        "application/vnd.databricks.v1+cell": {
          "title": "",
          "showTitle": false,
          "inputWidgets": {},
          "nuid": "1d853545-d874-4815-a3ae-25605258c59a"
        },
        "id": "TqvC160Cy96S"
      },
      "outputs": [],
      "execution_count": null
    },
    {
      "cell_type": "code",
      "source": [
        "plt.rcParams[\"figure.figsize\"] = (14,8)\n",
        "plt.rcParams[\"axes.labelsize\"] = 15\n",
        "plt.tick_params(labelsize=12.5)\n",
        "ax_2 = sns.countplot(x = \"Fare_Class\", hue = \"Survived\", data = df_pd, palette=[\"C3\", \"C0\"]).legend(labels = [\"Died\", \"Survived\"])\n",
        "ax_2.set_title(\"Survival based on Fare Class\")\n"
      ],
      "metadata": {
        "application/vnd.databricks.v1+cell": {
          "title": "",
          "showTitle": false,
          "inputWidgets": {},
          "nuid": "cd83af34-165a-4146-ba9b-758a4cca4d2f"
        },
        "id": "bHZBRXZAy96S",
        "outputId": "ab309e91-3f2e-4899-89cb-14439b3518bc"
      },
      "outputs": [
        {
          "output_type": "display_data",
          "metadata": {
            "application/vnd.databricks.v1+output": {
              "datasetInfos": [],
              "data": "data:image/png;base64,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\n",
              "removedWidgets": [],
              "addedWidgets": {},
              "metadata": {},
              "type": "image",
              "arguments": {}
            }
          },
          "data": {
            "image/png": "[encoded data removed]"
          }
        }
      ],
      "execution_count": null
    },
    {
      "cell_type": "markdown",
      "source": [
        "#### **Comment:**<br>\n",
        "- **Tendentially, the higher the fare the higher the survival rate**.<br><br>"
      ],
      "metadata": {
        "application/vnd.databricks.v1+cell": {
          "title": "",
          "showTitle": false,
          "inputWidgets": {},
          "nuid": "6ef4aa5b-7872-4cde-b39f-5da7330e4624"
        },
        "id": "V4khqvA6y96S"
      }
    },
    {
      "cell_type": "markdown",
      "source": [
        "#### - **`Ticket`:**<br>"
      ],
      "metadata": {
        "application/vnd.databricks.v1+cell": {
          "title": "",
          "showTitle": false,
          "inputWidgets": {},
          "nuid": "5e281a9c-4a18-4f99-a579-f3d09fa84845"
        },
        "id": "JSQiuxfVy96S"
      }
    },
    {
      "cell_type": "code",
      "source": [
        "df.groupBy(\"Ticket\",\"Survived\").count().show(5)"
      ],
      "metadata": {
        "application/vnd.databricks.v1+cell": {
          "title": "",
          "showTitle": false,
          "inputWidgets": {},
          "nuid": "ddae7734-0e05-403f-851c-3436a4ce1174"
        },
        "id": "m87piqA6y96T",
        "outputId": "1b110c35-cc07-4b40-ee04-9f6cf5875be3"
      },
      "outputs": [
        {
          "output_type": "display_data",
          "metadata": {
            "application/vnd.databricks.v1+output": {
              "datasetInfos": [],
              "data": "+--------+--------+-----+\n|  Ticket|Survived|count|\n+--------+--------+-----+\n|  330958|       1|    1|\n|  350404|       0|    1|\n|    2693|       0|    1|\n|  349912|       0|    1|\n|CA. 2343|       0|    7|\n+--------+--------+-----+\nonly showing top 5 rows\n\n",
              "removedWidgets": [],
              "addedWidgets": {},
              "metadata": {},
              "type": "ansi",
              "arguments": {}
            }
          },
          "data": {
            "text/plain": [
              "+--------+--------+-----+\n|  Ticket|Survived|count|\n+--------+--------+-----+\n|  330958|       1|    1|\n|  350404|       0|    1|\n|    2693|       0|    1|\n|  349912|       0|    1|\n|CA. 2343|       0|    7|\n+--------+--------+-----+\nonly showing top 5 rows\n\n"
            ]
          }
        }
      ],
      "execution_count": null
    },
    {
      "cell_type": "code",
      "source": [
        "df.select('Ticket').distinct().count()"
      ],
      "metadata": {
        "application/vnd.databricks.v1+cell": {
          "title": "",
          "showTitle": false,
          "inputWidgets": {},
          "nuid": "09c0ea86-94e4-4629-b7c9-db874185b4c8"
        },
        "id": "1XrFxk01y96T",
        "outputId": "da5e03bd-da2b-4967-c8ba-25f30f4e38da"
      },
      "outputs": [
        {
          "output_type": "display_data",
          "metadata": {
            "application/vnd.databricks.v1+output": {
              "datasetInfos": [],
              "data": "Out[25]: 681",
              "removedWidgets": [],
              "addedWidgets": {},
              "metadata": {},
              "type": "ansi",
              "arguments": {}
            }
          },
          "data": {
            "text/plain": [
              "Out[25]: 681"
            ]
          }
        }
      ],
      "execution_count": null
    },
    {
      "cell_type": "markdown",
      "source": [
        "#### **Comment:**<br>\n",
        "- The tickets' number **does not translate into any valuable meaning to explain the chances of survival of a given passanger**. It was **something to be expected** after looking at the **descriptive statistics associated with this feature**.<br><br>"
      ],
      "metadata": {
        "application/vnd.databricks.v1+cell": {
          "title": "",
          "showTitle": false,
          "inputWidgets": {},
          "nuid": "c4b12bdd-95da-46de-bd26-f3ce435aa615"
        },
        "id": "qTjQDg9yy96T"
      }
    },
    {
      "cell_type": "markdown",
      "source": [
        "#### - **`Cabin`:**<br>"
      ],
      "metadata": {
        "application/vnd.databricks.v1+cell": {
          "title": "",
          "showTitle": false,
          "inputWidgets": {},
          "nuid": "509082ba-e58d-405a-ab10-da8411e9896a"
        },
        "id": "Zz56JFU-y96T"
      }
    },
    {
      "cell_type": "code",
      "source": [
        "df.groupBy(\"Cabin\", \"Survived\").count().show(5)"
      ],
      "metadata": {
        "application/vnd.databricks.v1+cell": {
          "title": "",
          "showTitle": false,
          "inputWidgets": {},
          "nuid": "d0937f87-0936-4c5f-9534-1d9eec0fe855"
        },
        "id": "cDGd-IJTy96T",
        "outputId": "b0a77d38-89b3-4aa8-cdbf-00553b7ebcf4"
      },
      "outputs": [
        {
          "output_type": "display_data",
          "metadata": {
            "application/vnd.databricks.v1+output": {
              "datasetInfos": [],
              "data": "+-----+--------+-----+\n|Cabin|Survived|count|\n+-----+--------+-----+\n|  C78|       0|    1|\n|   F2|       0|    1|\n|   A7|       0|    1|\n|  D45|       1|    1|\n|  C47|       1|    1|\n+-----+--------+-----+\nonly showing top 5 rows\n\n",
              "removedWidgets": [],
              "addedWidgets": {},
              "metadata": {},
              "type": "ansi",
              "arguments": {}
            }
          },
          "data": {
            "text/plain": [
              "+-----+--------+-----+\n|Cabin|Survived|count|\n+-----+--------+-----+\n|  C78|       0|    1|\n|   F2|       0|    1|\n|   A7|       0|    1|\n|  D45|       1|    1|\n|  C47|       1|    1|\n+-----+--------+-----+\nonly showing top 5 rows\n\n"
            ]
          }
        }
      ],
      "execution_count": null
    },
    {
      "cell_type": "code",
      "source": [
        "df.select('Cabin').distinct().count()"
      ],
      "metadata": {
        "application/vnd.databricks.v1+cell": {
          "title": "",
          "showTitle": false,
          "inputWidgets": {},
          "nuid": "f45268b7-06ad-4eb2-b59b-4df39f307d48"
        },
        "id": "bGDBHeJUy96T",
        "outputId": "1dbb7e9f-77bd-4c67-a850-b6191e6228d4"
      },
      "outputs": [
        {
          "output_type": "display_data",
          "metadata": {
            "application/vnd.databricks.v1+output": {
              "datasetInfos": [],
              "data": "Out[27]: 148",
              "removedWidgets": [],
              "addedWidgets": {},
              "metadata": {},
              "type": "ansi",
              "arguments": {}
            }
          },
          "data": {
            "text/plain": [
              "Out[27]: 148"
            ]
          }
        }
      ],
      "execution_count": null
    },
    {
      "cell_type": "markdown",
      "source": [
        "#### **Comments:**\n",
        "- What **we said about the feature tickets it is valid for the feature cabin: it does not translate into any valuable meaning to explain the chances of survival of a given passanger.**\n",
        "- Besides, as we will see below, **the number of missing values regarding this variable it is very high, both in absolute (687) and relative terms (around 77%)**<br><br>"
      ],
      "metadata": {
        "application/vnd.databricks.v1+cell": {
          "title": "",
          "showTitle": false,
          "inputWidgets": {},
          "nuid": "5bc0bdeb-ff3d-498a-8df7-7940440fd236"
        },
        "id": "-vZjyQNcy96T"
      }
    },
    {
      "cell_type": "markdown",
      "source": [
        "#### **Check for missing values**<br>"
      ],
      "metadata": {
        "application/vnd.databricks.v1+cell": {
          "title": "",
          "showTitle": false,
          "inputWidgets": {},
          "nuid": "b7a5595e-3c34-4d0d-b84a-2a3832dafd77"
        },
        "id": "wWObngzEy96U"
      }
    },
    {
      "cell_type": "code",
      "source": [
        "display(df.select([count(when(isnan(c)|col(c).isNull(),c)).alias(c) for c in df.columns]))"
      ],
      "metadata": {
        "application/vnd.databricks.v1+cell": {
          "title": "",
          "showTitle": false,
          "inputWidgets": {},
          "nuid": "9a9d256f-71ae-4e37-afbd-bd502dc8129b"
        },
        "id": "yQo2oQdBy96U",
        "outputId": "2e292e86-1ece-447b-c0e5-46fe9133c600"
      },
      "outputs": [
        {
          "output_type": "display_data",
          "metadata": {
            "application/vnd.databricks.v1+output": {
              "overflow": false,
              "datasetInfos": [],
              "data": [
                [
                  0,
                  0,
                  0,
                  0,
                  0,
                  177,
                  0,
                  0,
                  0,
                  0,
                  687,
                  2
                ]
              ],
              "plotOptions": {
                "displayType": "table",
                "customPlotOptions": {},
                "pivotColumns": null,
                "pivotAggregation": null,
                "xColumns": null,
                "yColumns": null
              },
              "columnCustomDisplayInfos": {},
              "aggType": "",
              "isJsonSchema": true,
              "removedWidgets": [],
              "aggSchema": [],
              "schema": [
                {
                  "name": "PassengerId",
                  "type": "\"long\"",
                  "metadata": "{}"
                },
                {
                  "name": "Survived",
                  "type": "\"long\"",
                  "metadata": "{}"
                },
                {
                  "name": "Pclass",
                  "type": "\"long\"",
                  "metadata": "{}"
                },
                {
                  "name": "Name",
                  "type": "\"long\"",
                  "metadata": "{}"
                },
                {
                  "name": "Sex",
                  "type": "\"long\"",
                  "metadata": "{}"
                },
                {
                  "name": "Age",
                  "type": "\"long\"",
                  "metadata": "{}"
                },
                {
                  "name": "SibSp",
                  "type": "\"long\"",
                  "metadata": "{}"
                },
                {
                  "name": "Parch",
                  "type": "\"long\"",
                  "metadata": "{}"
                },
                {
                  "name": "Ticket",
                  "type": "\"long\"",
                  "metadata": "{}"
                },
                {
                  "name": "Fare",
                  "type": "\"long\"",
                  "metadata": "{}"
                },
                {
                  "name": "Cabin",
                  "type": "\"long\"",
                  "metadata": "{}"
                },
                {
                  "name": "Embarked",
                  "type": "\"long\"",
                  "metadata": "{}"
                }
              ],
              "aggError": "",
              "aggData": [],
              "addedWidgets": {},
              "metadata": {},
              "dbfsResultPath": null,
              "type": "table",
              "aggOverflow": false,
              "aggSeriesLimitReached": false,
              "arguments": {}
            }
          },
          "data": {
            "text/html": [
              "<style scoped>\n  .table-result-container {\n    max-height: 300px;\n    overflow: auto;\n  }\n  table, th, td {\n    border: 1px solid black;\n    border-collapse: collapse;\n  }\n  th, td {\n    padding: 5px;\n  }\n  th {\n    text-align: left;\n  }\n</style><div class='table-result-container'><table class='table-result'><thead style='background-color: white'><tr><th>PassengerId</th><th>Survived</th><th>Pclass</th><th>Name</th><th>Sex</th><th>Age</th><th>SibSp</th><th>Parch</th><th>Ticket</th><th>Fare</th><th>Cabin</th><th>Embarked</th></tr></thead><tbody><tr><td>0</td><td>0</td><td>0</td><td>0</td><td>0</td><td>177</td><td>0</td><td>0</td><td>0</td><td>0</td><td>687</td><td>2</td></tr></tbody></table></div>"
            ]
          }
        }
      ],
      "execution_count": null
    },
    {
      "cell_type": "markdown",
      "source": [
        "### **`Features Selection: 1st phase`:** <br><br>\n",
        " - **Removing unnecessary features before handling missing data regarding age and embarked features.**<br>"
      ],
      "metadata": {
        "application/vnd.databricks.v1+cell": {
          "title": "",
          "showTitle": false,
          "inputWidgets": {},
          "nuid": "605ddd9c-5c85-4eae-9c59-a411d8a41862"
        },
        "id": "NMEJhIQzy96U"
      }
    },
    {
      "cell_type": "code",
      "source": [
        "df_pyspark=df.drop('Cabin','Ticket','PassengerId')"
      ],
      "metadata": {
        "application/vnd.databricks.v1+cell": {
          "title": "",
          "showTitle": false,
          "inputWidgets": {},
          "nuid": "df62b036-6d58-4121-9c03-f56163c4790c"
        },
        "id": "Vo1A-4LQy96U"
      },
      "outputs": [],
      "execution_count": null
    },
    {
      "cell_type": "code",
      "source": [
        "df_pyspark.show(5)"
      ],
      "metadata": {
        "application/vnd.databricks.v1+cell": {
          "title": "",
          "showTitle": false,
          "inputWidgets": {},
          "nuid": "b95fd66d-85f7-476f-ba35-4b4f1b102627"
        },
        "id": "z-lLxieKy96U",
        "outputId": "a27b4851-f907-4756-bfc7-28816fb89579"
      },
      "outputs": [
        {
          "output_type": "display_data",
          "metadata": {
            "application/vnd.databricks.v1+output": {
              "datasetInfos": [],
              "data": "+--------+------+--------------------+------+----+-----+-----+-------+--------+\n|Survived|Pclass|                Name|   Sex| Age|SibSp|Parch|   Fare|Embarked|\n+--------+------+--------------------+------+----+-----+-----+-------+--------+\n|       0|     3|Braund, Mr. Owen ...|  male|22.0|    1|    0|   7.25|       S|\n|       1|     1|Cumings, Mrs. Joh...|female|38.0|    1|    0|71.2833|       C|\n|       1|     3|Heikkinen, Miss. ...|female|26.0|    0|    0|  7.925|       S|\n|       1|     1|Futrelle, Mrs. Ja...|female|35.0|    1|    0|   53.1|       S|\n|       0|     3|Allen, Mr. Willia...|  male|35.0|    0|    0|   8.05|       S|\n+--------+------+--------------------+------+----+-----+-----+-------+--------+\nonly showing top 5 rows\n\n",
              "removedWidgets": [],
              "addedWidgets": {},
              "metadata": {},
              "type": "ansi",
              "arguments": {}
            }
          },
          "data": {
            "text/plain": [
              "+--------+------+--------------------+------+----+-----+-----+-------+--------+\n|Survived|Pclass|                Name|   Sex| Age|SibSp|Parch|   Fare|Embarked|\n+--------+------+--------------------+------+----+-----+-----+-------+--------+\n|       0|     3|Braund, Mr. Owen ...|  male|22.0|    1|    0|   7.25|       S|\n|       1|     1|Cumings, Mrs. Joh...|female|38.0|    1|    0|71.2833|       C|\n|       1|     3|Heikkinen, Miss. ...|female|26.0|    0|    0|  7.925|       S|\n|       1|     1|Futrelle, Mrs. Ja...|female|35.0|    1|    0|   53.1|       S|\n|       0|     3|Allen, Mr. Willia...|  male|35.0|    0|    0|   8.05|       S|\n+--------+------+--------------------+------+----+-----+-----+-------+--------+\nonly showing top 5 rows\n\n"
            ]
          }
        }
      ],
      "execution_count": null
    },
    {
      "cell_type": "markdown",
      "source": [
        "#### **Comment:** \n",
        "- The **feature 'name' wasn't removed** because it will be **crucial for filling in the missing values regarding the feature age**.<br><br>\n",
        "- - -"
      ],
      "metadata": {
        "application/vnd.databricks.v1+cell": {
          "title": "",
          "showTitle": false,
          "inputWidgets": {},
          "nuid": "5d9ab00c-7477-42f6-8c99-c821e835b3c4"
        },
        "id": "nuX0SJbay96U"
      }
    },
    {
      "cell_type": "markdown",
      "source": [
        "#### **`Imputing Missing Values`:**"
      ],
      "metadata": {
        "application/vnd.databricks.v1+cell": {
          "title": "",
          "showTitle": false,
          "inputWidgets": {},
          "nuid": "583287a2-d5aa-4d92-9c67-df3981506be7"
        },
        "id": "CYtdOfmoy96U"
      }
    },
    {
      "cell_type": "markdown",
      "source": [
        "#### **- Imputing missing values regarding `age` and `embarked` features**:<br><br>"
      ],
      "metadata": {
        "application/vnd.databricks.v1+cell": {
          "title": "",
          "showTitle": false,
          "inputWidgets": {},
          "nuid": "040d2009-bcd5-459c-84fb-d5c8e3c0f74d"
        },
        "id": "r5IitoKuy96V"
      }
    },
    {
      "cell_type": "markdown",
      "source": [
        "#### - **`AGE`:**<br><br>\n",
        "- To **replace the missing values, we could assign them the mean or median age of the dataset**. If we **used the distinct() and count() functions**, like we did above for other features, we would see that there were **many different ages**, **just by looking** at the **descriptive statistics** regarding the **age feature** one can tell that it **would not be appropriate to impute either the mean or median age to the missing values**.<br><br>\n",
        "- **Assumptions**: **age is an important factor when it comes to survival rate**, for instance, the **youngest age group had higher chances of survival than senior people**. <br>The **available lifeboats, by regulation, are primarily used to save chlidren and women.**<br><br>\n",
        "- We can use a **regex filter to extract the Title** and run this for every row of the dataframe and consequently **find the passangers who are women and children** (we'll **refine** this procedure latter on because **all unmarried females** across all ages had the 'Miss' title. However, among those females there were **young girls** and **adult females** with, most likely, **relevant different mean ages**), and **also adult males** with different **socio-professional categories**.<br><br>\n",
        "  - **After extracting the title** we'll see that the **average age** can **vary significantly for the distinct titles**.<br><br>\n",
        "    - We **won't just extract titles and assign the average age to the missing values**, we will be **more accurate** than that in **imputing missing ages** as **you will see later on**.<br><br>"
      ],
      "metadata": {
        "application/vnd.databricks.v1+cell": {
          "title": "",
          "showTitle": false,
          "inputWidgets": {},
          "nuid": "6718b2ee-372d-4c06-972a-0d9b9638a2ba"
        },
        "id": "b-oX60t1y96V"
      }
    },
    {
      "cell_type": "code",
      "source": [
        "from pyspark.sql.functions import mean,col,split, regexp_extract, lit\n",
        "df_pyspark = df_pyspark.withColumn(\"Title\",regexp_extract(col(\"Name\"),\"([A-Za-z]+)\\.\",1))"
      ],
      "metadata": {
        "application/vnd.databricks.v1+cell": {
          "title": "",
          "showTitle": false,
          "inputWidgets": {},
          "nuid": "4af08604-4e67-40ba-ba2b-a7a304e7d4ba"
        },
        "id": "kPIBKnBgy96V"
      },
      "outputs": [],
      "execution_count": null
    },
    {
      "cell_type": "code",
      "source": [
        "df_pyspark.show(5)"
      ],
      "metadata": {
        "application/vnd.databricks.v1+cell": {
          "title": "",
          "showTitle": false,
          "inputWidgets": {},
          "nuid": "a7a0b101-8b5b-4304-9229-3de3a1df3044"
        },
        "id": "34uIlLBYy96V",
        "outputId": "3865dc68-8ba6-4158-a9ca-e13cae49581a"
      },
      "outputs": [
        {
          "output_type": "display_data",
          "metadata": {
            "application/vnd.databricks.v1+output": {
              "datasetInfos": [],
              "data": "+--------+------+--------------------+------+----+-----+-----+-------+--------+-----+\n|Survived|Pclass|                Name|   Sex| Age|SibSp|Parch|   Fare|Embarked|Title|\n+--------+------+--------------------+------+----+-----+-----+-------+--------+-----+\n|       0|     3|Braund, Mr. Owen ...|  male|22.0|    1|    0|   7.25|       S|   Mr|\n|       1|     1|Cumings, Mrs. Joh...|female|38.0|    1|    0|71.2833|       C|  Mrs|\n|       1|     3|Heikkinen, Miss. ...|female|26.0|    0|    0|  7.925|       S| Miss|\n|       1|     1|Futrelle, Mrs. Ja...|female|35.0|    1|    0|   53.1|       S|  Mrs|\n|       0|     3|Allen, Mr. Willia...|  male|35.0|    0|    0|   8.05|       S|   Mr|\n+--------+------+--------------------+------+----+-----+-----+-------+--------+-----+\nonly showing top 5 rows\n\n",
              "removedWidgets": [],
              "addedWidgets": {},
              "metadata": {},
              "type": "ansi",
              "arguments": {}
            }
          },
          "data": {
            "text/plain": [
              "+--------+------+--------------------+------+----+-----+-----+-------+--------+-----+\n|Survived|Pclass|                Name|   Sex| Age|SibSp|Parch|   Fare|Embarked|Title|\n+--------+------+--------------------+------+----+-----+-----+-------+--------+-----+\n|       0|     3|Braund, Mr. Owen ...|  male|22.0|    1|    0|   7.25|       S|   Mr|\n|       1|     1|Cumings, Mrs. Joh...|female|38.0|    1|    0|71.2833|       C|  Mrs|\n|       1|     3|Heikkinen, Miss. ...|female|26.0|    0|    0|  7.925|       S| Miss|\n|       1|     1|Futrelle, Mrs. Ja...|female|35.0|    1|    0|   53.1|       S|  Mrs|\n|       0|     3|Allen, Mr. Willia...|  male|35.0|    0|    0|   8.05|       S|   Mr|\n+--------+------+--------------------+------+----+-----+-----+-------+--------+-----+\nonly showing top 5 rows\n\n"
            ]
          }
        }
      ],
      "execution_count": null
    },
    {
      "cell_type": "markdown",
      "source": [
        "#### **Let's see the different `titles` in our dataset:**<br>"
      ],
      "metadata": {
        "application/vnd.databricks.v1+cell": {
          "title": "",
          "showTitle": false,
          "inputWidgets": {},
          "nuid": "1c6363d0-a714-476d-9f79-131e198108d3"
        },
        "id": "Le9YMGtFy96V"
      }
    },
    {
      "cell_type": "code",
      "source": [
        "df_pyspark.select(\"Title\").distinct().show()"
      ],
      "metadata": {
        "application/vnd.databricks.v1+cell": {
          "title": "",
          "showTitle": false,
          "inputWidgets": {},
          "nuid": "cc035ade-fadd-471a-b6b3-c015c77ba2d7"
        },
        "id": "DHe9JsPry96V",
        "outputId": "afb34d45-e307-4ab7-dc32-e8b343e08a3c"
      },
      "outputs": [
        {
          "output_type": "display_data",
          "metadata": {
            "application/vnd.databricks.v1+output": {
              "datasetInfos": [],
              "data": "+--------+\n|   Title|\n+--------+\n|     Don|\n|    Miss|\n|Countess|\n|     Col|\n|     Rev|\n|    Lady|\n|  Master|\n|     Mme|\n|    Capt|\n|      Mr|\n|      Dr|\n|     Mrs|\n|     Sir|\n|Jonkheer|\n|    Mlle|\n|   Major|\n|      Ms|\n+--------+\n\n",
              "removedWidgets": [],
              "addedWidgets": {},
              "metadata": {},
              "type": "ansi",
              "arguments": {}
            }
          },
          "data": {
            "text/plain": [
              "+--------+\n|   Title|\n+--------+\n|     Don|\n|    Miss|\n|Countess|\n|     Col|\n|     Rev|\n|    Lady|\n|  Master|\n|     Mme|\n|    Capt|\n|      Mr|\n|      Dr|\n|     Mrs|\n|     Sir|\n|Jonkheer|\n|    Mlle|\n|   Major|\n|      Ms|\n+--------+\n\n"
            ]
          }
        }
      ],
      "execution_count": null
    },
    {
      "cell_type": "markdown",
      "source": [
        "#### **Comments:**\n",
        "- **There are titles that can be grouped into the same \"categories\"** like, for instance, **'Capt'** and **'Major' both are Officers**.\n",
        "- Besides, there are titles that are either **misspelled** or that **although different and correctly spelled  mean the very same thing** like, for instance, **'Mlle' means 'Miss', 'Mme' means 'Mrs'** and **Ms\" means \"Miss\"**.\n",
        "- Regarding 'Dr' and 'Rev' we chose to replace them by 'Other'.<br><br>"
      ],
      "metadata": {
        "application/vnd.databricks.v1+cell": {
          "title": "",
          "showTitle": false,
          "inputWidgets": {},
          "nuid": "7e188f0a-1439-4eae-a71b-f6c81cee085b"
        },
        "id": "V1pYt6rWy96V"
      }
    },
    {
      "cell_type": "markdown",
      "source": [
        "#### Let's **replace the titles according to our rationale:**"
      ],
      "metadata": {
        "application/vnd.databricks.v1+cell": {
          "title": "",
          "showTitle": false,
          "inputWidgets": {},
          "nuid": "9e751680-528d-4e05-8ae6-ead09851ee9f"
        },
        "id": "Go377I6Vy96W"
      }
    },
    {
      "cell_type": "code",
      "source": [
        "df_pyspark = df_pyspark.replace(['Capt','Col', 'Major', 'Jonkheer','Don','Sir','Dr','Rev','Countess','Mme','Mlle','Ms','Lady'],\n",
        "               ['Officer','Officer','Officer','Royalty','Royalty', 'Royalty', 'Other','Other', 'Royalty', \"Mrs\", \"Miss\", 'Miss', \"Royalty\"])"
      ],
      "metadata": {
        "application/vnd.databricks.v1+cell": {
          "title": "",
          "showTitle": false,
          "inputWidgets": {},
          "nuid": "aeee1f84-cc29-4d73-98ca-d49249622bba"
        },
        "id": "HTAxr0q-y96W"
      },
      "outputs": [],
      "execution_count": null
    },
    {
      "cell_type": "code",
      "source": [
        "df_pyspark.show(20)"
      ],
      "metadata": {
        "application/vnd.databricks.v1+cell": {
          "title": "",
          "showTitle": false,
          "inputWidgets": {},
          "nuid": "18d345c2-8409-455b-bd7b-5e5942bf9303"
        },
        "id": "ldDHs2Q9y96W",
        "outputId": "ffab3a28-b8dc-4894-e7e9-f029825de28c"
      },
      "outputs": [
        {
          "output_type": "display_data",
          "metadata": {
            "application/vnd.databricks.v1+output": {
              "datasetInfos": [],
              "data": "+--------+------+--------------------+------+----+-----+-----+-------+--------+------+\n|Survived|Pclass|                Name|   Sex| Age|SibSp|Parch|   Fare|Embarked| Title|\n+--------+------+--------------------+------+----+-----+-----+-------+--------+------+\n|       0|     3|Braund, Mr. Owen ...|  male|22.0|    1|    0|   7.25|       S|    Mr|\n|       1|     1|Cumings, Mrs. Joh...|female|38.0|    1|    0|71.2833|       C|   Mrs|\n|       1|     3|Heikkinen, Miss. ...|female|26.0|    0|    0|  7.925|       S|  Miss|\n|       1|     1|Futrelle, Mrs. Ja...|female|35.0|    1|    0|   53.1|       S|   Mrs|\n|       0|     3|Allen, Mr. Willia...|  male|35.0|    0|    0|   8.05|       S|    Mr|\n|       0|     3|    Moran, Mr. James|  male|null|    0|    0| 8.4583|       Q|    Mr|\n|       0|     1|McCarthy, Mr. Tim...|  male|54.0|    0|    0|51.8625|       S|    Mr|\n|       0|     3|Palsson, Master. ...|  male| 2.0|    3|    1| 21.075|       S|Master|\n|       1|     3|Johnson, Mrs. Osc...|female|27.0|    0|    2|11.1333|       S|   Mrs|\n|       1|     2|Nasser, Mrs. Nich...|female|14.0|    1|    0|30.0708|       C|   Mrs|\n|       1|     3|Sandstrom, Miss. ...|female| 4.0|    1|    1|   16.7|       S|  Miss|\n|       1|     1|Bonnell, Miss. El...|female|58.0|    0|    0|  26.55|       S|  Miss|\n|       0|     3|Saundercock, Mr. ...|  male|20.0|    0|    0|   8.05|       S|    Mr|\n|       0|     3|Andersson, Mr. An...|  male|39.0|    1|    5| 31.275|       S|    Mr|\n|       0|     3|Vestrom, Miss. Hu...|female|14.0|    0|    0| 7.8542|       S|  Miss|\n|       1|     2|Hewlett, Mrs. (Ma...|female|55.0|    0|    0|   16.0|       S|   Mrs|\n|       0|     3|Rice, Master. Eugene|  male| 2.0|    4|    1| 29.125|       Q|Master|\n|       1|     2|Williams, Mr. Cha...|  male|null|    0|    0|   13.0|       S|    Mr|\n|       0|     3|Vander Planke, Mr...|female|31.0|    1|    0|   18.0|       S|   Mrs|\n|       1|     3|Masselmani, Mrs. ...|female|null|    0|    0|  7.225|       C|   Mrs|\n+--------+------+--------------------+------+----+-----+-----+-------+--------+------+\nonly showing top 20 rows\n\n",
              "removedWidgets": [],
              "addedWidgets": {},
              "metadata": {},
              "type": "ansi",
              "arguments": {}
            }
          },
          "data": {
            "text/plain": [
              "+--------+------+--------------------+------+----+-----+-----+-------+--------+------+\n|Survived|Pclass|                Name|   Sex| Age|SibSp|Parch|   Fare|Embarked| Title|\n+--------+------+--------------------+------+----+-----+-----+-------+--------+------+\n|       0|     3|Braund, Mr. Owen ...|  male|22.0|    1|    0|   7.25|       S|    Mr|\n|       1|     1|Cumings, Mrs. Joh...|female|38.0|    1|    0|71.2833|       C|   Mrs|\n|       1|     3|Heikkinen, Miss. ...|female|26.0|    0|    0|  7.925|       S|  Miss|\n|       1|     1|Futrelle, Mrs. Ja...|female|35.0|    1|    0|   53.1|       S|   Mrs|\n|       0|     3|Allen, Mr. Willia...|  male|35.0|    0|    0|   8.05|       S|    Mr|\n|       0|     3|    Moran, Mr. James|  male|null|    0|    0| 8.4583|       Q|    Mr|\n|       0|     1|McCarthy, Mr. Tim...|  male|54.0|    0|    0|51.8625|       S|    Mr|\n|       0|     3|Palsson, Master. ...|  male| 2.0|    3|    1| 21.075|       S|Master|\n|       1|     3|Johnson, Mrs. Osc...|female|27.0|    0|    2|11.1333|       S|   Mrs|\n|       1|     2|Nasser, Mrs. Nich...|female|14.0|    1|    0|30.0708|       C|   Mrs|\n|       1|     3|Sandstrom, Miss. ...|female| 4.0|    1|    1|   16.7|       S|  Miss|\n|       1|     1|Bonnell, Miss. El...|female|58.0|    0|    0|  26.55|       S|  Miss|\n|       0|     3|Saundercock, Mr. ...|  male|20.0|    0|    0|   8.05|       S|    Mr|\n|       0|     3|Andersson, Mr. An...|  male|39.0|    1|    5| 31.275|       S|    Mr|\n|       0|     3|Vestrom, Miss. Hu...|female|14.0|    0|    0| 7.8542|       S|  Miss|\n|       1|     2|Hewlett, Mrs. (Ma...|female|55.0|    0|    0|   16.0|       S|   Mrs|\n|       0|     3|Rice, Master. Eugene|  male| 2.0|    4|    1| 29.125|       Q|Master|\n|       1|     2|Williams, Mr. Cha...|  male|null|    0|    0|   13.0|       S|    Mr|\n|       0|     3|Vander Planke, Mr...|female|31.0|    1|    0|   18.0|       S|   Mrs|\n|       1|     3|Masselmani, Mrs. ...|female|null|    0|    0|  7.225|       C|   Mrs|\n+--------+------+--------------------+------+----+-----+-----+-------+--------+------+\nonly showing top 20 rows\n\n"
            ]
          }
        }
      ],
      "execution_count": null
    },
    {
      "cell_type": "markdown",
      "source": [
        "#### **Comments**: \n",
        "- **All unmarried females across all ages had the 'Miss' title**. However, among those females there were **young girls** and **adult females** with, most likely, **relevant different mean ages**.\n",
        "- There is a **rationale** that we **may apply to  distinguish those two cases**: **if Parch > 0**, then most likely **they are female children traveling with at least one parent** (we will name the title as **'MissPar'**); **if Parch = 0**, then it's likely that they are adult females traveling alone (we will name the title as **'MissA'**). <br><br>\n",
        "\n",
        "**Let us check how different are the mean ages for those two different cases:**<br>"
      ],
      "metadata": {
        "application/vnd.databricks.v1+cell": {
          "title": "",
          "showTitle": false,
          "inputWidgets": {},
          "nuid": "9b0ac47d-efcf-46d9-b90f-006c37c5970a"
        },
        "id": "wYYzkjtzy96W"
      }
    },
    {
      "cell_type": "code",
      "source": [
        "print(\"Average age of a Miss travelling without Parents 'MissA'\", df_pyspark[(df_pyspark.Title==\"Miss\") & (df_pyspark.Parch==0)].agg(mean('Age').alias('mean')).collect())\n",
        "print(\"Average age of a Miss travelling with Parents 'MissPar'\", df_pyspark[(df_pyspark.Title==\"Miss\") & (df_pyspark.Parch!=0)].agg(mean('Age').alias('mean')).collect())"
      ],
      "metadata": {
        "application/vnd.databricks.v1+cell": {
          "title": "",
          "showTitle": false,
          "inputWidgets": {},
          "nuid": "f7cd553c-1dbd-4170-a041-2046da3a7d8a"
        },
        "id": "wSP5xMhYy96W",
        "outputId": "e246a5a2-1ddf-41bf-b04a-c8efcce681ab"
      },
      "outputs": [
        {
          "output_type": "display_data",
          "metadata": {
            "application/vnd.databricks.v1+output": {
              "datasetInfos": [],
              "data": "Average age of a Miss travelling without Parents 'MissA' [Row(mean=27.68617021276596)]\nAverage age of a Miss travelling with Parents 'MissPar' [Row(mean=11.863636363636363)]\n",
              "removedWidgets": [],
              "addedWidgets": {},
              "metadata": {},
              "type": "ansi",
              "arguments": {}
            }
          },
          "data": {
            "text/plain": [
              "Average age of a Miss travelling without Parents 'MissA' [Row(mean=27.68617021276596)]\nAverage age of a Miss travelling with Parents 'MissPar' [Row(mean=11.863636363636363)]\n"
            ]
          }
        }
      ],
      "execution_count": null
    },
    {
      "cell_type": "markdown",
      "source": [
        "#### \n",
        "**Comment: the difference between the mean ages for the two different cases is noticeable!** <br>Being so, let's **add a column with the new titles for each of those cases replacing the 'Miss' title** by **'MissA'** and **'MissPar' accordingly**:<br>"
      ],
      "metadata": {
        "application/vnd.databricks.v1+cell": {
          "title": "",
          "showTitle": false,
          "inputWidgets": {},
          "nuid": "2e9ef64a-47c2-4cbc-aadf-6384c534207a"
        },
        "id": "tNKSxo_ty96X"
      }
    },
    {
      "cell_type": "code",
      "source": [
        "df_pyspark = df_pyspark.withColumn(\"NewTitle\",\n",
        "                        when((df_pyspark.Title==\"Miss\") & (df_pyspark.Parch==0), 'MissA')\n",
        "                       .when((df_pyspark.Title==\"Miss\") & (df_pyspark.Parch!=0), 'MissPar')\n",
        "                       .otherwise(df_pyspark['Title']))\n",
        "                      "
      ],
      "metadata": {
        "application/vnd.databricks.v1+cell": {
          "title": "",
          "showTitle": false,
          "inputWidgets": {},
          "nuid": "ce12dcbf-3b8b-46c9-8229-57da6a699944"
        },
        "id": "k1WPbE0zy96X"
      },
      "outputs": [],
      "execution_count": null
    },
    {
      "cell_type": "code",
      "source": [
        "df_pyspark.show(20)"
      ],
      "metadata": {
        "application/vnd.databricks.v1+cell": {
          "title": "",
          "showTitle": false,
          "inputWidgets": {},
          "nuid": "18a41c6f-81d2-40de-acdb-812201cbe743"
        },
        "id": "L1Vmy5oKy96X",
        "outputId": "aebe6447-19a7-4274-a74b-e38f3e63047c"
      },
      "outputs": [
        {
          "output_type": "display_data",
          "metadata": {
            "application/vnd.databricks.v1+output": {
              "datasetInfos": [],
              "data": "+--------+------+--------------------+------+----+-----+-----+-------+--------+------+--------+\n|Survived|Pclass|                Name|   Sex| Age|SibSp|Parch|   Fare|Embarked| Title|NewTitle|\n+--------+------+--------------------+------+----+-----+-----+-------+--------+------+--------+\n|       0|     3|Braund, Mr. Owen ...|  male|22.0|    1|    0|   7.25|       S|    Mr|      Mr|\n|       1|     1|Cumings, Mrs. Joh...|female|38.0|    1|    0|71.2833|       C|   Mrs|     Mrs|\n|       1|     3|Heikkinen, Miss. ...|female|26.0|    0|    0|  7.925|       S|  Miss|   MissA|\n|       1|     1|Futrelle, Mrs. Ja...|female|35.0|    1|    0|   53.1|       S|   Mrs|     Mrs|\n|       0|     3|Allen, Mr. Willia...|  male|35.0|    0|    0|   8.05|       S|    Mr|      Mr|\n|       0|     3|    Moran, Mr. James|  male|null|    0|    0| 8.4583|       Q|    Mr|      Mr|\n|       0|     1|McCarthy, Mr. Tim...|  male|54.0|    0|    0|51.8625|       S|    Mr|      Mr|\n|       0|     3|Palsson, Master. ...|  male| 2.0|    3|    1| 21.075|       S|Master|  Master|\n|       1|     3|Johnson, Mrs. Osc...|female|27.0|    0|    2|11.1333|       S|   Mrs|     Mrs|\n|       1|     2|Nasser, Mrs. Nich...|female|14.0|    1|    0|30.0708|       C|   Mrs|     Mrs|\n|       1|     3|Sandstrom, Miss. ...|female| 4.0|    1|    1|   16.7|       S|  Miss| MissPar|\n|       1|     1|Bonnell, Miss. El...|female|58.0|    0|    0|  26.55|       S|  Miss|   MissA|\n|       0|     3|Saundercock, Mr. ...|  male|20.0|    0|    0|   8.05|       S|    Mr|      Mr|\n|       0|     3|Andersson, Mr. An...|  male|39.0|    1|    5| 31.275|       S|    Mr|      Mr|\n|       0|     3|Vestrom, Miss. Hu...|female|14.0|    0|    0| 7.8542|       S|  Miss|   MissA|\n|       1|     2|Hewlett, Mrs. (Ma...|female|55.0|    0|    0|   16.0|       S|   Mrs|     Mrs|\n|       0|     3|Rice, Master. Eugene|  male| 2.0|    4|    1| 29.125|       Q|Master|  Master|\n|       1|     2|Williams, Mr. Cha...|  male|null|    0|    0|   13.0|       S|    Mr|      Mr|\n|       0|     3|Vander Planke, Mr...|female|31.0|    1|    0|   18.0|       S|   Mrs|     Mrs|\n|       1|     3|Masselmani, Mrs. ...|female|null|    0|    0|  7.225|       C|   Mrs|     Mrs|\n+--------+------+--------------------+------+----+-----+-----+-------+--------+------+--------+\nonly showing top 20 rows\n\n",
              "removedWidgets": [],
              "addedWidgets": {},
              "metadata": {},
              "type": "ansi",
              "arguments": {}
            }
          },
          "data": {
            "text/plain": [
              "+--------+------+--------------------+------+----+-----+-----+-------+--------+------+--------+\n|Survived|Pclass|                Name|   Sex| Age|SibSp|Parch|   Fare|Embarked| Title|NewTitle|\n+--------+------+--------------------+------+----+-----+-----+-------+--------+------+--------+\n|       0|     3|Braund, Mr. Owen ...|  male|22.0|    1|    0|   7.25|       S|    Mr|      Mr|\n|       1|     1|Cumings, Mrs. Joh...|female|38.0|    1|    0|71.2833|       C|   Mrs|     Mrs|\n|       1|     3|Heikkinen, Miss. ...|female|26.0|    0|    0|  7.925|       S|  Miss|   MissA|\n|       1|     1|Futrelle, Mrs. Ja...|female|35.0|    1|    0|   53.1|       S|   Mrs|     Mrs|\n|       0|     3|Allen, Mr. Willia...|  male|35.0|    0|    0|   8.05|       S|    Mr|      Mr|\n|       0|     3|    Moran, Mr. James|  male|null|    0|    0| 8.4583|       Q|    Mr|      Mr|\n|       0|     1|McCarthy, Mr. Tim...|  male|54.0|    0|    0|51.8625|       S|    Mr|      Mr|\n|       0|     3|Palsson, Master. ...|  male| 2.0|    3|    1| 21.075|       S|Master|  Master|\n|       1|     3|Johnson, Mrs. Osc...|female|27.0|    0|    2|11.1333|       S|   Mrs|     Mrs|\n|       1|     2|Nasser, Mrs. Nich...|female|14.0|    1|    0|30.0708|       C|   Mrs|     Mrs|\n|       1|     3|Sandstrom, Miss. ...|female| 4.0|    1|    1|   16.7|       S|  Miss| MissPar|\n|       1|     1|Bonnell, Miss. El...|female|58.0|    0|    0|  26.55|       S|  Miss|   MissA|\n|       0|     3|Saundercock, Mr. ...|  male|20.0|    0|    0|   8.05|       S|    Mr|      Mr|\n|       0|     3|Andersson, Mr. An...|  male|39.0|    1|    5| 31.275|       S|    Mr|      Mr|\n|       0|     3|Vestrom, Miss. Hu...|female|14.0|    0|    0| 7.8542|       S|  Miss|   MissA|\n|       1|     2|Hewlett, Mrs. (Ma...|female|55.0|    0|    0|   16.0|       S|   Mrs|     Mrs|\n|       0|     3|Rice, Master. Eugene|  male| 2.0|    4|    1| 29.125|       Q|Master|  Master|\n|       1|     2|Williams, Mr. Cha...|  male|null|    0|    0|   13.0|       S|    Mr|      Mr|\n|       0|     3|Vander Planke, Mr...|female|31.0|    1|    0|   18.0|       S|   Mrs|     Mrs|\n|       1|     3|Masselmani, Mrs. ...|female|null|    0|    0|  7.225|       C|   Mrs|     Mrs|\n+--------+------+--------------------+------+----+-----+-----+-------+--------+------+--------+\nonly showing top 20 rows\n\n"
            ]
          }
        }
      ],
      "execution_count": null
    },
    {
      "cell_type": "markdown",
      "source": [
        "\n",
        "> - To be **more accurate** in **imputing missing ages** we will **compute the mean age of groups of `similar passengers`** considering some **`FEATURES COMBINED`**.<br><br>\n",
        "> - For that, given the **huge difference regarding the actual survival rate among the three different classes** (Pclass1, Pclass2 and Pclass3), we'll **group the features `NewTitle` and `Pclass` to define groups of `similar passengers`** (in what concerns to those two features) and then **find** the **`average age`** of those **`similar passengers`**:<br><br>"
      ],
      "metadata": {
        "application/vnd.databricks.v1+cell": {
          "title": "",
          "showTitle": false,
          "inputWidgets": {},
          "nuid": "8133c915-2ecb-41b6-970c-201c361142fe"
        },
        "id": "e70EORWyy96X"
      }
    },
    {
      "cell_type": "code",
      "source": [
        "my_list = df_pyspark.groupby(['NewTitle', 'Pclass']).avg(('Age')).collect()"
      ],
      "metadata": {
        "application/vnd.databricks.v1+cell": {
          "title": "",
          "showTitle": false,
          "inputWidgets": {},
          "nuid": "456d7d4e-be14-457b-9b3a-b6beca8535a1"
        },
        "id": "YjNhDw7jy96X"
      },
      "outputs": [],
      "execution_count": null
    },
    {
      "cell_type": "code",
      "source": [
        "spark.createDataFrame(my_list).show()"
      ],
      "metadata": {
        "application/vnd.databricks.v1+cell": {
          "title": "",
          "showTitle": false,
          "inputWidgets": {},
          "nuid": "35df0d2d-15b8-4798-8ef7-64761dadeede"
        },
        "id": "hV07JpfUy96X",
        "outputId": "8fbf6a14-08f7-4075-decb-9d717c75e259"
      },
      "outputs": [
        {
          "output_type": "display_data",
          "metadata": {
            "application/vnd.databricks.v1+output": {
              "datasetInfos": [],
              "data": "+--------+------+------------------+\n|NewTitle|Pclass|          avg(Age)|\n+--------+------+------------------+\n|   MissA|     2|            30.375|\n|     Mrs|     3|33.515151515151516|\n|      Mr|     1| 41.58045977011494|\n|   Other|     1|             43.75|\n| MissPar|     3| 6.903846153846154|\n| MissPar|     1|              21.0|\n|   MissA|     1| 34.25806451612903|\n|     Mrs|     1|              40.4|\n|   Other|     2|              42.0|\n|      Mr|     2| 32.76829268292683|\n|  Master|     3| 5.350833333333334|\n|   MissA|     3|21.697674418604652|\n| Officer|     1|              56.6|\n|      Mr|     3|28.724890829694324|\n| Royalty|     1|              41.6|\n|  Master|     2|2.2588888888888885|\n|  Master|     1| 5.306666666666667|\n| MissPar|     2|10.538461538461538|\n|     Mrs|     2| 33.68292682926829|\n+--------+------+------------------+\n\n",
              "removedWidgets": [],
              "addedWidgets": {},
              "metadata": {},
              "type": "ansi",
              "arguments": {}
            }
          },
          "data": {
            "text/plain": [
              "+--------+------+------------------+\n|NewTitle|Pclass|          avg(Age)|\n+--------+------+------------------+\n|   MissA|     2|            30.375|\n|     Mrs|     3|33.515151515151516|\n|      Mr|     1| 41.58045977011494|\n|   Other|     1|             43.75|\n| MissPar|     3| 6.903846153846154|\n| MissPar|     1|              21.0|\n|   MissA|     1| 34.25806451612903|\n|     Mrs|     1|              40.4|\n|   Other|     2|              42.0|\n|      Mr|     2| 32.76829268292683|\n|  Master|     3| 5.350833333333334|\n|   MissA|     3|21.697674418604652|\n| Officer|     1|              56.6|\n|      Mr|     3|28.724890829694324|\n| Royalty|     1|              41.6|\n|  Master|     2|2.2588888888888885|\n|  Master|     1| 5.306666666666667|\n| MissPar|     2|10.538461538461538|\n|     Mrs|     2| 33.68292682926829|\n+--------+------+------------------+\n\n"
            ]
          }
        }
      ],
      "execution_count": null
    },
    {
      "cell_type": "markdown",
      "source": [
        "#### Let's **add a column** ('**AgeImputed**') and **replace the 'age' missing values assigning them the average age of the `similar passengers`**:<br>"
      ],
      "metadata": {
        "application/vnd.databricks.v1+cell": {
          "title": "",
          "showTitle": false,
          "inputWidgets": {},
          "nuid": "6bcf0b74-139d-4573-9adf-cef041f1b327"
        },
        "id": "jnLdHZZ2y96X"
      }
    },
    {
      "cell_type": "code",
      "source": [
        "df_pyspark = df_pyspark.withColumn(\"AgeImputed\",\n",
        "                         when((df_pyspark.NewTitle==\"Mr\") & (df_pyspark.Pclass==3) & (df_pyspark.Age.isNull()), 28.72)\n",
        "                        .when((df_pyspark.NewTitle==\"Mr\") & (df_pyspark.Pclass==2) & (df_pyspark.Age.isNull()), 32.77)\n",
        "                        .when((df_pyspark.NewTitle==\"Mr\") & (df_pyspark.Pclass==1) & (df_pyspark.Age.isNull()), 41.58)\n",
        "                        .when((df_pyspark.NewTitle==\"Mrs\") & (df_pyspark.Pclass==3) & (df_pyspark.Age.isNull()), 33.5)\n",
        "                        .when((df_pyspark.NewTitle==\"Mrs\") & (df_pyspark.Pclass==2) & (df_pyspark.Age.isNull()), 33.68)\n",
        "                        .when((df_pyspark.NewTitle==\"Mrs\") & (df_pyspark.Pclass==1) & (df_pyspark.Age.isNull()), 40.4)\n",
        "                        .when((df_pyspark.NewTitle==\"Other\") & (df_pyspark.Pclass==2) & (df_pyspark.Age.isNull()), 42)\n",
        "                        .when((df_pyspark.NewTitle==\"Other\") & (df_pyspark.Pclass==1) & (df_pyspark.Age.isNull()), 43.8)\n",
        "                        .when((df_pyspark.NewTitle==\"MissA\") & (df_pyspark.Pclass==3) & (df_pyspark.Age.isNull()), 21.7)\n",
        "                        .when((df_pyspark.NewTitle==\"MissA\") & (df_pyspark.Pclass==2) & (df_pyspark.Age.isNull()), 30.38)\n",
        "                        .when((df_pyspark.NewTitle==\"MissA\") & (df_pyspark.Pclass==1) & (df_pyspark.Age.isNull()), 34.26)\n",
        "                        .when((df_pyspark.NewTitle==\"MissPar\") & (df_pyspark.Pclass==3) & (df_pyspark.Age.isNull()), 6.9)\n",
        "                        .when((df_pyspark.NewTitle==\"MissPar\") & (df_pyspark.Pclass==2) & (df_pyspark.Age.isNull()), 10.54)\n",
        "                        .when((df_pyspark.NewTitle==\"MissPar\") & (df_pyspark.Pclass==1) & (df_pyspark.Age.isNull()), 21)\n",
        "                        .when((df_pyspark.NewTitle==\"Master\") & (df_pyspark.Pclass==3) & (df_pyspark.Age.isNull()), 5.35)\n",
        "                        .when((df_pyspark.NewTitle==\"Master\") & (df_pyspark.Pclass==2) & (df_pyspark.Age.isNull()), 2.26)\n",
        "                        .when((df_pyspark.NewTitle==\"Master\") & (df_pyspark.Pclass==1) & (df_pyspark.Age.isNull()), 5.31)\n",
        "                        .when((df_pyspark.NewTitle==\"Officer|\") & (df_pyspark.Pclass==1) & (df_pyspark.Age.isNull()), 56.6)\n",
        "                        .when((df_pyspark.NewTitle==\"Royalty|\") & (df_pyspark.Pclass==1) & (df_pyspark.Age.isNull()), 41.6)\n",
        "                        .otherwise(df_pyspark.Age))"
      ],
      "metadata": {
        "application/vnd.databricks.v1+cell": {
          "title": "",
          "showTitle": false,
          "inputWidgets": {},
          "nuid": "6af7fddb-d00e-4f6e-aa27-6df0a3b03c07"
        },
        "id": "HgxV6huiy96X"
      },
      "outputs": [],
      "execution_count": null
    },
    {
      "cell_type": "markdown",
      "source": [
        "#### - **`EMBARKED`**:<br>\n",
        "- This feature has **only two missining values** and **almost 3/4 of the passengers boarded from \"S\"** (Southampton). **We'll impute \"S\"**."
      ],
      "metadata": {
        "application/vnd.databricks.v1+cell": {
          "title": "",
          "showTitle": false,
          "inputWidgets": {},
          "nuid": "64acb9c6-c13a-40c0-a287-a7944fa402f7"
        },
        "id": "KGCPlmVdy96Y"
      }
    },
    {
      "cell_type": "code",
      "source": [
        "df_pyspark = df_pyspark.na.fill({\"Embarked\" : 'S'})"
      ],
      "metadata": {
        "application/vnd.databricks.v1+cell": {
          "title": "",
          "showTitle": false,
          "inputWidgets": {},
          "nuid": "655418bc-a28a-4e72-9fc2-1ab1131c840f"
        },
        "id": "gIY-8aBUy96Y"
      },
      "outputs": [],
      "execution_count": null
    },
    {
      "cell_type": "code",
      "source": [
        "df_pyspark.show(20)"
      ],
      "metadata": {
        "application/vnd.databricks.v1+cell": {
          "title": "",
          "showTitle": false,
          "inputWidgets": {},
          "nuid": "215716e3-0262-4f9c-ba95-3054c69d6a88"
        },
        "id": "3cYADQAey96Y",
        "outputId": "5ec3e6e9-fb50-45f5-9a03-1eec1d637a01"
      },
      "outputs": [
        {
          "output_type": "display_data",
          "metadata": {
            "application/vnd.databricks.v1+output": {
              "datasetInfos": [],
              "data": "+--------+------+--------------------+------+----+-----+-----+-------+--------+------+--------+----------+\n|Survived|Pclass|                Name|   Sex| Age|SibSp|Parch|   Fare|Embarked| Title|NewTitle|AgeImputed|\n+--------+------+--------------------+------+----+-----+-----+-------+--------+------+--------+----------+\n|       0|     3|Braund, Mr. Owen ...|  male|22.0|    1|    0|   7.25|       S|    Mr|      Mr|      22.0|\n|       1|     1|Cumings, Mrs. Joh...|female|38.0|    1|    0|71.2833|       C|   Mrs|     Mrs|      38.0|\n|       1|     3|Heikkinen, Miss. ...|female|26.0|    0|    0|  7.925|       S|  Miss|   MissA|      26.0|\n|       1|     1|Futrelle, Mrs. Ja...|female|35.0|    1|    0|   53.1|       S|   Mrs|     Mrs|      35.0|\n|       0|     3|Allen, Mr. Willia...|  male|35.0|    0|    0|   8.05|       S|    Mr|      Mr|      35.0|\n|       0|     3|    Moran, Mr. James|  male|null|    0|    0| 8.4583|       Q|    Mr|      Mr|     28.72|\n|       0|     1|McCarthy, Mr. Tim...|  male|54.0|    0|    0|51.8625|       S|    Mr|      Mr|      54.0|\n|       0|     3|Palsson, Master. ...|  male| 2.0|    3|    1| 21.075|       S|Master|  Master|       2.0|\n|       1|     3|Johnson, Mrs. Osc...|female|27.0|    0|    2|11.1333|       S|   Mrs|     Mrs|      27.0|\n|       1|     2|Nasser, Mrs. Nich...|female|14.0|    1|    0|30.0708|       C|   Mrs|     Mrs|      14.0|\n|       1|     3|Sandstrom, Miss. ...|female| 4.0|    1|    1|   16.7|       S|  Miss| MissPar|       4.0|\n|       1|     1|Bonnell, Miss. El...|female|58.0|    0|    0|  26.55|       S|  Miss|   MissA|      58.0|\n|       0|     3|Saundercock, Mr. ...|  male|20.0|    0|    0|   8.05|       S|    Mr|      Mr|      20.0|\n|       0|     3|Andersson, Mr. An...|  male|39.0|    1|    5| 31.275|       S|    Mr|      Mr|      39.0|\n|       0|     3|Vestrom, Miss. Hu...|female|14.0|    0|    0| 7.8542|       S|  Miss|   MissA|      14.0|\n|       1|     2|Hewlett, Mrs. (Ma...|female|55.0|    0|    0|   16.0|       S|   Mrs|     Mrs|      55.0|\n|       0|     3|Rice, Master. Eugene|  male| 2.0|    4|    1| 29.125|       Q|Master|  Master|       2.0|\n|       1|     2|Williams, Mr. Cha...|  male|null|    0|    0|   13.0|       S|    Mr|      Mr|     32.77|\n|       0|     3|Vander Planke, Mr...|female|31.0|    1|    0|   18.0|       S|   Mrs|     Mrs|      31.0|\n|       1|     3|Masselmani, Mrs. ...|female|null|    0|    0|  7.225|       C|   Mrs|     Mrs|      33.5|\n+--------+------+--------------------+------+----+-----+-----+-------+--------+------+--------+----------+\nonly showing top 20 rows\n\n",
              "removedWidgets": [],
              "addedWidgets": {},
              "metadata": {},
              "type": "ansi",
              "arguments": {}
            }
          },
          "data": {
            "text/plain": [
              "+--------+------+--------------------+------+----+-----+-----+-------+--------+------+--------+----------+\n|Survived|Pclass|                Name|   Sex| Age|SibSp|Parch|   Fare|Embarked| Title|NewTitle|AgeImputed|\n+--------+------+--------------------+------+----+-----+-----+-------+--------+------+--------+----------+\n|       0|     3|Braund, Mr. Owen ...|  male|22.0|    1|    0|   7.25|       S|    Mr|      Mr|      22.0|\n|       1|     1|Cumings, Mrs. Joh...|female|38.0|    1|    0|71.2833|       C|   Mrs|     Mrs|      38.0|\n|       1|     3|Heikkinen, Miss. ...|female|26.0|    0|    0|  7.925|       S|  Miss|   MissA|      26.0|\n|       1|     1|Futrelle, Mrs. Ja...|female|35.0|    1|    0|   53.1|       S|   Mrs|     Mrs|      35.0|\n|       0|     3|Allen, Mr. Willia...|  male|35.0|    0|    0|   8.05|       S|    Mr|      Mr|      35.0|\n|       0|     3|    Moran, Mr. James|  male|null|    0|    0| 8.4583|       Q|    Mr|      Mr|     28.72|\n|       0|     1|McCarthy, Mr. Tim...|  male|54.0|    0|    0|51.8625|       S|    Mr|      Mr|      54.0|\n|       0|     3|Palsson, Master. ...|  male| 2.0|    3|    1| 21.075|       S|Master|  Master|       2.0|\n|       1|     3|Johnson, Mrs. Osc...|female|27.0|    0|    2|11.1333|       S|   Mrs|     Mrs|      27.0|\n|       1|     2|Nasser, Mrs. Nich...|female|14.0|    1|    0|30.0708|       C|   Mrs|     Mrs|      14.0|\n|       1|     3|Sandstrom, Miss. ...|female| 4.0|    1|    1|   16.7|       S|  Miss| MissPar|       4.0|\n|       1|     1|Bonnell, Miss. El...|female|58.0|    0|    0|  26.55|       S|  Miss|   MissA|      58.0|\n|       0|     3|Saundercock, Mr. ...|  male|20.0|    0|    0|   8.05|       S|    Mr|      Mr|      20.0|\n|       0|     3|Andersson, Mr. An...|  male|39.0|    1|    5| 31.275|       S|    Mr|      Mr|      39.0|\n|       0|     3|Vestrom, Miss. Hu...|female|14.0|    0|    0| 7.8542|       S|  Miss|   MissA|      14.0|\n|       1|     2|Hewlett, Mrs. (Ma...|female|55.0|    0|    0|   16.0|       S|   Mrs|     Mrs|      55.0|\n|       0|     3|Rice, Master. Eugene|  male| 2.0|    4|    1| 29.125|       Q|Master|  Master|       2.0|\n|       1|     2|Williams, Mr. Cha...|  male|null|    0|    0|   13.0|       S|    Mr|      Mr|     32.77|\n|       0|     3|Vander Planke, Mr...|female|31.0|    1|    0|   18.0|       S|   Mrs|     Mrs|      31.0|\n|       1|     3|Masselmani, Mrs. ...|female|null|    0|    0|  7.225|       C|   Mrs|     Mrs|      33.5|\n+--------+------+--------------------+------+----+-----+-----+-------+--------+------+--------+----------+\nonly showing top 20 rows\n\n"
            ]
          }
        }
      ],
      "execution_count": null
    },
    {
      "cell_type": "markdown",
      "source": [
        "### **`Features Selection: 2nd phase`:** <br><br>\n",
        " - **Removing unnecessary features after the `FEATURE ENGINEERING`:**<br>"
      ],
      "metadata": {
        "application/vnd.databricks.v1+cell": {
          "title": "",
          "showTitle": false,
          "inputWidgets": {},
          "nuid": "88c11a64-9e58-4beb-aa96-0ebf5c79b42f"
        },
        "id": "3yz9o2qAy96Y"
      }
    },
    {
      "cell_type": "code",
      "source": [
        "df_pyspark=df_pyspark.drop('Name','Age','Title')"
      ],
      "metadata": {
        "application/vnd.databricks.v1+cell": {
          "title": "",
          "showTitle": false,
          "inputWidgets": {},
          "nuid": "2cda7b93-6926-418d-bc16-f6d2e4286546"
        },
        "id": "NtxQAVwWy96Y"
      },
      "outputs": [],
      "execution_count": null
    },
    {
      "cell_type": "markdown",
      "source": [
        "#### Let's **check** if **there are still any missing values**:<br>"
      ],
      "metadata": {
        "application/vnd.databricks.v1+cell": {
          "title": "",
          "showTitle": false,
          "inputWidgets": {},
          "nuid": "1ff3d666-1c9b-49ed-b4f9-29cf1e6d0ce5"
        },
        "id": "sYdptz1ry96Y"
      }
    },
    {
      "cell_type": "code",
      "source": [
        "df_pyspark.select([count(when(isnan(c)|col(c).isNull(),c)).alias(c) for c in df_pyspark.columns]).show()"
      ],
      "metadata": {
        "application/vnd.databricks.v1+cell": {
          "title": "",
          "showTitle": false,
          "inputWidgets": {},
          "nuid": "8765a57e-0e9a-4ad5-8ce6-5066769f30f8"
        },
        "id": "cUOsHJR8y96Y",
        "outputId": "0bb71faa-19a8-4932-eb6b-68e48bdd7d81"
      },
      "outputs": [
        {
          "output_type": "display_data",
          "metadata": {
            "application/vnd.databricks.v1+output": {
              "datasetInfos": [],
              "data": "+--------+------+---+-----+-----+----+--------+--------+----------+\n|Survived|Pclass|Sex|SibSp|Parch|Fare|Embarked|NewTitle|AgeImputed|\n+--------+------+---+-----+-----+----+--------+--------+----------+\n|       0|     0|  0|    0|    0|   0|       0|       0|         0|\n+--------+------+---+-----+-----+----+--------+--------+----------+\n\n",
              "removedWidgets": [],
              "addedWidgets": {},
              "metadata": {},
              "type": "ansi",
              "arguments": {}
            }
          },
          "data": {
            "text/plain": [
              "+--------+------+---+-----+-----+----+--------+--------+----------+\n|Survived|Pclass|Sex|SibSp|Parch|Fare|Embarked|NewTitle|AgeImputed|\n+--------+------+---+-----+-----+----+--------+--------+----------+\n|       0|     0|  0|    0|    0|   0|       0|       0|         0|\n+--------+------+---+-----+-----+----+--------+--------+----------+\n\n"
            ]
          }
        }
      ],
      "execution_count": null
    },
    {
      "cell_type": "markdown",
      "source": [
        "#### **Check the schema after the changes we made**:"
      ],
      "metadata": {
        "application/vnd.databricks.v1+cell": {
          "title": "",
          "showTitle": false,
          "inputWidgets": {},
          "nuid": "1e5e1f8f-3b9b-413d-92a4-c2ec978eb0a8"
        },
        "id": "0S7rsufpy96Y"
      }
    },
    {
      "cell_type": "code",
      "source": [
        "df_pyspark.printSchema()"
      ],
      "metadata": {
        "application/vnd.databricks.v1+cell": {
          "title": "",
          "showTitle": false,
          "inputWidgets": {},
          "nuid": "ef0f922f-7387-4d5f-9d8e-0dffa56af3f1"
        },
        "id": "CUp4AI5Gy96Z",
        "outputId": "bb8fc0d0-9c15-4d0f-dbd5-61682d79f7da"
      },
      "outputs": [
        {
          "output_type": "display_data",
          "metadata": {
            "application/vnd.databricks.v1+output": {
              "datasetInfos": [],
              "data": "root\n |-- Survived: integer (nullable = true)\n |-- Pclass: integer (nullable = true)\n |-- Sex: string (nullable = true)\n |-- SibSp: integer (nullable = true)\n |-- Parch: integer (nullable = true)\n |-- Fare: double (nullable = true)\n |-- Embarked: string (nullable = false)\n |-- NewTitle: string (nullable = true)\n |-- AgeImputed: double (nullable = true)\n\n",
              "removedWidgets": [],
              "addedWidgets": {},
              "metadata": {},
              "type": "ansi",
              "arguments": {}
            }
          },
          "data": {
            "text/plain": [
              "root\n |-- Survived: integer (nullable = true)\n |-- Pclass: integer (nullable = true)\n |-- Sex: string (nullable = true)\n |-- SibSp: integer (nullable = true)\n |-- Parch: integer (nullable = true)\n |-- Fare: double (nullable = true)\n |-- Embarked: string (nullable = false)\n |-- NewTitle: string (nullable = true)\n |-- AgeImputed: double (nullable = true)\n\n"
            ]
          }
        }
      ],
      "execution_count": null
    },
    {
      "cell_type": "markdown",
      "source": [
        "### - **Let's do some MORE feature engineering:**<br>\n",
        "- - -"
      ],
      "metadata": {
        "application/vnd.databricks.v1+cell": {
          "title": "",
          "showTitle": false,
          "inputWidgets": {},
          "nuid": "689f6915-9053-4d20-b733-1da08a2bb507"
        },
        "id": "k7Nw2FwDy96Z"
      }
    },
    {
      "cell_type": "markdown",
      "source": [
        "#### **Create a function to convert categorical attributes into a binary vector with at most a single one-value per row that indicates the input category index** (using **OneHotEncoder**), the last category is not included by default), **but first convert non-numeric data to numeric data** (using **StringIndexer**):<br>"
      ],
      "metadata": {
        "application/vnd.databricks.v1+cell": {
          "title": "",
          "showTitle": false,
          "inputWidgets": {},
          "nuid": "35ae1a4d-42f7-497b-b782-0a6ea49e2802"
        },
        "id": "AvJRfvwKy96Z"
      }
    },
    {
      "cell_type": "code",
      "source": [
        "stages=[]\n",
        "cat=['Sex','Embarked','Pclass','NewTitle']"
      ],
      "metadata": {
        "application/vnd.databricks.v1+cell": {
          "title": "",
          "showTitle": false,
          "inputWidgets": {},
          "nuid": "ad40c7c9-eb01-455b-b9c9-5f46c58c7eb5"
        },
        "id": "CKnmEQGEy96Z"
      },
      "outputs": [],
      "execution_count": null
    },
    {
      "cell_type": "code",
      "source": [
        "for catCol in cat:\n",
        "    indexer = StringIndexer(inputCol=catCol, outputCol=catCol+'Index',stringOrderType='frequencyDesc')\n",
        "    encoder=OneHotEncoder(inputCols=[indexer.getOutputCol()],outputCols=[catCol+'catVec'])\n",
        "    stages+=[indexer,encoder]\n",
        "    \n",
        "#indexer= StringIndexer(inputCol='Sex', outputCol='sex_Index',stringOrderType='frequencyDesc')\n",
        "#df_pysparkcat = indexer.fit(df_pyspark).transform(df_pyspark)\n",
        "#df_pysparkcat.show()\n",
        "\n",
        "\n",
        "#df_pysparkcat = indexer.fit(df_pyspark).transform(df_pyspark)\n"
      ],
      "metadata": {
        "application/vnd.databricks.v1+cell": {
          "title": "",
          "showTitle": false,
          "inputWidgets": {},
          "nuid": "678d3fed-9f74-4b8e-a0dc-d3d255472433"
        },
        "id": "qVd5MGTey96Z"
      },
      "outputs": [],
      "execution_count": null
    },
    {
      "cell_type": "code",
      "source": [
        "stages"
      ],
      "metadata": {
        "application/vnd.databricks.v1+cell": {
          "title": "",
          "showTitle": false,
          "inputWidgets": {},
          "nuid": "e8551856-e06c-4122-921c-1a10bfb019ec"
        },
        "id": "RJrruTRPy96Z",
        "outputId": "abbbf30f-d552-428e-d2f2-dcc01735a28b"
      },
      "outputs": [
        {
          "output_type": "display_data",
          "metadata": {
            "application/vnd.databricks.v1+output": {
              "datasetInfos": [],
              "data": "Out[58]: [StringIndexer_a9156631b268,\n OneHotEncoder_60d49251a2f5,\n StringIndexer_a2f4c8f1cb1e,\n OneHotEncoder_c3c4d0168483,\n StringIndexer_7482265629ba,\n OneHotEncoder_3ff0ea5cfc62,\n StringIndexer_1623672dfa50,\n OneHotEncoder_516e6277d4ce]",
              "removedWidgets": [],
              "addedWidgets": {},
              "metadata": {},
              "type": "ansi",
              "arguments": {}
            }
          },
          "data": {
            "text/plain": [
              "Out[58]: [StringIndexer_a9156631b268,\n OneHotEncoder_60d49251a2f5,\n StringIndexer_a2f4c8f1cb1e,\n OneHotEncoder_c3c4d0168483,\n StringIndexer_7482265629ba,\n OneHotEncoder_3ff0ea5cfc62,\n StringIndexer_1623672dfa50,\n OneHotEncoder_516e6277d4ce]"
            ]
          }
        }
      ],
      "execution_count": null
    },
    {
      "cell_type": "markdown",
      "source": [
        "#### Let's **combine the list of columns of our interest into a single vector column properly named 'features'** (using **VectorAssembler**):<br>"
      ],
      "metadata": {
        "application/vnd.databricks.v1+cell": {
          "title": "",
          "showTitle": false,
          "inputWidgets": {},
          "nuid": "9e689488-94f4-4858-b8c5-da4db2521cab"
        },
        "id": "JY9Uxclzy96Z"
      }
    },
    {
      "cell_type": "code",
      "source": [
        "numeric=['Fare','SibSp','Parch','AgeImputed']"
      ],
      "metadata": {
        "application/vnd.databricks.v1+cell": {
          "title": "",
          "showTitle": false,
          "inputWidgets": {},
          "nuid": "70dfcf50-da72-4d58-9bc8-e8e4c4d35934"
        },
        "id": "DrU2cRzxy96Z"
      },
      "outputs": [],
      "execution_count": null
    },
    {
      "cell_type": "code",
      "source": [
        "assembleInputs=[c+'catVec' for c in cat]+numeric\n",
        "assembler=VectorAssembler(inputCols=assembleInputs,outputCol=\"features\")\n",
        "stages+=[assembler]"
      ],
      "metadata": {
        "application/vnd.databricks.v1+cell": {
          "title": "",
          "showTitle": false,
          "inputWidgets": {},
          "nuid": "72a58bbc-2d23-490f-8f0c-c658321711b7"
        },
        "id": "xis5HBaOy96Z"
      },
      "outputs": [],
      "execution_count": null
    },
    {
      "cell_type": "markdown",
      "source": [
        "#### **Now** let's do the **train-test split**:<br>"
      ],
      "metadata": {
        "application/vnd.databricks.v1+cell": {
          "title": "",
          "showTitle": false,
          "inputWidgets": {},
          "nuid": "0eaa653f-3ad2-41d0-8e40-b9ff3fb219ae"
        },
        "id": "nnbL0XVXy96a"
      }
    },
    {
      "cell_type": "code",
      "source": [
        "train_data, test_data = df_pyspark.randomSplit([0.8,0.2],seed=42) "
      ],
      "metadata": {
        "application/vnd.databricks.v1+cell": {
          "title": "",
          "showTitle": false,
          "inputWidgets": {},
          "nuid": "b8a673eb-4dd0-45de-96c2-01ab88c627f0"
        },
        "id": "hqTiiQVwy96a"
      },
      "outputs": [],
      "execution_count": null
    },
    {
      "cell_type": "markdown",
      "source": [
        "#### Use a **pipeline to fit the train set**<br>"
      ],
      "metadata": {
        "application/vnd.databricks.v1+cell": {
          "title": "",
          "showTitle": false,
          "inputWidgets": {},
          "nuid": "40cea24a-c41c-4858-80fe-1be123c581b0"
        },
        "id": "_tI82F3Ty96a"
      }
    },
    {
      "cell_type": "code",
      "source": [
        "pipeline=Pipeline().setStages(stages)\n",
        "pipelineModel=pipeline.fit(train_data)"
      ],
      "metadata": {
        "application/vnd.databricks.v1+cell": {
          "title": "",
          "showTitle": false,
          "inputWidgets": {},
          "nuid": "68ac3ec4-c8fb-4732-b1f8-96dd86403956"
        },
        "id": "7XYVxiEfy96a"
      },
      "outputs": [],
      "execution_count": null
    },
    {
      "cell_type": "markdown",
      "source": [
        "#### **Transform the train and test sets**<br>"
      ],
      "metadata": {
        "application/vnd.databricks.v1+cell": {
          "title": "",
          "showTitle": false,
          "inputWidgets": {},
          "nuid": "3787ce5f-f381-41a1-a6ba-dcac31d9e9db"
        },
        "id": "asqGR72ly96a"
      }
    },
    {
      "cell_type": "code",
      "source": [
        "train_pipe=pipelineModel.transform(train_data)\n",
        "test_pipe=pipelineModel.transform(test_data)"
      ],
      "metadata": {
        "application/vnd.databricks.v1+cell": {
          "title": "",
          "showTitle": false,
          "inputWidgets": {},
          "nuid": "8092a056-2bd3-4cf1-b54a-301c71939689"
        },
        "id": "veNndKdmy96a"
      },
      "outputs": [],
      "execution_count": null
    },
    {
      "cell_type": "code",
      "source": [
        "train_pipe.head(1)"
      ],
      "metadata": {
        "application/vnd.databricks.v1+cell": {
          "title": "",
          "showTitle": false,
          "inputWidgets": {},
          "nuid": "8040149a-a57a-45d6-a73a-24e3cceea1e2"
        },
        "id": "xOkVVyKKy96a",
        "outputId": "39ed5af4-a016-4a83-bf15-cf7b5afbe311"
      },
      "outputs": [
        {
          "output_type": "display_data",
          "metadata": {
            "application/vnd.databricks.v1+output": {
              "datasetInfos": [],
              "data": "Out[65]: [Row(Survived=0, Pclass=1, Sex='female', SibSp=0, Parch=0, Fare=28.7125, Embarked='C', NewTitle='MissA', AgeImputed=50.0, SexIndex=1.0, SexcatVec=SparseVector(1, {}), EmbarkedIndex=1.0, EmbarkedcatVec=SparseVector(2, {1: 1.0}), PclassIndex=1.0, PclasscatVec=SparseVector(2, {1: 1.0}), NewTitleIndex=1.0, NewTitlecatVec=SparseVector(7, {1: 1.0}), features=SparseVector(16, {2: 1.0, 4: 1.0, 6: 1.0, 12: 28.7125, 15: 50.0}))]",
              "removedWidgets": [],
              "addedWidgets": {},
              "metadata": {},
              "type": "ansi",
              "arguments": {}
            }
          },
          "data": {
            "text/plain": [
              "Out[65]: [Row(Survived=0, Pclass=1, Sex='female', SibSp=0, Parch=0, Fare=28.7125, Embarked='C', NewTitle='MissA', AgeImputed=50.0, SexIndex=1.0, SexcatVec=SparseVector(1, {}), EmbarkedIndex=1.0, EmbarkedcatVec=SparseVector(2, {1: 1.0}), PclassIndex=1.0, PclasscatVec=SparseVector(2, {1: 1.0}), NewTitleIndex=1.0, NewTitlecatVec=SparseVector(7, {1: 1.0}), features=SparseVector(16, {2: 1.0, 4: 1.0, 6: 1.0, 12: 28.7125, 15: 50.0}))]"
            ]
          }
        }
      ],
      "execution_count": null
    },
    {
      "cell_type": "markdown",
      "source": [
        "## **Classification**<br>"
      ],
      "metadata": {
        "application/vnd.databricks.v1+cell": {
          "title": "",
          "showTitle": false,
          "inputWidgets": {},
          "nuid": "7d060d98-5998-466d-bc80-b9564d64e1de"
        },
        "id": "-XviipyNy96a"
      }
    },
    {
      "cell_type": "code",
      "source": [
        "from pyspark.ml.classification import RandomForestClassifier"
      ],
      "metadata": {
        "application/vnd.databricks.v1+cell": {
          "title": "",
          "showTitle": false,
          "inputWidgets": {},
          "nuid": "c73fb220-96c9-49ee-9d5b-7e8d675ec26a"
        },
        "id": "kqwXwJb0y96b"
      },
      "outputs": [],
      "execution_count": null
    },
    {
      "cell_type": "markdown",
      "source": [
        "#### - **Baseline model and evaluation:**"
      ],
      "metadata": {
        "application/vnd.databricks.v1+cell": {
          "title": "",
          "showTitle": false,
          "inputWidgets": {},
          "nuid": "aa90dc97-b698-4e7a-b192-2bc753013bcd"
        },
        "id": "x32Z_eQIy96b"
      }
    },
    {
      "cell_type": "code",
      "source": [
        "rf = RandomForestClassifier(labelCol = 'Survived', predictionCol='prediction', seed=42)\n",
        "rfmodel = rf.fit(train_pipe)"
      ],
      "metadata": {
        "application/vnd.databricks.v1+cell": {
          "title": "",
          "showTitle": false,
          "inputWidgets": {},
          "nuid": "e953e5e8-c5c4-49be-a3b5-0b3f9b2831a2"
        },
        "id": "b0_0YeM0y96b"
      },
      "outputs": [],
      "execution_count": null
    },
    {
      "cell_type": "code",
      "source": [
        "pred_results_rf = rfmodel.transform(test_pipe)"
      ],
      "metadata": {
        "application/vnd.databricks.v1+cell": {
          "title": "",
          "showTitle": false,
          "inputWidgets": {},
          "nuid": "a6365467-be5d-499a-ad36-ff52ac158616"
        },
        "id": "VnmmzGWoy96b"
      },
      "outputs": [],
      "execution_count": null
    },
    {
      "cell_type": "code",
      "source": [
        " # For the Training Set\n",
        "summary=rfmodel.summary\n",
        "\n",
        "summary.accuracy"
      ],
      "metadata": {
        "application/vnd.databricks.v1+cell": {
          "title": "",
          "showTitle": false,
          "inputWidgets": {},
          "nuid": "21d13d77-430e-4136-9e93-329209d3d7f9"
        },
        "id": "40TXOk0dy96b",
        "outputId": "ce2d6820-843a-4fe3-9638-279123e6a6f7"
      },
      "outputs": [
        {
          "output_type": "display_data",
          "metadata": {
            "application/vnd.databricks.v1+output": {
              "datasetInfos": [],
              "data": "Out[143]: 0.839142091152815",
              "removedWidgets": [],
              "addedWidgets": {},
              "metadata": {},
              "type": "ansi",
              "arguments": {}
            }
          },
          "data": {
            "text/plain": [
              "Out[143]: 0.839142091152815"
            ]
          }
        }
      ],
      "execution_count": null
    },
    {
      "cell_type": "code",
      "source": [
        "from pyspark.ml.evaluation import BinaryClassificationEvaluator\n",
        "evaluator = BinaryClassificationEvaluator(labelCol='Survived')\n",
        "\n",
        "rfevaluator=evaluator.evaluate(pred_results_rf)\n",
        "# equal to:\n",
        "auroc = evaluator.evaluate(pred_results_rf, {evaluator.metricName: \"areaUnderROC\"})\n",
        "\n",
        "aupr= evaluator.evaluate(pred_results_rf, {evaluator.metricName: \"areaUnderPR\"})\n",
        "print(auroc,aupr)"
      ],
      "metadata": {
        "application/vnd.databricks.v1+cell": {
          "title": "",
          "showTitle": false,
          "inputWidgets": {},
          "nuid": "b4e1b9aa-9972-4431-8e85-f849c8ef2fff"
        },
        "id": "DCucijr7y96b",
        "outputId": "9b2f4033-bdc6-43d3-8e10-942ee45bde48"
      },
      "outputs": [
        {
          "output_type": "display_data",
          "metadata": {
            "application/vnd.databricks.v1+output": {
              "datasetInfos": [],
              "data": "0.8923692427790788 0.8592038032018966\n",
              "removedWidgets": [],
              "addedWidgets": {},
              "metadata": {},
              "type": "ansi",
              "arguments": {}
            }
          },
          "data": {
            "text/plain": [
              "0.8923692427790788 0.8592038032018966\n"
            ]
          }
        }
      ],
      "execution_count": null
    },
    {
      "cell_type": "markdown",
      "source": [
        "### - **Hyperparameter tuning with CrossValidator and evaluation:**"
      ],
      "metadata": {
        "application/vnd.databricks.v1+cell": {
          "title": "",
          "showTitle": false,
          "inputWidgets": {},
          "nuid": "310793eb-c730-48ad-a7df-17551f924c81"
        },
        "id": "34sUXJ1Ly96c"
      }
    },
    {
      "cell_type": "code",
      "source": [
        "from pyspark.ml.tuning import ParamGridBuilder,CrossValidator\n",
        "rfparamGrid = (ParamGridBuilder()\n",
        "               .addGrid(rf.maxDepth, [2, 4, 5])\n",
        "               .addGrid(rf.numTrees, [5, 10, 20, 100])\n",
        "             .build())"
      ],
      "metadata": {
        "application/vnd.databricks.v1+cell": {
          "title": "",
          "showTitle": false,
          "inputWidgets": {},
          "nuid": "8e3402e1-21d4-4009-97e5-03dcd8983659"
        },
        "id": "sluE0IFuy96c"
      },
      "outputs": [],
      "execution_count": null
    },
    {
      "cell_type": "code",
      "source": [
        "from pyspark.ml.evaluation import BinaryClassificationEvaluator\n",
        "evaluatorRF=BinaryClassificationEvaluator(labelCol='Survived')\n",
        "\n",
        "cv = CrossValidator(estimator = rf,\n",
        "                      estimatorParamMaps = rfparamGrid,\n",
        "                      evaluator = evaluatorRF,\n",
        "                      numFolds = 5)\n",
        "\n",
        "rfcv=cv.fit(train_pipe)"
      ],
      "metadata": {
        "application/vnd.databricks.v1+cell": {
          "title": "",
          "showTitle": false,
          "inputWidgets": {},
          "nuid": "b4033232-0945-4a2b-872e-0c256feb1274"
        },
        "id": "88kGvqC2y96c",
        "outputId": "3b87f5b7-a560-4530-cd7d-d89d2fa175e2"
      },
      "outputs": [
        {
          "output_type": "display_data",
          "metadata": {
            "application/vnd.databricks.v1+output": {
              "datasetInfos": [],
              "data": "Deprecation warning: The PySpark MLlib + MLflow Tracking integration is deprecated. Soon, we will remove this feature and replace it with MLflow PySpark ML autologging and Databricks Autologging.\n To try the new MLflow PySpark ML autologging feature, which will be enabled by default in an upcoming release, call `mlflow.pyspark.ml.autolog()`.\nMLlib will automatically track trials in MLflow. After your tuning fit() call has completed, view the MLflow UI to see logged runs.\n",
              "removedWidgets": [],
              "addedWidgets": {},
              "metadata": {},
              "type": "ansi",
              "arguments": {}
            }
          },
          "data": {
            "text/plain": [
              "Deprecation warning: The PySpark MLlib + MLflow Tracking integration is deprecated. Soon, we will remove this feature and replace it with MLflow PySpark ML autologging and Databricks Autologging.\n To try the new MLflow PySpark ML autologging feature, which will be enabled by default in an upcoming release, call `mlflow.pyspark.ml.autolog()`.\nMLlib will automatically track trials in MLflow. After your tuning fit() call has completed, view the MLflow UI to see logged runs.\n"
            ]
          }
        }
      ],
      "execution_count": null
    },
    {
      "cell_type": "code",
      "source": [
        "predictions=rfcv.bestModel.transform(test_pipe)\n",
        "\n",
        "evaluatorRF.evaluate(predictions)"
      ],
      "metadata": {
        "application/vnd.databricks.v1+cell": {
          "title": "",
          "showTitle": false,
          "inputWidgets": {},
          "nuid": "9cdbdc4a-97c1-4d6e-8ed9-b41fd188e08f"
        },
        "id": "IyUxsRnBy96c",
        "outputId": "4866b874-8ac2-4ec0-9c7f-4c373f831774"
      },
      "outputs": [
        {
          "output_type": "display_data",
          "metadata": {
            "application/vnd.databricks.v1+output": {
              "datasetInfos": [],
              "data": "Out[149]: 0.9006635441061671",
              "removedWidgets": [],
              "addedWidgets": {},
              "metadata": {},
              "type": "ansi",
              "arguments": {}
            }
          },
          "data": {
            "text/plain": [
              "Out[149]: 0.9006635441061671"
            ]
          }
        }
      ],
      "execution_count": null
    },
    {
      "cell_type": "code",
      "source": [
        "# As, by default, the metric name of the BinaryClassificationEvaluator is areaUnderROC the first value will be equal to the cell above\n",
        "auroc = evaluator.evaluate(predictions, {evaluator.metricName: \"areaUnderROC\"})\n",
        "aupr= evaluatorRF.evaluate(predictions, {evaluatorRF.metricName: \"areaUnderPR\"})\n",
        "print(auroc, aupr)\n"
      ],
      "metadata": {
        "application/vnd.databricks.v1+cell": {
          "title": "",
          "showTitle": false,
          "inputWidgets": {},
          "nuid": "1bac4abe-c1cd-41d5-b773-10995371779f"
        },
        "id": "e9JrYm3dy96c",
        "outputId": "668202e0-ce49-497f-d2ef-39169995e7a0"
      },
      "outputs": [
        {
          "output_type": "display_data",
          "metadata": {
            "application/vnd.databricks.v1+output": {
              "datasetInfos": [],
              "data": "0.9006635441061671 0.894087760129106\n",
              "removedWidgets": [],
              "addedWidgets": {},
              "metadata": {},
              "type": "ansi",
              "arguments": {}
            }
          },
          "data": {
            "text/plain": [
              "0.9006635441061671 0.894087760129106\n"
            ]
          }
        }
      ],
      "execution_count": null
    },
    {
      "cell_type": "markdown",
      "source": [
        "#### - We **can get the accuracy and F1 score using MulticlassClassificationEvaluator** which **can be used for binary classification** as well. Let's use it for **accuracy:**"
      ],
      "metadata": {
        "application/vnd.databricks.v1+cell": {
          "title": "",
          "showTitle": false,
          "inputWidgets": {},
          "nuid": "0bb78681-cad2-418f-b642-4f5723740f4c"
        },
        "id": "b5mK34Vny96c"
      }
    },
    {
      "cell_type": "code",
      "source": [
        "from pyspark.ml.evaluation import MulticlassClassificationEvaluator\n"
      ],
      "metadata": {
        "application/vnd.databricks.v1+cell": {
          "title": "",
          "showTitle": false,
          "inputWidgets": {},
          "nuid": "4854a01e-6b2e-4687-84a0-6cfa5e2c9c3d"
        },
        "id": "dGPdyQbvy96c"
      },
      "outputs": [],
      "execution_count": null
    },
    {
      "cell_type": "code",
      "source": [
        "multi_evaluator = MulticlassClassificationEvaluator(labelCol=\"Survived\", predictionCol=\"prediction\", metricName=\"accuracy\")\n",
        "rf_accuracy = multi_evaluator.evaluate(predictions)\n",
        "print(\"Accuracy of RandomForestClassifier is = \", (rf_accuracy))"
      ],
      "metadata": {
        "application/vnd.databricks.v1+cell": {
          "title": "",
          "showTitle": false,
          "inputWidgets": {},
          "nuid": "ec3217bc-a0ae-4d93-b4db-da65478be86e"
        },
        "id": "xkdRgyvLy96c",
        "outputId": "92d060c7-118e-4b80-92d8-fcfeac251b92"
      },
      "outputs": [
        {
          "output_type": "display_data",
          "metadata": {
            "application/vnd.databricks.v1+output": {
              "datasetInfos": [],
              "data": "Accuracy of RandomForestClassifier is =  0.8551724137931035\n",
              "removedWidgets": [],
              "addedWidgets": {},
              "metadata": {},
              "type": "ansi",
              "arguments": {}
            }
          },
          "data": {
            "text/plain": [
              "Accuracy of RandomForestClassifier is =  0.8551724137931035\n"
            ]
          }
        }
      ],
      "execution_count": null
    },
    {
      "cell_type": "markdown",
      "source": [
        "#### - **Model Evaluation with SciKit-Learn: Classification Report**"
      ],
      "metadata": {
        "application/vnd.databricks.v1+cell": {
          "title": "",
          "showTitle": false,
          "inputWidgets": {},
          "nuid": "ee1db01a-5514-497e-895f-06d76ef98ff4"
        },
        "id": "c_LmO8PLy96d"
      }
    },
    {
      "cell_type": "code",
      "source": [
        "from sklearn.metrics import classification_report"
      ],
      "metadata": {
        "application/vnd.databricks.v1+cell": {
          "title": "",
          "showTitle": false,
          "inputWidgets": {},
          "nuid": "940d144c-10ee-4471-8f8b-884814e69013"
        },
        "id": "I4c9X2Iey96d"
      },
      "outputs": [],
      "execution_count": null
    },
    {
      "cell_type": "code",
      "source": [
        "y_true = predictions.select(['Survived']).collect()\n",
        "y_pred = predictions.select(['prediction']).collect()"
      ],
      "metadata": {
        "application/vnd.databricks.v1+cell": {
          "title": "",
          "showTitle": false,
          "inputWidgets": {},
          "nuid": "a180a5a1-98ec-4fc0-9619-264d7321e82a"
        },
        "id": "MvTig39ey96d"
      },
      "outputs": [],
      "execution_count": null
    },
    {
      "cell_type": "code",
      "source": [
        "print(classification_report(y_true, y_pred))"
      ],
      "metadata": {
        "application/vnd.databricks.v1+cell": {
          "title": "",
          "showTitle": false,
          "inputWidgets": {},
          "nuid": "2b2d0f45-9d1d-4500-84b1-e481400cab4c"
        },
        "id": "ZPR0QEHky96d",
        "outputId": "63ca1314-d687-4f21-dbbe-9242279ff3e8"
      },
      "outputs": [
        {
          "output_type": "display_data",
          "metadata": {
            "application/vnd.databricks.v1+output": {
              "datasetInfos": [],
              "data": "              precision    recall  f1-score   support\n\n           0       0.83      0.94      0.88        84\n           1       0.90      0.74      0.81        61\n\n    accuracy                           0.86       145\n   macro avg       0.87      0.84      0.85       145\nweighted avg       0.86      0.86      0.85       145\n\n",
              "removedWidgets": [],
              "addedWidgets": {},
              "metadata": {},
              "type": "ansi",
              "arguments": {}
            }
          },
          "data": {
            "text/plain": [
              "              precision    recall  f1-score   support\n\n           0       0.83      0.94      0.88        84\n           1       0.90      0.74      0.81        61\n\n    accuracy                           0.86       145\n   macro avg       0.87      0.84      0.85       145\nweighted avg       0.86      0.86      0.85       145\n\n"
            ]
          }
        }
      ],
      "execution_count": null
    },
    {
      "cell_type": "markdown",
      "source": [
        "## **Conclusions**:<br>\n",
        "-  **After completing the tasks** it's  fair to say that we managed to **meet the goal we set ourselves** given the **scores we achieved for the metrics commonly used for this dataset with Pyspark**.\n",
        "- The **scores we achieved for the metrics were higher using hyperparameter tuning with CrossValidator than the ones we reached with the baseline model**, as expected.\n",
        "- The model **can be improved** a little, namely in what concerns to **missing age values imputation** and by **using more classifiers**."
      ],
      "metadata": {
        "application/vnd.databricks.v1+cell": {
          "title": "",
          "showTitle": false,
          "inputWidgets": {},
          "nuid": "1fcb8a55-04dc-42a4-b359-15d48b909d24"
        },
        "id": "jclSw-l5y96d"
      }
    }
  ],
  "metadata": {
    "application/vnd.databricks.v1+notebook": {
      "notebookName": "Titanic_Spark",
      "dashboards": [
        {
          "elements": [],
          "guid": "b480e073-5ac3-4f42-b1eb-b8f26d9e1728",
          "layoutOption": {
            "stack": true,
            "grid": true
          },
          "version": "DashboardViewV1",
          "nuid": "a93c0c13-5e22-4508-9e2e-39b9c0ddc485",
          "origId": 482043769287693,
          "title": "Untitled",
          "width": 1024,
          "globalVars": {}
        }
      ],
      "notebookMetadata": {
        "pythonIndentUnit": 4
      },
      "language": "python",
      "widgets": {},
      "notebookOrigID": 4023091891084761
    },
    "colab": {
      "name": "PySpark_Titanic_Colab.ipynb",
      "provenance": [],
      "collapsed_sections": [
        "A_B6n6xey96P",
        "dY9feHOiy96Q",
        "Rukv17VNy96R",
        "V4khqvA6y96S",
        "qTjQDg9yy96T",
        "-vZjyQNcy96T",
        "nuX0SJbay96U",
        "CYtdOfmoy96U",
        "r5IitoKuy96V",
        "V1pYt6rWy96V"
      ]
    }
  },
  "nbformat": 4,
  "nbformat_minor": 0
}